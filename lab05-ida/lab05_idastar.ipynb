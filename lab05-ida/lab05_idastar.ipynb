{
 "cells": [
  {
   "attachments": {},
   "cell_type": "markdown",
   "metadata": {},
   "source": [
    "# Iterative Deepening A* (IDA*) Algorithm \n",
    "\n",
    "The requirement to store the `A*` search tree in memory (`Closed` and `Open` sets) can become a limiting factor for certain problems. The renowned **n-puzzle** (or Gem Puzzle) game is a prime example, particularly when $n > 3$. A potential solution to this challenge is to combine the iterative deepening technique with A*. This approach is known as the IDA* algorithm [(Korf, 1985)](https://academiccommons.columbia.edu/doi/10.7916/D8BK1M9V/download).\n",
    "\n",
    "In this lab, your task is to implement the `IDA*` algorithm for the n-puzzle game and then contrast its performance with `A*`, focusing primarily on runtime and memory usage metrics. To commence, you will need to create your own benchmark.\n",
    "\n",
    "Best of luck!\n",
    "\n",
    "(Korf, 1985) Korf, R.E., 1985. Depth-first iterative-deepening: An optimal admissible tree search. Artificial intelligence, 27(1), pp.97-109. [[PDF](https://academiccommons.columbia.edu/doi/10.7916/D8BK1M9V/download)]"
   ]
  },
  {
   "cell_type": "code",
   "metadata": {
    "ExecuteTime": {
     "end_time": "2024-10-19T11:31:03.875930Z",
     "start_time": "2024-10-19T11:31:02.698354Z"
    }
   },
   "source": [
    "from random import shuffle\n",
    "import copy\n",
    "import numpy as np\n",
    "import matplotlib.pyplot as plt\n",
    "import math\n",
    "from heapq import heappop, heappush\n",
    "from typing import Tuple, List, Iterable, Callable, Type, Dict, Union, Optional, Set\n",
    "import numpy.typing as npt\n",
    "\n",
    "%matplotlib inline\n",
    "\n",
    "STEP_COST = 1"
   ],
   "outputs": [],
   "execution_count": 1
  },
  {
   "attachments": {},
   "cell_type": "markdown",
   "metadata": {},
   "source": [
    "## Gem Puzzle (15-puzzle or n-puzzle)\n",
    "### Representation of a search state\n",
    "\n",
    "Indeed, there may exist many ways to represent a search state for the Gem Puzzle. In this lab, we will use a list of integers as an external encoding of the Gem Puzzle state. This list is assumed to contain numbers from 1 to (*size* * *size*), where *size* is the size of the puzzle. The tile with the number *size* * *size* is a blank tile.\n",
    "\n",
    "For example, the encoding of the start state of the 8-puzzle depicted above will be \\[7,2,4,5,9,6,8,3,1\\]."
   ]
  },
  {
   "cell_type": "code",
   "metadata": {
    "ExecuteTime": {
     "end_time": "2024-10-19T11:31:03.898902Z",
     "start_time": "2024-10-19T11:31:03.884943Z"
    }
   },
   "source": [
    "class GemPuzzleState:\n",
    "    \"\"\"\n",
    "    Implementing a search state (or simply, a state) in code is a crucial first step\n",
    "    necessary for tackling any search problem. The `GemPuzzleState` class is structured\n",
    "    with the following fields:\n",
    "\n",
    "    Attributes\n",
    "    ----------\n",
    "    size : int\n",
    "        Width of the game field.\n",
    "\n",
    "    tile_list : Optional[List[int]]\n",
    "        Tile positions represented as a list of integers from 1 to (size x size).\n",
    "        Each integer corresponds to a tile's value, and its index represents its position\n",
    "        on the game field. The tile with the maximum value is considered the blank.\n",
    "\n",
    "    parent : GemPuzzleState\n",
    "        A pointer to the parent state. The parent is a predecessor of the state in\n",
    "        the search tree. It is used to reconstruct a path to that state from the start\n",
    "        state (the root of the search tree).\n",
    "\n",
    "    blank_pos : int\n",
    "        The position of the empty tile in tile_list. Explicitly\n",
    "        storing the position of a blank helps to generate successors faster.\n",
    "    \"\"\"\n",
    "\n",
    "    def __init__(self, tile_list: Optional[List[int]] = None):\n",
    "        \"\"\"\n",
    "        Constructor. Sets tile positions and performs some basic checks.\n",
    "\n",
    "        Parameters\n",
    "        ----------\n",
    "        tile_list : List[int]\n",
    "            Tile positions as a list of integers from 1 to `size * size`.\n",
    "            The tile with value `size * size` represents the blank position.\n",
    "        \"\"\"\n",
    "        if tile_list is None:\n",
    "            self.size = None\n",
    "            self.blank_pos = None\n",
    "            return\n",
    "\n",
    "        self.tile_list = tile_list\n",
    "        self.size = int(len(tile_list) ** 0.5)\n",
    "\n",
    "        if len(tile_list) != self.size**2:\n",
    "            raise ValueError(\"Tile list size should be a perfect square.\")\n",
    "\n",
    "        # Finding the position of the blank tile\n",
    "        blank_value = self.size**2\n",
    "        self.blank_pos = self.tile_list.index(blank_value) if blank_value in self.tile_list else -1\n",
    "\n",
    "        if self.blank_pos == -1:\n",
    "            raise ValueError(\"State should contain max value indicating the blank tile's position.\")\n",
    "\n",
    "    def __eq__(self, other) -> bool:\n",
    "        \"\"\"\n",
    "        Compares one state with another based on their tile lists.\n",
    "        \"\"\"\n",
    "        return hash(self) == hash(other) and self.tile_list == other.tile_list\n",
    "\n",
    "    def __str__(self) -> str:\n",
    "        \"\"\"\n",
    "        Return a string representation of the game field for printing.\n",
    "        \"\"\"\n",
    "        blank_value = self.size**2\n",
    "        tile_matrix = np.array(self.tile_list).reshape(self.size, self.size)\n",
    "        result = (\n",
    "            str(tile_matrix).replace(\" [\", \"\").replace(\"[\", \"\").replace(\"]\", \"\").replace(str(blank_value), \"_\") + \"\\n\"\n",
    "        )\n",
    "        return result\n",
    "\n",
    "    def __hash__(self):\n",
    "        return hash(str(self.tile_list))"
   ],
   "outputs": [],
   "execution_count": 2
  },
  {
   "attachments": {},
   "cell_type": "markdown",
   "metadata": {},
   "source": [
    "### Get Succesors"
   ]
  },
  {
   "cell_type": "code",
   "metadata": {
    "ExecuteTime": {
     "end_time": "2024-10-19T11:31:03.916814Z",
     "start_time": "2024-10-19T11:31:03.909322Z"
    }
   },
   "source": [
    "def get_successors(state: GemPuzzleState) -> List[GemPuzzleState]:\n",
    "    \"\"\"\n",
    "    Implementing the `get_successors` function is another crucial step in tackling any search problem.\n",
    "    This function is designed to take a specific search state as input and return all possible successor states,\n",
    "    which result from applying all applicable actions to the input state. In the case of GemPuzzle, the successors\n",
    "    correspond to the board states resulting from moving the blank tile up, down, left, or right. If the blank tile\n",
    "    goes out of the field after a move, such a successor should be discarded.\n",
    "\n",
    "    Parameters\n",
    "    ----------\n",
    "    state : GemPuzzleState\n",
    "        The input search state.\n",
    "\n",
    "    Returns\n",
    "    -------\n",
    "    List[GemPuzzleState]\n",
    "        A list containing all possible successor states for the input state.\n",
    "    \"\"\"\n",
    "    successors = []\n",
    "    delta = [(0, 1), (1, 0), (0, -1), (-1, 0)]\n",
    "    for dx, dy in delta:\n",
    "        row = state.blank_pos // state.size\n",
    "        col = state.blank_pos % state.size\n",
    "        row += dx\n",
    "        col += dy\n",
    "\n",
    "        if 0 <= row < state.size and 0 <= col < state.size:\n",
    "            new_state = GemPuzzleState()\n",
    "            new_state.size = state.size\n",
    "            new_state.tile_list = copy.copy(state.tile_list)\n",
    "            new_state.blank_pos = row * state.size + col\n",
    "            new_state.tile_list[state.blank_pos] = new_state.tile_list[new_state.blank_pos]\n",
    "            new_state.tile_list[new_state.blank_pos] = state.size**2\n",
    "            successors.append(new_state)\n",
    "\n",
    "    return successors"
   ],
   "outputs": [],
   "execution_count": 3
  },
  {
   "attachments": {},
   "cell_type": "markdown",
   "metadata": {},
   "source": [
    "## Heuristics Search Implementation"
   ]
  },
  {
   "attachments": {},
   "cell_type": "markdown",
   "metadata": {},
   "source": [
    "### Search Node\n",
    "\n",
    "A Search node is a fundamental concept in heuristic search algorithms. It encapsulates data about the state of the problem (e.g., the position of a robot or agent on a grid) and the information needed to construct a search tree, including g-values, h-values, f-values, and a backpointer to its predecessor.\n"
   ]
  },
  {
   "cell_type": "code",
   "metadata": {
    "ExecuteTime": {
     "end_time": "2024-10-19T11:31:03.931897Z",
     "start_time": "2024-10-19T11:31:03.920328Z"
    }
   },
   "source": [
    "class Node:\n",
    "    \"\"\"\n",
    "    Node class represents a search node\n",
    "    \n",
    "    Attributes\n",
    "    ----------\n",
    "    state : GemPuzzleState\n",
    "        The state of the game corresponding to the node\n",
    "        \n",
    "    g : float | int\n",
    "        g-value of the node\n",
    "        \n",
    "    h : float | int \n",
    "        h-value of the node // always 0 for Dijkstra\n",
    "        \n",
    "    f : float | int \n",
    "        f-value of the node // always equal to g-value for Dijkstra\n",
    "        \n",
    "    parent : Node \n",
    "        Pointer to the parent-node \n",
    "    \"\"\"\n",
    "        \n",
    "    def __init__(self, state, g = 0, h = 0, f = None, parent = None):\n",
    "        self.state = state\n",
    "        self.g = g\n",
    "        self.h = h\n",
    "        if f is None:\n",
    "            self.f = self.g + h\n",
    "        else:\n",
    "            self.f = f        \n",
    "        self.parent = parent\n",
    "\n",
    "    \n",
    "    def __eq__(self, other):\n",
    "        '''\n",
    "        Estimating where the two search nodes are the same,\n",
    "        which is needed to detect dublicates in the search tree.\n",
    "        '''\n",
    "\n",
    "        return self.state == other.state\n",
    "    \n",
    "    \n",
    "    def __hash__(self):\n",
    "        '''\n",
    "        To implement CLOSED as set of nodes we need Node to be hashable.\n",
    "        '''\n",
    "        \n",
    "        return hash(self.state)\n",
    "\n",
    "    \n",
    "    def __str__(self):\n",
    "        '''\n",
    "        Converts corrsponding game state to formatted string\n",
    "        '''\n",
    "        \n",
    "        return str(self.state)\n",
    "\n",
    "\n",
    "    def __lt__(self, other): \n",
    "        '''\n",
    "        Comparing the keys (i.e. the f-values) of two nodes,\n",
    "        which is needed to sort/extract the best element from OPEN.\n",
    "        '''\n",
    "\n",
    "        return self.f < other.f"
   ],
   "outputs": [],
   "execution_count": 4
  },
  {
   "attachments": {},
   "cell_type": "markdown",
   "metadata": {},
   "source": [
    "### Implementing the Search Tree (i.e. OPEN and CLOSED)\n",
    "\n",
    "Efficient implementation of the search tree (`Open` and `Closed`) is crucial for `A*` search algorithm. You should use your efficient implementation of the search tree that you've created in the previous lab."
   ]
  },
  {
   "cell_type": "code",
   "metadata": {
    "ExecuteTime": {
     "end_time": "2024-10-19T11:31:04.286483Z",
     "start_time": "2024-10-19T11:31:04.275847Z"
    }
   },
   "source": [
    "import heapq\n",
    "\n",
    "class SearchTreePQD:  #Куча см какую-то библиотечку \n",
    "    # см вершину из open, если was expended, то увеличиваем дубликаты, иначе отдаем в процесс\n",
    "    \"\"\"\n",
    "    SearchTree using a priority queue for OPEN and a dictionary for CLOSED.\n",
    "    \"\"\"\n",
    "\n",
    "    def __init__(self):\n",
    "        self._open = []  # Priority queue for nodes in OPEN\n",
    "        heapq.heapify(self._open)\n",
    "        self._closed = dict()  # Dictionary for nodes in CLOSED (expanded nodes)\n",
    "        self._enc_open_duplicates = 0  # Number of duplicates encountered in OPEN\n",
    "\n",
    "    def __len__(self) -> int:\n",
    "        \"\"\"\n",
    "        Returns the size of the search tree. Useful for assessing the memory\n",
    "        footprint of the algorithm, especially at the final iteration.\n",
    "        \"\"\"\n",
    "        return len(self._open) + len(self._closed)\n",
    "\n",
    "    def open_is_empty(self) -> bool:\n",
    "        \"\"\"\n",
    "        Checks if OPEN is empty.\n",
    "        If true, the main search loop should be interrupted.\n",
    "        \"\"\"\n",
    "        return len(self._open) == 0\n",
    "\n",
    "    def add_to_open(self, item: Node):\n",
    "        \"\"\"\n",
    "        Adds a node to the search tree, specifically to OPEN. This node is either\n",
    "        entirely new or a duplicate of an existing node in OPEN.\n",
    "        This implementation detects duplicates lazily; thus, nodes are added to\n",
    "        OPEN without initial duplicate checks.\n",
    "        \"\"\"\n",
    "        heapq.heappush(self._open, item)\n",
    "\n",
    "    def get_best_node_from_open(self) -> Optional[Node]:\n",
    "        \"\"\"\n",
    "        Retrieves the best node from OPEN, defined by the minimum key.\n",
    "        This node will then be expanded in the main search loop.\n",
    "\n",
    "        Duplicates are managed here. If a node has been expanded previously\n",
    "        (and is in CLOSED), it's skipped and the next best node is considered.\n",
    "\n",
    "        Returns None if OPEN is empty.\n",
    "        \"\"\"\n",
    "        while not self.open_is_empty():\n",
    "            if self.was_expanded(best_node := heapq.heappop(self._open)):\n",
    "                self._enc_open_duplicates += 1      \n",
    "            else:\n",
    "                return best_node\n",
    "                \n",
    "        return None\n",
    "\n",
    "    def add_to_closed(self, item: Node):\n",
    "        \"\"\"\n",
    "        Adds a node to the CLOSED dictionary.\n",
    "        \"\"\"\n",
    "        self._closed[hash(item)] = item\n",
    "\n",
    "    def was_expanded(self, item: Node) -> bool:\n",
    "        \"\"\"\n",
    "        Checks if a node has been previously expanded.\n",
    "        \"\"\"\n",
    "        return hash(item) in self._closed\n",
    "\n",
    "    @property\n",
    "    def opened(self):\n",
    "        return self._open\n",
    "\n",
    "    @property\n",
    "    def expanded(self):\n",
    "        return self._closed.values()\n",
    "\n",
    "    @property\n",
    "    def number_of_open_duplicates(self):\n",
    "        return self._enc_open_duplicates"
   ],
   "outputs": [],
   "execution_count": 5
  },
  {
   "attachments": {},
   "cell_type": "markdown",
   "metadata": {},
   "source": [
    "### Heuristics\n",
    "\n",
    "You need to implement 2 most common *admissible* heuristic functions for the n-puzzle.\n",
    "- Hamming distance (the number of the misplaced tiles on the board)\n",
    "- Manhattan distance (the sum of manhatten distances for each tile)."
   ]
  },
  {
   "cell_type": "code",
   "metadata": {
    "ExecuteTime": {
     "end_time": "2024-10-19T11:31:04.302260Z",
     "start_time": "2024-10-19T11:31:04.295107Z"
    }
   },
   "source": [
    "def hamming_distance(state1: GemPuzzleState, state2: GemPuzzleState) -> int:\n",
    "    \"\"\"\n",
    "    Implementation of Hamming heuristic.\n",
    "    The blank tile is not checked when calculating the Hamming distance.\n",
    "\n",
    "    Parameters\n",
    "    ----------\n",
    "    state1 : GemPuzzleState\n",
    "        Representation of the first state.\n",
    "    state2 : GemPuzzleState\n",
    "        Representation of the second state.\n",
    "\n",
    "    Returns\n",
    "    ----------\n",
    "    int\n",
    "        Hamming distance between two states.     \n",
    "    \"\"\"\n",
    "    \n",
    "    if state1.size != state2.size:\n",
    "        raise ValueError(\"States must have the same size\")\n",
    "    \n",
    "    distance = 0\n",
    "    \n",
    "    for i in range(state1.size ** 2):\n",
    "        if state1.tile_list[i] != state2.tile_list[i] and i != state1.blank_pos:\n",
    "            distance += 1\n",
    "        \n",
    "    return distance"
   ],
   "outputs": [],
   "execution_count": 6
  },
  {
   "metadata": {
    "ExecuteTime": {
     "end_time": "2024-10-19T11:31:04.348391Z",
     "start_time": "2024-10-19T11:31:04.336879Z"
    }
   },
   "cell_type": "code",
   "source": [
    "def manhattan_distance(state1: GemPuzzleState, state2: GemPuzzleState) -> int:\n",
    "    \"\"\"\n",
    "    Computes the Manhattan distance between two Gem Puzzle states. \n",
    "    The blank tile is not checked when calculating the Manhattan distance.\n",
    "\n",
    "    Parameters\n",
    "    ----------\n",
    "    state1 : GemPuzzleState\n",
    "        Representation of the first state.\n",
    "    state2 : GemPuzzleState\n",
    "        Representation of the second state.\n",
    "\n",
    "    Returns\n",
    "    ----------\n",
    "    int\n",
    "        Manhattan distance between two states.\n",
    "    \"\"\"\n",
    "    \n",
    "    if state1.size != state2.size:\n",
    "        raise ValueError(\"States must have the same size\")\n",
    "\n",
    "    size = state1.size\n",
    "    distance = 0\n",
    "    blank_value = size ** 2\n",
    "\n",
    "    for i in range(size ** 2):\n",
    "        tile = state1.tile_list[i]\n",
    "        if i != state1.blank_pos:\n",
    "            j = state2.tile_list.index(tile)\n",
    "            \n",
    "            row1, col1 = divmod(i, size)\n",
    "            row2, col2 = divmod(j, size)\n",
    "            \n",
    "            distance += abs(row1 - row2) + abs(col1 - col2)\n",
    "\n",
    "    return distance"
   ],
   "outputs": [],
   "execution_count": 7
  },
  {
   "attachments": {},
   "cell_type": "markdown",
   "metadata": {},
   "source": [
    "### A* Algorithm\n",
    "\n",
    "Adapt the A* algorithm for the gem puzzle and for forthcoming experiments.\n",
    "\n",
    "The input of `A*` algorithm should be:\n",
    "- start/goal states\n",
    "- heuristic function\n",
    "- the reference to the implementation of the search tree\n",
    "\n",
    "The output of the algorithm should be:\n",
    "- path found flag (`True` or `False`)\n",
    "- last node of the path (so one can unwind it using the parent-pointers and get the full path)\n",
    "- the number of steps (iterations of the main loop)\n",
    "- the number of nodes that compose the search tree at the final iteration of the algorithm (=the size of the resultant search tree)"
   ]
  },
  {
   "cell_type": "code",
   "metadata": {
    "ExecuteTime": {
     "end_time": "2024-10-19T11:31:04.376137Z",
     "start_time": "2024-10-19T11:31:04.356561Z"
    }
   },
   "source": [
    "def astar(\n",
    "    start_state: GemPuzzleState, goal_state: GemPuzzleState, heuristic_func: Callable, search_tree: Type[SearchTreePQD]\n",
    ") -> Tuple[bool, Optional[Node], int, int]:\n",
    "    \"\"\"\n",
    "    Implementation of A* algorithm.\n",
    "    \"\"\"\n",
    "\n",
    "    ast = search_tree()  # A* search tree\n",
    "    steps = 0\n",
    "    search_tree_size = 0\n",
    "\n",
    "    start_node = Node(start_state, g=0, h=heuristic_func(start_state, goal_state))\n",
    "    ast.add_to_open(start_node)\n",
    "    \n",
    "    while not ast.open_is_empty():\n",
    "        new_node = ast.get_best_node_from_open()\n",
    "        \n",
    "        if new_node is None:\n",
    "            search_tree_size = len(ast)\n",
    "            return False, None, steps, search_tree_size\n",
    "        \n",
    "        steps += 1\n",
    "        ast.add_to_closed(new_node)\n",
    "                \n",
    "        if new_node.state == goal_state:\n",
    "            search_tree_size = len(ast)\n",
    "            return True, new_node, steps, search_tree_size\n",
    "        \n",
    "        for state in get_successors(new_node.state):\n",
    "            node_to_open = Node(state, g=new_node.g + 1, h=heuristic_func(state, goal_state), parent=new_node)\n",
    "            if not ast.was_expanded(node_to_open):\n",
    "                ast.add_to_open(node_to_open)\n",
    "    \n",
    "    search_tree_size = len(ast)\n",
    "    return False, None, steps, search_tree_size"
   ],
   "outputs": [],
   "execution_count": 8
  },
  {
   "attachments": {},
   "cell_type": "markdown",
   "metadata": {},
   "source": [
    "### IDA* Algorithm\n",
    "\n",
    "Implement the IDA* algorithm.\n",
    "\n",
    "- Only nodes that form the current path in the search tree need to be retained.\n",
    "- It's acceptable to check if the generated successors have already been encountered on the currently explored path.\n",
    "- The input and output formats of the algorithm should be similar to `A*`."
   ]
  },
  {
   "cell_type": "code",
   "metadata": {
    "ExecuteTime": {
     "end_time": "2024-10-19T11:31:04.395193Z",
     "start_time": "2024-10-19T11:31:04.384452Z"
    }
   },
   "source": [
    "import math\n",
    "\n",
    "def idastar(\n",
    "    start_state: GemPuzzleState, goal_state: GemPuzzleState, heuristic_func: Callable\n",
    ") -> Tuple[bool, Optional[Node], int, int]:\n",
    "    \"\"\"\n",
    "    Implementation of IDA* algorithm.\n",
    "    \"\"\"\n",
    "    \n",
    "    def recursive_search(\n",
    "        cur_node: Node, goal_state: GemPuzzleState, bound: int, path: set, heuristic_func: Callable\n",
    ") -> Tuple[bool, int, Optional[Node], set]:\n",
    "        \n",
    "        if cur_node.f > bound:\n",
    "            return False, cur_node.f, cur_node, path\n",
    "        \n",
    "        if cur_node.state == goal_state:\n",
    "            return True, cur_node.f, cur_node, path\n",
    "        \n",
    "        min_next_f = float('inf')\n",
    "        \n",
    "        for state in get_successors(cur_node.state):\n",
    "            new_node = Node(state, g=cur_node.g + 1, h=heuristic_func(state, goal_state), parent=cur_node)\n",
    "            \n",
    "            if new_node not in path:\n",
    "                \n",
    "                path.add(new_node)\n",
    "            \n",
    "                found, next_f, result_n, result_path = recursive_search(new_node, goal_state, bound, path, heuristic_func)\n",
    "            \n",
    "                if found:\n",
    "                    return True, next_f, result_n, result_path\n",
    "            \n",
    "                if next_f < min_next_f:\n",
    "                    min_next_f = next_f\n",
    "            \n",
    "                path.remove(new_node)\n",
    "        \n",
    "        return False, min_next_f, None, path    \n",
    "    \n",
    "    bound = heuristic_func(start_state, goal_state)\n",
    "    root = Node(start_state, g=0, h=bound)\n",
    "    path = {root}\n",
    "    steps = 0\n",
    "    \n",
    "    while True:\n",
    "        steps += 1\n",
    "        found, next_bound, result_node, result_path = recursive_search(root, goal_state, bound, path, heuristic_func)\n",
    "        \n",
    "        if found:\n",
    "            return True, result_node, steps, len(result_path)\n",
    "        \n",
    "        if math.isinf(next_bound):\n",
    "            return False, None, steps, len(result_path)\n",
    "        \n",
    "        bound = next_bound"
   ],
   "outputs": [],
   "execution_count": 9
  },
  {
   "attachments": {},
   "cell_type": "markdown",
   "metadata": {},
   "source": [
    "## Experiment\n",
    "\n",
    "### Create Dataset\n",
    "\n",
    "For this task, you are required to create your own test dataset and utilize it in the experiments.\n",
    "\n",
    "Sample instances can be found in `data/tasks_gem.txt`.\n",
    "\n",
    "You must generate and add at least 30 more instances (specifically, 8-puzzles) to the file for the experimental runs. Random generation is an option. If you choose to generate puzzles randomly, remember to check the solvability of each instance. It's important to note that not all n-puzzles are solvable.\n"
   ]
  },
  {
   "cell_type": "code",
   "metadata": {
    "ExecuteTime": {
     "end_time": "2024-10-19T11:31:04.423349Z",
     "start_time": "2024-10-19T11:31:04.415434Z"
    }
   },
   "source": [
    "def is_solvable(tile_list: List[int]) -> bool:\n",
    "    \"\"\"\n",
    "    Checks that task is solvable.\n",
    "\n",
    "    Parameters\n",
    "    ----------\n",
    "    tile_list : List[int]\n",
    "        Tile positions represented as a list of integers. This list is expected to contain\n",
    "        values from 1 to (size x size). Each integer value corresponds to a tile and\n",
    "        the position in the list (index) corresponds to the position of the tile on the game field.\n",
    "        Tile with the value (size x size) is assumed to represent blank position.\n",
    "\n",
    "    Returns\n",
    "    ----------\n",
    "    bool\n",
    "        Task is solvable.\n",
    "    \"\"\"\n",
    "    inversions = 0\n",
    "    puzzle_except_empty = [(i, v) for i, v in enumerate(tile_list) if v != len(tile_list)]\n",
    "\n",
    "    for idx, (i, tile) in enumerate(puzzle_except_empty):\n",
    "        for j, next_tile in puzzle_except_empty[idx + 1 :]:\n",
    "            if next_tile < tile:\n",
    "                inversions += 1\n",
    "\n",
    "    size = int(math.sqrt(len(tile_list)))\n",
    "    if size % 2 != 0 and inversions % 2 == 0:\n",
    "        return True\n",
    "    if size % 2 == 0:\n",
    "        empty_row = size - tile_list.index(len(tile_list)) // size\n",
    "        return (empty_row % 2 != 0) == (inversions % 2 == 0)\n",
    "    return False"
   ],
   "outputs": [],
   "execution_count": 11
  },
  {
   "cell_type": "code",
   "metadata": {
    "ExecuteTime": {
     "end_time": "2024-10-19T11:31:04.439518Z",
     "start_time": "2024-10-19T11:31:04.432060Z"
    }
   },
   "source": [
    "def generate_random_tile_list(size: int) -> List[int]:\n",
    "    tile_list = [i + 1 for i in range(size**2)]\n",
    "    shuffle(tile_list)\n",
    "    return tile_list\n",
    "\n",
    "\n",
    "def get_manhattan_distance(tile_list: List[int]) -> int:\n",
    "    goal_tile_list = list(range(1, len(tile_list) + 1))\n",
    "    start_state = GemPuzzleState(tile_list)\n",
    "    goal_state = GemPuzzleState(goal_tile_list)\n",
    "    return manhattan_distance(start_state, goal_state)\n",
    "\n",
    "\n",
    "def is_acceptable_task(tile_list: List[int], max_distance: int = 12) -> bool:\n",
    "    if not is_solvable(tile_list):\n",
    "        return False\n",
    "    if get_manhattan_distance(tile_list) > max_distance:\n",
    "        return False\n",
    "    return True\n",
    "\n",
    "\n",
    "def generate_tasks(task_file_path: str, number_of_tasks: int, size: int):\n",
    "    \"\"\"\n",
    "    Generates number_of_tasks random tasks with specified size.\n",
    "\n",
    "    Parameters\n",
    "    ----------\n",
    "    task_file_path : str\n",
    "        Path to the file for writing tasks.\n",
    "    number_of_tasks : int\n",
    "        Required number of tasks to generate.\n",
    "    size : int\n",
    "        Required size of game fields in tasks.\n",
    "    \"\"\"\n",
    "    with open(task_file_path, \"a\") as tasks_file:\n",
    "        for _ in range(number_of_tasks):\n",
    "            tile_list = generate_random_tile_list(size)\n",
    "\n",
    "            while not is_acceptable_task(tile_list):\n",
    "                tile_list = generate_random_tile_list(size)\n",
    "\n",
    "            tasks_file.write(\" \".join(map(str, tile_list)) + \"\\n\")\n",
    "            print(*tile_list, \"Manhattan distance\", get_manhattan_distance(tile_list))"
   ],
   "outputs": [],
   "execution_count": 12
  },
  {
   "cell_type": "code",
   "metadata": {
    "ExecuteTime": {
     "end_time": "2024-10-19T11:31:04.453558Z",
     "start_time": "2024-10-19T11:31:04.447612Z"
    }
   },
   "source": [
    "# Use it only once\n",
    "# generate_tasks(\"data/tasks_gem.txt\", 30, 3)"
   ],
   "outputs": [],
   "execution_count": 13
  },
  {
   "attachments": {},
   "cell_type": "markdown",
   "metadata": {},
   "source": [
    "It is convenient to have a procedure that accepts both a search algorithm and a heuristic function (e.g., `IDA*` + Manhattan distance) as parameters, runs tests, and saves the results for subsequent analysis.\n",
    "\n",
    "The `massive_test` function presumes that the search function adheres to the following template:\n",
    "\n",
    "```\n",
    "search(start_state, goal_state, *optional arguments*) -> (path_found, last_state, steps, search_tree_size)\n",
    "```\n",
    "where\n",
    "- `start_state/goal_state` — start and goal states, in the form of `GemPuzzleState` \n",
    "- `*optional arguments*` — additional parameters of the search function, passed usin `*args`. For instance, the heuristic function.\n",
    "- `path_found` — `True` if path was found, `False` otherwise\n",
    "- `last_state` — last state of the path. `None` if path was not found\n",
    "- `steps` —  the number of search steps\n",
    "- `search_tree_size` — the number of nodes that compose the search tree at the final iteration of the algorithm (=the size of the resultant search tree)"
   ]
  },
  {
   "cell_type": "code",
   "metadata": {
    "ExecuteTime": {
     "end_time": "2024-10-19T11:31:04.473799Z",
     "start_time": "2024-10-19T11:31:04.462849Z"
    }
   },
   "source": [
    "import traceback\n",
    "\n",
    "\n",
    "def massive_test(search_function: Callable, data_path: str, *args) -> Dict:\n",
    "    \"\"\"\n",
    "    The `massive_test` function runs the `search_function` on a set of different tasks\n",
    "    (for example, from the directory `data/`) using *args as optional arguments.\n",
    "\n",
    "    The function returns a dictionary containing statistics with the following keys:\n",
    "     - \"len\" — the length of each path (0.0 if a path wasn't found).\n",
    "     - \"st_size\" — the size of the resultant search tree for each task.\n",
    "     - \"steps\" — the number of algorithm steps for each task.\n",
    "\n",
    "    Parameters\n",
    "    ----------\n",
    "    search_function : Callable\n",
    "        The implemented search method.\n",
    "    data_path : str\n",
    "        Path to the directory containing tasks.\n",
    "\n",
    "    Returns\n",
    "    -------\n",
    "    stat : Dict\n",
    "        A dictionary containing statistics.\n",
    "    \"\"\"\n",
    "\n",
    "    stat = {\n",
    "        \"len\": [],\n",
    "        \"st_size\": [],\n",
    "        \"steps\": [],\n",
    "    }\n",
    "\n",
    "    with open(data_path) as tasks_file:\n",
    "        for task_num, line in enumerate(tasks_file):\n",
    "            if not line.strip():\n",
    "                continue\n",
    "\n",
    "            start_tile_list = list(map(int, line.split()))\n",
    "            goal_tile_list = list(range(1, len(start_tile_list) + 1))\n",
    "            start_state = GemPuzzleState(start_tile_list)\n",
    "            goal_state = GemPuzzleState(goal_tile_list)\n",
    "\n",
    "            try:\n",
    "                found, last_state, number_of_steps, search_tree_size = search_function(start_state, goal_state, *args)\n",
    "\n",
    "                if found:\n",
    "                    stat[\"len\"].append(last_state.g)\n",
    "                else:\n",
    "                    stat[\"len\"].append(0.0)\n",
    "\n",
    "                stat[\"st_size\"].append(search_tree_size)\n",
    "                stat[\"steps\"].append(number_of_steps)\n",
    "\n",
    "            except Exception as e:\n",
    "                print(f\"Task: #{task_num}. Execution error: {e}\")\n",
    "                traceback.print_exc()\n",
    "\n",
    "    return {k: np.array(v) for k, v in stat.items()}"
   ],
   "outputs": [],
   "execution_count": 14
  },
  {
   "attachments": {},
   "cell_type": "markdown",
   "metadata": {},
   "source": [
    "### Run Tests\n",
    "Run `A*` and `IDA*` with different heuristics on the generated instances and collect the results for further analysis."
   ]
  },
  {
   "cell_type": "code",
   "metadata": {
    "tags": [],
    "ExecuteTime": {
     "end_time": "2024-10-19T11:31:06.202691Z",
     "start_time": "2024-10-19T11:31:04.482994Z"
    }
   },
   "source": [
    "%time astar_manh_stat = massive_test(astar, 'data/tasks_gem.txt', manhattan_distance, SearchTreePQD)"
   ],
   "outputs": [
    {
     "name": "stdout",
     "output_type": "stream",
     "text": [
      "CPU times: total: 1.11 s\n",
      "Wall time: 1.71 s\n"
     ]
    }
   ],
   "execution_count": 15
  },
  {
   "cell_type": "code",
   "metadata": {
    "ExecuteTime": {
     "end_time": "2024-10-19T11:31:14.364322Z",
     "start_time": "2024-10-19T11:31:06.221933Z"
    }
   },
   "source": [
    "%time astar_hamm_stat = massive_test(astar, 'data/tasks_gem.txt', hamming_distance, SearchTreePQD)"
   ],
   "outputs": [
    {
     "name": "stdout",
     "output_type": "stream",
     "text": [
      "CPU times: total: 7.06 s\n",
      "Wall time: 8.13 s\n"
     ]
    }
   ],
   "execution_count": 16
  },
  {
   "cell_type": "code",
   "metadata": {
    "ExecuteTime": {
     "end_time": "2024-10-19T11:31:17.794861Z",
     "start_time": "2024-10-19T11:31:14.373561Z"
    }
   },
   "source": "%time idastar_manh_stat = massive_test(idastar, 'data/tasks_gem.txt', manhattan_distance)",
   "outputs": [
    {
     "name": "stdout",
     "output_type": "stream",
     "text": [
      "CPU times: total: 2.62 s\n",
      "Wall time: 3.41 s\n"
     ]
    }
   ],
   "execution_count": 17
  },
  {
   "cell_type": "code",
   "metadata": {
    "ExecuteTime": {
     "end_time": "2024-10-19T11:31:55.481333Z",
     "start_time": "2024-10-19T11:31:17.816844Z"
    }
   },
   "source": [
    "%time idastar_hamm_stat = massive_test(idastar, 'data/tasks_gem.txt', hamming_distance)"
   ],
   "outputs": [
    {
     "name": "stdout",
     "output_type": "stream",
     "text": [
      "CPU times: total: 27.2 s\n",
      "Wall time: 37.6 s\n"
     ]
    }
   ],
   "execution_count": 18
  },
  {
   "attachments": {},
   "cell_type": "markdown",
   "metadata": {},
   "source": [
    "Finally, try to measure the real time/memory consumption on certain instances."
   ]
  },
  {
   "cell_type": "code",
   "metadata": {
    "ExecuteTime": {
     "end_time": "2024-10-19T11:31:55.746678Z",
     "start_time": "2024-10-19T11:31:55.559510Z"
    }
   },
   "source": [
    "# to measure the memory consumtion in absolute values you can use the 'memory_profiler'\n",
    "# package (you may need installation)\n",
    "\n",
    "%reload_ext memory_profiler"
   ],
   "outputs": [],
   "execution_count": 19
  },
  {
   "cell_type": "code",
   "metadata": {
    "ExecuteTime": {
     "end_time": "2024-10-19T11:31:55.763136Z",
     "start_time": "2024-10-19T11:31:55.757352Z"
    }
   },
   "source": [
    "start_tile_list_str = \"1 2 10 8 12 14 6 4 15 13 5 3 9 7 11 16\"  # You can try a harder instance if you like\n",
    "start_tile_list = list(map(int, start_tile_list_str.split()))\n",
    "goal_tile_list = list(range(1, len(start_tile_list) + 1))\n",
    "start_state = GemPuzzleState(start_tile_list)\n",
    "goal_state = GemPuzzleState(goal_tile_list)"
   ],
   "outputs": [],
   "execution_count": 20
  },
  {
   "cell_type": "code",
   "metadata": {
    "ExecuteTime": {
     "end_time": "2024-10-19T11:33:12.517345Z",
     "start_time": "2024-10-19T11:31:55.774166Z"
    }
   },
   "source": [
    "%%time\n",
    "%memit idastar(start_state, goal_state, manhattan_distance)"
   ],
   "outputs": [
    {
     "name": "stdout",
     "output_type": "stream",
     "text": [
      "peak memory: 115.43 MiB, increment: 0.09 MiB\n",
      "CPU times: total: 57.8 s\n",
      "Wall time: 1min 16s\n"
     ]
    }
   ],
   "execution_count": 21
  },
  {
   "cell_type": "code",
   "metadata": {
    "ExecuteTime": {
     "end_time": "2024-10-19T11:33:53.613046Z",
     "start_time": "2024-10-19T11:33:12.613002Z"
    }
   },
   "source": [
    "%%time\n",
    "%memit astar(start_state, goal_state, manhattan_distance, SearchTreePQD)"
   ],
   "outputs": [
    {
     "name": "stdout",
     "output_type": "stream",
     "text": [
      "peak memory: 907.47 MiB, increment: 792.10 MiB\n",
      "CPU times: total: 33.2 s\n",
      "Wall time: 41 s\n"
     ]
    }
   ],
   "execution_count": 22
  },
  {
   "attachments": {},
   "cell_type": "markdown",
   "metadata": {},
   "source": [
    "### Results Analisys \n",
    "Analyze the obtained results and vizualize them as plots/tables. Write a short report in the separate cell."
   ]
  },
  {
   "cell_type": "code",
   "metadata": {
    "ExecuteTime": {
     "end_time": "2024-10-19T11:33:53.715791Z",
     "start_time": "2024-10-19T11:33:53.694484Z"
    }
   },
   "source": [
    "eq_tasks = (\n",
    "    (astar_hamm_stat[\"len\"] == astar_manh_stat[\"len\"])\n",
    "    & (astar_hamm_stat[\"len\"] == idastar_manh_stat[\"len\"])\n",
    "    & (astar_hamm_stat[\"len\"] == idastar_hamm_stat[\"len\"])\n",
    ")\n",
    "\n",
    "eq_tasks_num = np.sum(eq_tasks)\n",
    "all_tasls_num = len(astar_manh_stat[\"len\"])\n",
    "print(\"The path lengths are the same in\", (eq_tasks_num / all_tasls_num) * 100, \"% of cases\")\n",
    "\n",
    "astar_manh_mem = astar_manh_stat[\"st_size\"].mean()\n",
    "astar_hamm_mem = astar_hamm_stat[\"st_size\"].mean()\n",
    "idastar_manh_mem = idastar_manh_stat[\"st_size\"].mean()\n",
    "idastar_hamm_mem = idastar_hamm_stat[\"st_size\"].mean()\n",
    "\n",
    "astar_manh_steps = astar_manh_stat[\"steps\"].mean()\n",
    "astar_hamm_steps = astar_hamm_stat[\"steps\"].mean()\n",
    "idastar_manh_steps = idastar_manh_stat[\"steps\"].mean()\n",
    "idastar_hamm_steps = idastar_hamm_stat[\"steps\"].mean()"
   ],
   "outputs": [
    {
     "name": "stdout",
     "output_type": "stream",
     "text": [
      "The path lengths are the same in 100.0 % of cases\n"
     ]
    }
   ],
   "execution_count": 23
  },
  {
   "cell_type": "code",
   "metadata": {
    "ExecuteTime": {
     "end_time": "2024-10-19T11:33:53.980975Z",
     "start_time": "2024-10-19T11:33:53.741773Z"
    }
   },
   "source": [
    "fig = plt.figure()\n",
    "ax = fig.add_axes([0, 0, 1, 1])\n",
    "ax.set_title(\"Average number of nodes stored in memory (= memory usage)\")\n",
    "alg = [\"A* (Manh)\", \"A* (Hamm)\", \"IDA* (Manh)\", \"IDA* (Hamm)\"]\n",
    "mem = [astar_manh_mem, astar_hamm_mem, idastar_manh_mem, idastar_hamm_mem]\n",
    "ax.bar(alg, mem)\n",
    "plt.show()\n",
    "\n",
    "astar_manh_mem, astar_hamm_mem, idastar_manh_mem, idastar_hamm_mem"
   ],
   "outputs": [
    {
     "data": {
      "text/plain": [
       "<Figure size 640x480 with 1 Axes>"
      ],
      "image/png": "[encoded data removed]"
     },
     "metadata": {},
     "output_type": "display_data"
    },
    {
     "data": {
      "text/plain": [
       "(1169.195652173913, 7680.489130434783, 19.72826086956522, 19.72826086956522)"
      ]
     },
     "execution_count": 24,
     "metadata": {},
     "output_type": "execute_result"
    }
   ],
   "execution_count": 24
  },
  {
   "cell_type": "code",
   "metadata": {
    "ExecuteTime": {
     "end_time": "2024-10-19T11:33:54.104765Z",
     "start_time": "2024-10-19T11:33:54.004952Z"
    }
   },
   "source": [
    "fig = plt.figure()\n",
    "ax = fig.add_axes([0, 0, 1, 1])\n",
    "ax.set_title(\"Average number of steps\")\n",
    "alg = [\"A* (Manh)\", \"A* (Hamm)\", \"IDA* (Manh)\", \"IDA* (Hamm)\"]\n",
    "sts = [astar_manh_steps, astar_hamm_steps, idastar_manh_steps, idastar_hamm_steps]\n",
    "ax.bar(alg, sts)\n",
    "plt.show()\n",
    "\n",
    "astar_manh_steps, astar_hamm_steps, idastar_manh_steps, idastar_hamm_steps"
   ],
   "outputs": [
    {
     "data": {
      "text/plain": [
       "<Figure size 640x480 with 1 Axes>"
      ],
      "image/png": "[encoded data removed]"
     },
     "metadata": {},
     "output_type": "display_data"
    },
    {
     "data": {
      "text/plain": [
       "(727.8913043478261, 4873.45652173913, 5.184782608695652, 13.304347826086957)"
      ]
     },
     "execution_count": 25,
     "metadata": {},
     "output_type": "execute_result"
    }
   ],
   "execution_count": 25
  },
  {
   "attachments": {},
   "cell_type": "markdown",
   "metadata": {},
   "source": "Как можно видеть из полученных результатов, несмотря на большее время работы, idastar, как и ожидалось, значительно оптимальнее astar по памяти (как по измеренным параметрам памяти, так и по размеру дерева). Также значительно меньшим является среднее число сделанных шагов (однако сравнение этой величины между алгоритмами не кажется корректным из-за принципиально разного типа \"шагов\"). Дополнительно можно сделать вывод о том, что манхэттенская эвристика является предпочтительной в сравнении с эвристикой хэмминга для обоих алгоритмов: она дает значимое улучшение как по времени, так и по памяти. "
  },
  {
   "metadata": {},
   "cell_type": "code",
   "outputs": [],
   "execution_count": null,
   "source": ""
  }
 ],
 "metadata": {
  "kernelspec": {
   "display_name": "Python 3 (ipykernel)",
   "language": "python",
   "name": "python3"
  },
  "language_info": {
   "codemirror_mode": {
    "name": "ipython",
    "version": 3
   },
   "file_extension": ".py",
   "mimetype": "text/x-python",
   "name": "python",
   "nbconvert_exporter": "python",
   "pygments_lexer": "ipython3",
   "version": "3.10.8"
  }
 },
 "nbformat": 4,
 "nbformat_minor": 4
}
