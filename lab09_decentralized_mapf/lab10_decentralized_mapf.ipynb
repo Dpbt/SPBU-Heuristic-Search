{
  "cells": [
    {
      "cell_type": "markdown",
      "metadata": {
        "id": "Weezq9am-P-N"
      },
      "source": [
        "## Decentralized Multi-agent Pathfinding (MAPF)\n",
        "\n",
        "In this lab, we will explore the decentralized multi-agent pathfinding problem (decentralized MAPF).\n",
        "\n",
        "In earlier labs, we focused on various single-agent algorithms. In the previous lab, we tackled the prioritized MAPF problem, where each agent was assigned a unique priority. The trajectories for individual agents were planned sequentially, starting from the highest priority and moving to the lowest. While this approach extended our single-agent algorithms to address more real-world-centered problems, it still imposed certain restrictions on planning. Today, we will delve into a scenario where agents are planned independently, without any specific priority. Each agent considers others as obstacles in their pathfinding process.\n",
        "\n",
        "We can formally represent this problem as a Markov Decision Process (MDP)."
      ]
    },
    {
      "cell_type": "markdown",
      "metadata": {
        "id": "x63NPH9sngPz"
      },
      "source": [
        "## Markov Decision Process (MDP)\n",
        "\n",
        "<img src=\"./img/mdp.png\" alt=\"drawing\" width=\"400\"/>\n",
        "\n",
        "A Markov decision process is a 4-tuple $(S, A, P_a, R_a)$, where:\n",
        "\n",
        "* $S$ is a set of states called the `state space`,\n",
        "* $A$ is a set of actions called the `action space` (alternatively, $A_s$ is the set of actions available from state $s$),\n",
        "* $P_a(s, s') = \\Pr(s_{t+1}=s' \\mid s_t = s, a_t=a)$ is the probability that action $a$ in state $s$ at time $t$ will lead to state $s'$ at time $t+1$,\n",
        "* $R_a(s, s')$ is the immediate reward (or expected immediate reward) received after transitioning from state $s$ to state $s'$, due to action $a$\n",
        "\n",
        "\n",
        "When working with Markov Decision Processes (MDPs), we are interested in finding the optimal policy, denoted as $\\pi$. The policy is an abstraction that aids in modeling action selection. Generally, a policy $\\pi: A \\times S \\to [0, 1]$ is a mapping which, at each step $t$, returns the probability of selecting a specific action in a given state, expressed as $\\pi(a, s) = P(a_t = a \\mid s_t = s)$. The optimality of a policy is typically characterized by the maximization of the sum of discounted rewards: $\\pi^* = \\arg\\max_{\\pi} \\mathbb{E} [R_{\\pi} \\mid s_0 = s]$, where $R_{\\pi}$ is the discounted (with factor $0 < \\gamma < 1$) sum of rewards, represented as $\\sum_{t=0}^{T} \\gamma^t R_{\\arg\\max_{a} \\pi(a, s_{t-1})} (s_{t-1}, s_t)$, received for actions taken in accordance with policy $\\pi$."
      ]
    },
    {
      "cell_type": "markdown",
      "metadata": {
        "id": "y-xG58ptnfmk"
      },
      "source": [
        "\n",
        "To mimic this formalism, we are going to use a powerful [Pogema](https://github.com/AIRI-Institute/pogema/tree/main) library. In the following sections, we will familiarize ourselves with its interface and main features"
      ]
    },
    {
      "cell_type": "markdown",
      "metadata": {
        "id": "3WospW0jkZ0m"
      },
      "source": [
        "## Pogema Interface\n",
        "\n",
        "> POGEMA stands for Partially-Observable Grid Environment for Multiple Agents. It is a grid-based environment that was specifically designed to be flexible, tunable, and scalable. It can be tailored to a variety of PO-MAPF settings. Currently, the somewhat standard setting is supported, in which agents can move between the cardinal-adjacent cells of the grid, and each action (move or wait) takes one time step. No information sharing occurs between the agents. POGEMA can generate random maps and start/goal locations for the agents. It also accepts custom maps as input.\n",
        "\n",
        "`POGEMA` environment provides [`Gym`](https://github.com/openai/gym)-like interface where a banch of agents operate in common space (grid) and at every step agents choose new actions (moves) based on observation (neighboring grid cells)."
      ]
    },
    {
      "cell_type": "code",
      "execution_count": null,
      "metadata": {
        "colab": {
          "base_uri": "https://localhost:8080/"
        },
        "id": "isH_WPoYU-bx",
        "outputId": "bf93ea8d-8909-44fc-d0ca-3322be0b13cf"
      },
      "outputs": [
        {
          "name": "stdout",
          "output_type": "stream",
          "text": [
            "Requirement already satisfied: pandas in /usr/local/lib/python3.10/dist-packages (2.2.2)\n",
            "Requirement already satisfied: numpy>=1.22.4 in /usr/local/lib/python3.10/dist-packages (from pandas) (1.23.5)\n",
            "Requirement already satisfied: python-dateutil>=2.8.2 in /usr/local/lib/python3.10/dist-packages (from pandas) (2.8.2)\n",
            "Requirement already satisfied: pytz>=2020.1 in /usr/local/lib/python3.10/dist-packages (from pandas) (2024.2)\n",
            "Requirement already satisfied: tzdata>=2022.7 in /usr/local/lib/python3.10/dist-packages (from pandas) (2024.2)\n",
            "Requirement already satisfied: six>=1.5 in /usr/local/lib/python3.10/dist-packages (from python-dateutil>=2.8.2->pandas) (1.16.0)\n"
          ]
        }
      ],
      "source": [
        "!pip3 install pandas"
      ]
    },
    {
      "cell_type": "code",
      "execution_count": null,
      "metadata": {
        "colab": {
          "base_uri": "https://localhost:8080/"
        },
        "id": "0pLCsMC4kfTM",
        "outputId": "71dec240-6169-4a8d-cbd1-c4f4beb4120a"
      },
      "outputs": [
        {
          "name": "stdout",
          "output_type": "stream",
          "text": [
            "Requirement already satisfied: pogema==1.3.1 in /usr/local/lib/python3.10/dist-packages (1.3.1)\n",
            "Requirement already satisfied: gymnasium==0.28.1 in /usr/local/lib/python3.10/dist-packages (from pogema==1.3.1) (0.28.1)\n",
            "Requirement already satisfied: numpy<=1.23.5,>=1.19.2 in /usr/local/lib/python3.10/dist-packages (from pogema==1.3.1) (1.23.5)\n",
            "Requirement already satisfied: pydantic<=1.9.1,>=1.8.2 in /usr/local/lib/python3.10/dist-packages (from pogema==1.3.1) (1.9.1)\n",
            "Requirement already satisfied: jax-jumpy>=1.0.0 in /usr/local/lib/python3.10/dist-packages (from gymnasium==0.28.1->pogema==1.3.1) (1.0.0)\n",
            "Requirement already satisfied: cloudpickle>=1.2.0 in /usr/local/lib/python3.10/dist-packages (from gymnasium==0.28.1->pogema==1.3.1) (3.1.0)\n",
            "Requirement already satisfied: typing-extensions>=4.3.0 in /usr/local/lib/python3.10/dist-packages (from gymnasium==0.28.1->pogema==1.3.1) (4.12.2)\n",
            "Requirement already satisfied: farama-notifications>=0.0.1 in /usr/local/lib/python3.10/dist-packages (from gymnasium==0.28.1->pogema==1.3.1) (0.0.4)\n"
          ]
        }
      ],
      "source": [
        "# firstly install pogema and some other necessary libraries.\n",
        "# it might be required to restart the runtime, please to do so, if mentioned.\n",
        "!pip3 install pogema==1.3.1"
      ]
    },
    {
      "cell_type": "code",
      "execution_count": null,
      "metadata": {
        "colab": {
          "base_uri": "https://localhost:8080/"
        },
        "id": "x13x9UBAU-by",
        "outputId": "abcac6e5-00a7-412a-eacf-29d01726b857"
      },
      "outputs": [
        {
          "name": "stdout",
          "output_type": "stream",
          "text": [
            "Requirement already satisfied: joblib in /usr/local/lib/python3.10/dist-packages (1.4.2)\n"
          ]
        }
      ],
      "source": [
        "!pip3 install joblib"
      ]
    },
    {
      "cell_type": "code",
      "execution_count": null,
      "metadata": {
        "colab": {
          "base_uri": "https://localhost:8080/"
        },
        "id": "yYrlvQtYU-by",
        "outputId": "b4bfc8f4-274c-41a9-abc5-5c34ed68df6a"
      },
      "outputs": [
        {
          "name": "stdout",
          "output_type": "stream",
          "text": [
            "Requirement already satisfied: tqdm in /usr/local/lib/python3.10/dist-packages (4.66.6)\n"
          ]
        }
      ],
      "source": [
        "!pip3 install tqdm"
      ]
    },
    {
      "cell_type": "code",
      "execution_count": null,
      "metadata": {
        "id": "m0kiNAWhU-bz"
      },
      "outputs": [],
      "source": [
        "# import common requirements\n",
        "import numpy as np\n",
        "from copy import copy\n",
        "from heapq import heappop, heappush\n",
        "\n",
        "from itertools import product\n",
        "from joblib import Parallel, delayed\n",
        "\n",
        "from tqdm.auto import tqdm\n",
        "from collections import defaultdict\n",
        "import pandas as pd\n",
        "import inspect\n",
        "import os\n",
        "\n",
        "# import pogema lib and some of the already constucted scenarios, provided by the library\n",
        "from pogema import pogema_v0\n",
        "from pogema import GridConfig\n",
        "\n",
        "# import some utils for animation\n",
        "from IPython.display import HTML, SVG, display\n",
        "from pogema import AnimationMonitor, AnimationConfig"
      ]
    },
    {
      "cell_type": "code",
      "execution_count": null,
      "metadata": {
        "id": "l2GBPUzwU-bz"
      },
      "outputs": [],
      "source": [
        "Hard8x8 = GridConfig(\n",
        "    size=8,  # size of the map\n",
        "    seed=42,\n",
        "    max_episode_steps=64,\n",
        "    num_agents = 4\n",
        ")"
      ]
    },
    {
      "cell_type": "markdown",
      "metadata": {
        "id": "7BxrBUPfmMzs"
      },
      "source": [
        "### Map Config\n",
        "\n",
        "Let's examine the built-in methods for one of the default scenarios, `Hard8x8`, which features 4 agents on an 8x8 map."
      ]
    },
    {
      "cell_type": "code",
      "execution_count": null,
      "metadata": {
        "id": "iBwcE1f0lvcK"
      },
      "outputs": [],
      "source": [
        "hard_config = Hard8x8"
      ]
    },
    {
      "cell_type": "code",
      "execution_count": null,
      "metadata": {
        "colab": {
          "base_uri": "https://localhost:8080/"
        },
        "id": "hWAjKV1GmCYo",
        "outputId": "7b3fd72a-e8ed-4813-a3b3-e9630fe92c44"
      },
      "outputs": [
        {
          "name": "stdout",
          "output_type": "stream",
          "text": [
            "Seed (used for reproducibility, None by default): 42\n"
          ]
        }
      ],
      "source": [
        "\n",
        "print(f\"Seed (used for reproducibility, None by default): {hard_config.seed}\")"
      ]
    },
    {
      "cell_type": "markdown",
      "metadata": {
        "id": "8_iXUEifnKHg"
      },
      "source": [
        "### Environment\n",
        "\n",
        "`pogema_v0` allows you to pass `grid_config` as an argument to construct an environment\n",
        "\n"
      ]
    },
    {
      "cell_type": "code",
      "execution_count": null,
      "metadata": {
        "id": "JdZTDR2Mkc1l"
      },
      "outputs": [],
      "source": [
        "# let's create an instance of Hard8x8 environment with seed=42\n",
        "env = pogema_v0(grid_config=hard_config)"
      ]
    },
    {
      "cell_type": "markdown",
      "metadata": {
        "id": "B4s_q19ht0ja"
      },
      "source": [
        "Before using our environment, we must reset it"
      ]
    },
    {
      "cell_type": "code",
      "execution_count": null,
      "metadata": {
        "colab": {
          "base_uri": "https://localhost:8080/"
        },
        "id": "sNjdrQsykzHt",
        "outputId": "662ff4ce-62a5-4ade-8f33-3aef2439a558"
      },
      "outputs": [
        {
          "data": {
            "text/plain": [
              "4"
            ]
          },
          "execution_count": 10,
          "metadata": {},
          "output_type": "execute_result"
        }
      ],
      "source": [
        "obs, info = env.reset()\n",
        "# length of `obs` matches the number of agents\n",
        "len(obs)"
      ]
    },
    {
      "cell_type": "markdown",
      "metadata": {
        "id": "LZeO-G1iuPlC"
      },
      "source": [
        "We could render the current state of the environment"
      ]
    },
    {
      "cell_type": "code",
      "execution_count": null,
      "metadata": {
        "colab": {
          "base_uri": "https://localhost:8080/"
        },
        "id": "mA2vQ6rcuOQF",
        "outputId": "9e819efb-5e9e-4d5a-a138-5436d5943645"
      },
      "outputs": [
        {
          "name": "stdout",
          "output_type": "stream",
          "text": [
            "\u001b[37m . \u001b[0m\u001b[37m . \u001b[0m\u001b[37m . \u001b[0m\u001b[37m . \u001b[0m\u001b[37m . \u001b[0m\u001b[37m . \u001b[0m\u001b[37m . \u001b[0m\u001b[37m . \u001b[0m\u001b[37m . \u001b[0m\u001b[37m . \u001b[0m\u001b[37m . \u001b[0m\u001b[37m . \u001b[0m\u001b[37m . \u001b[0m\u001b[37m . \u001b[0m\u001b[37m . \u001b[0m\u001b[37m . \u001b[0m\u001b[37m . \u001b[0m\u001b[37m . \u001b[0m\n",
            "\u001b[37m . \u001b[0m\u001b[37m . \u001b[0m\u001b[37m . \u001b[0m\u001b[37m . \u001b[0m\u001b[37m . \u001b[0m\u001b[37m . \u001b[0m\u001b[37m . \u001b[0m\u001b[37m . \u001b[0m\u001b[37m . \u001b[0m\u001b[37m . \u001b[0m\u001b[37m . \u001b[0m\u001b[37m . \u001b[0m\u001b[37m . \u001b[0m\u001b[37m . \u001b[0m\u001b[37m . \u001b[0m\u001b[37m . \u001b[0m\u001b[37m . \u001b[0m\u001b[37m . \u001b[0m\n",
            "\u001b[37m . \u001b[0m\u001b[37m . \u001b[0m\u001b[37m . \u001b[0m\u001b[37m . \u001b[0m\u001b[37m . \u001b[0m\u001b[37m . \u001b[0m\u001b[37m . \u001b[0m\u001b[37m . \u001b[0m\u001b[37m . \u001b[0m\u001b[37m . \u001b[0m\u001b[37m . \u001b[0m\u001b[37m . \u001b[0m\u001b[37m . \u001b[0m\u001b[37m . \u001b[0m\u001b[37m . \u001b[0m\u001b[37m . \u001b[0m\u001b[37m . \u001b[0m\u001b[37m . \u001b[0m\n",
            "\u001b[37m . \u001b[0m\u001b[37m . \u001b[0m\u001b[37m . \u001b[0m\u001b[37m . \u001b[0m\u001b[37m . \u001b[0m\u001b[37m . \u001b[0m\u001b[37m . \u001b[0m\u001b[37m . \u001b[0m\u001b[37m . \u001b[0m\u001b[37m . \u001b[0m\u001b[37m . \u001b[0m\u001b[37m . \u001b[0m\u001b[37m . \u001b[0m\u001b[37m . \u001b[0m\u001b[37m . \u001b[0m\u001b[37m . \u001b[0m\u001b[37m . \u001b[0m\u001b[37m . \u001b[0m\n",
            "\u001b[37m . \u001b[0m\u001b[37m . \u001b[0m\u001b[37m . \u001b[0m\u001b[37m . \u001b[0m\u001b[46m   \u001b[0m\u001b[46m   \u001b[0m\u001b[46m   \u001b[0m\u001b[46m   \u001b[0m\u001b[46m   \u001b[0m\u001b[46m   \u001b[0m\u001b[46m   \u001b[0m\u001b[46m   \u001b[0m\u001b[46m   \u001b[0m\u001b[46m   \u001b[0m\u001b[37m . \u001b[0m\u001b[37m . \u001b[0m\u001b[37m . \u001b[0m\u001b[37m . \u001b[0m\n",
            "\u001b[37m . \u001b[0m\u001b[37m . \u001b[0m\u001b[37m . \u001b[0m\u001b[37m . \u001b[0m\u001b[46m   \u001b[0m\u001b[46m   \u001b[0m\u001b[37m . \u001b[0m\u001b[46m   \u001b[0m\u001b[37m . \u001b[0m\u001b[37m . \u001b[0m\u001b[46m   \u001b[0m\u001b[46m   \u001b[0m\u001b[46m   \u001b[0m\u001b[46m   \u001b[0m\u001b[37m . \u001b[0m\u001b[37m . \u001b[0m\u001b[37m . \u001b[0m\u001b[37m . \u001b[0m\n",
            "\u001b[37m . \u001b[0m\u001b[37m . \u001b[0m\u001b[37m . \u001b[0m\u001b[37m . \u001b[0m\u001b[46m   \u001b[0m\u001b[37m . \u001b[0m\u001b[37m|2|\u001b[0m\u001b[37m . \u001b[0m\u001b[46m   \u001b[0m\u001b[37m . \u001b[0m\u001b[46m   \u001b[0m\u001b[37m . \u001b[0m\u001b[37m . \u001b[0m\u001b[46m   \u001b[0m\u001b[37m . \u001b[0m\u001b[37m . \u001b[0m\u001b[37m . \u001b[0m\u001b[37m . \u001b[0m\n",
            "\u001b[37m . \u001b[0m\u001b[37m . \u001b[0m\u001b[37m . \u001b[0m\u001b[37m . \u001b[0m\u001b[46m   \u001b[0m\u001b[37m . \u001b[0m\u001b[37m . \u001b[0m\u001b[46m   \u001b[0m\u001b[37m . \u001b[0m\u001b[46m   \u001b[0m\u001b[37m . \u001b[0m\u001b[46m   \u001b[0m\u001b[46m   \u001b[0m\u001b[46m   \u001b[0m\u001b[37m . \u001b[0m\u001b[37m . \u001b[0m\u001b[37m . \u001b[0m\u001b[37m . \u001b[0m\n",
            "\u001b[37m . \u001b[0m\u001b[37m . \u001b[0m\u001b[37m . \u001b[0m\u001b[37m . \u001b[0m\u001b[46m   \u001b[0m\u001b[46m   \u001b[0m\u001b[37m . \u001b[0m\u001b[37m . \u001b[0m\u001b[37m . \u001b[0m\u001b[37m . \u001b[0m\u001b[37m . \u001b[0m\u001b[46m   \u001b[0m\u001b[46m   \u001b[0m\u001b[46m   \u001b[0m\u001b[37m . \u001b[0m\u001b[37m . \u001b[0m\u001b[37m . \u001b[0m\u001b[37m . \u001b[0m\n",
            "\u001b[37m . \u001b[0m\u001b[37m . \u001b[0m\u001b[37m . \u001b[0m\u001b[37m . \u001b[0m\u001b[46m   \u001b[0m\u001b[37m|1|\u001b[0m\u001b[37m . \u001b[0m\u001b[37m . \u001b[0m\u001b[37m|0|\u001b[0m\u001b[37m . \u001b[0m\u001b[37m . \u001b[0m\u001b[37m . \u001b[0m\u001b[37m|3|\u001b[0m\u001b[46m   \u001b[0m\u001b[37m . \u001b[0m\u001b[37m . \u001b[0m\u001b[37m . \u001b[0m\u001b[37m . \u001b[0m\n",
            "\u001b[37m . \u001b[0m\u001b[37m . \u001b[0m\u001b[37m . \u001b[0m\u001b[37m . \u001b[0m\u001b[46m   \u001b[0m\u001b[31;1m 0 \u001b[0m\u001b[46m   \u001b[0m\u001b[46m   \u001b[0m\u001b[37m . \u001b[0m\u001b[46m   \u001b[0m\u001b[46m   \u001b[0m\u001b[37m . \u001b[0m\u001b[31;1m 1 \u001b[0m\u001b[46m   \u001b[0m\u001b[37m . \u001b[0m\u001b[37m . \u001b[0m\u001b[37m . \u001b[0m\u001b[37m . \u001b[0m\n",
            "\u001b[37m . \u001b[0m\u001b[37m . \u001b[0m\u001b[37m . \u001b[0m\u001b[37m . \u001b[0m\u001b[46m   \u001b[0m\u001b[37m . \u001b[0m\u001b[37m . \u001b[0m\u001b[37m . \u001b[0m\u001b[37m . \u001b[0m\u001b[46m   \u001b[0m\u001b[37m . \u001b[0m\u001b[46m   \u001b[0m\u001b[46m   \u001b[0m\u001b[46m   \u001b[0m\u001b[37m . \u001b[0m\u001b[37m . \u001b[0m\u001b[37m . \u001b[0m\u001b[37m . \u001b[0m\n",
            "\u001b[37m . \u001b[0m\u001b[37m . \u001b[0m\u001b[37m . \u001b[0m\u001b[37m . \u001b[0m\u001b[46m   \u001b[0m\u001b[37m . \u001b[0m\u001b[37m . \u001b[0m\u001b[37m . \u001b[0m\u001b[37m . \u001b[0m\u001b[31;1m 2 \u001b[0m\u001b[37m . \u001b[0m\u001b[31;1m 3 \u001b[0m\u001b[46m   \u001b[0m\u001b[46m   \u001b[0m\u001b[37m . \u001b[0m\u001b[37m . \u001b[0m\u001b[37m . \u001b[0m\u001b[37m . \u001b[0m\n",
            "\u001b[37m . \u001b[0m\u001b[37m . \u001b[0m\u001b[37m . \u001b[0m\u001b[37m . \u001b[0m\u001b[46m   \u001b[0m\u001b[46m   \u001b[0m\u001b[46m   \u001b[0m\u001b[46m   \u001b[0m\u001b[46m   \u001b[0m\u001b[46m   \u001b[0m\u001b[46m   \u001b[0m\u001b[46m   \u001b[0m\u001b[46m   \u001b[0m\u001b[46m   \u001b[0m\u001b[37m . \u001b[0m\u001b[37m . \u001b[0m\u001b[37m . \u001b[0m\u001b[37m . \u001b[0m\n",
            "\u001b[37m . \u001b[0m\u001b[37m . \u001b[0m\u001b[37m . \u001b[0m\u001b[37m . \u001b[0m\u001b[37m . \u001b[0m\u001b[37m . \u001b[0m\u001b[37m . \u001b[0m\u001b[37m . \u001b[0m\u001b[37m . \u001b[0m\u001b[37m . \u001b[0m\u001b[37m . \u001b[0m\u001b[37m . \u001b[0m\u001b[37m . \u001b[0m\u001b[37m . \u001b[0m\u001b[37m . \u001b[0m\u001b[37m . \u001b[0m\u001b[37m . \u001b[0m\u001b[37m . \u001b[0m\n",
            "\u001b[37m . \u001b[0m\u001b[37m . \u001b[0m\u001b[37m . \u001b[0m\u001b[37m . \u001b[0m\u001b[37m . \u001b[0m\u001b[37m . \u001b[0m\u001b[37m . \u001b[0m\u001b[37m . \u001b[0m\u001b[37m . \u001b[0m\u001b[37m . \u001b[0m\u001b[37m . \u001b[0m\u001b[37m . \u001b[0m\u001b[37m . \u001b[0m\u001b[37m . \u001b[0m\u001b[37m . \u001b[0m\u001b[37m . \u001b[0m\u001b[37m . \u001b[0m\u001b[37m . \u001b[0m\n",
            "\u001b[37m . \u001b[0m\u001b[37m . \u001b[0m\u001b[37m . \u001b[0m\u001b[37m . \u001b[0m\u001b[37m . \u001b[0m\u001b[37m . \u001b[0m\u001b[37m . \u001b[0m\u001b[37m . \u001b[0m\u001b[37m . \u001b[0m\u001b[37m . \u001b[0m\u001b[37m . \u001b[0m\u001b[37m . \u001b[0m\u001b[37m . \u001b[0m\u001b[37m . \u001b[0m\u001b[37m . \u001b[0m\u001b[37m . \u001b[0m\u001b[37m . \u001b[0m\u001b[37m . \u001b[0m\n",
            "\u001b[37m . \u001b[0m\u001b[37m . \u001b[0m\u001b[37m . \u001b[0m\u001b[37m . \u001b[0m\u001b[37m . \u001b[0m\u001b[37m . \u001b[0m\u001b[37m . \u001b[0m\u001b[37m . \u001b[0m\u001b[37m . \u001b[0m\u001b[37m . \u001b[0m\u001b[37m . \u001b[0m\u001b[37m . \u001b[0m\u001b[37m . \u001b[0m\u001b[37m . \u001b[0m\u001b[37m . \u001b[0m\u001b[37m . \u001b[0m\u001b[37m . \u001b[0m\u001b[37m . \u001b[0m\n"
          ]
        }
      ],
      "source": [
        "env.render()"
      ]
    },
    {
      "cell_type": "markdown",
      "metadata": {
        "id": "FMuouCpsub2P"
      },
      "source": [
        "To proceed to the next state of the environment, we should select actions, one for each agent, and then call `env.step`, which accepts a list of actions, one for each agent.\n",
        "\n",
        "Our actions are defined as indices in the array `config.MOVES`:\n",
        "- 0 - wait\n",
        "- 1 - right\n",
        "- 2 - left\n",
        "- 3 - up\n",
        "- 4 - down\n"
      ]
    },
    {
      "cell_type": "code",
      "execution_count": null,
      "metadata": {
        "colab": {
          "base_uri": "https://localhost:8080/"
        },
        "id": "YlC5E35oU-b0",
        "outputId": "c1d7cf4d-3aba-4a6b-d8ec-db739195ee4f"
      },
      "outputs": [
        {
          "name": "stdout",
          "output_type": "stream",
          "text": [
            "Possible moves (the action space): [[0, 0], [-1, 0], [1, 0], [0, -1], [0, 1]]\n"
          ]
        }
      ],
      "source": [
        "print(f\"Possible moves (the action space): {hard_config.MOVES}\")"
      ]
    },
    {
      "cell_type": "markdown",
      "metadata": {
        "id": "W6KRUtgBU-b0"
      },
      "source": [
        "For example, calling `env.step([3, 2, 1, 0])` would apply the action with index 3 to agent 0, the action with index 2 to agent 1, and so on.\n",
        "\n",
        "Let's move our agents:\n",
        "\n",
        "- Agent 0 - up\n",
        "- Agent 1 - left\n",
        "- Agent 2 - right\n",
        "- Agent 3 - wait"
      ]
    },
    {
      "cell_type": "code",
      "execution_count": null,
      "metadata": {
        "colab": {
          "base_uri": "https://localhost:8080/"
        },
        "id": "O0nkkFi5vUpB",
        "outputId": "72d1e679-88b7-4004-b685-0b62ee223e96"
      },
      "outputs": [
        {
          "name": "stdout",
          "output_type": "stream",
          "text": [
            "\u001b[37m . \u001b[0m\u001b[37m . \u001b[0m\u001b[37m . \u001b[0m\u001b[37m . \u001b[0m\u001b[37m . \u001b[0m\u001b[37m . \u001b[0m\u001b[37m . \u001b[0m\u001b[37m . \u001b[0m\u001b[37m . \u001b[0m\u001b[37m . \u001b[0m\u001b[37m . \u001b[0m\u001b[37m . \u001b[0m\u001b[37m . \u001b[0m\u001b[37m . \u001b[0m\u001b[37m . \u001b[0m\u001b[37m . \u001b[0m\u001b[37m . \u001b[0m\u001b[37m . \u001b[0m\n",
            "\u001b[37m . \u001b[0m\u001b[37m . \u001b[0m\u001b[37m . \u001b[0m\u001b[37m . \u001b[0m\u001b[37m . \u001b[0m\u001b[37m . \u001b[0m\u001b[37m . \u001b[0m\u001b[37m . \u001b[0m\u001b[37m . \u001b[0m\u001b[37m . \u001b[0m\u001b[37m . \u001b[0m\u001b[37m . \u001b[0m\u001b[37m . \u001b[0m\u001b[37m . \u001b[0m\u001b[37m . \u001b[0m\u001b[37m . \u001b[0m\u001b[37m . \u001b[0m\u001b[37m . \u001b[0m\n",
            "\u001b[37m . \u001b[0m\u001b[37m . \u001b[0m\u001b[37m . \u001b[0m\u001b[37m . \u001b[0m\u001b[37m . \u001b[0m\u001b[37m . \u001b[0m\u001b[37m . \u001b[0m\u001b[37m . \u001b[0m\u001b[37m . \u001b[0m\u001b[37m . \u001b[0m\u001b[37m . \u001b[0m\u001b[37m . \u001b[0m\u001b[37m . \u001b[0m\u001b[37m . \u001b[0m\u001b[37m . \u001b[0m\u001b[37m . \u001b[0m\u001b[37m . \u001b[0m\u001b[37m . \u001b[0m\n",
            "\u001b[37m . \u001b[0m\u001b[37m . \u001b[0m\u001b[37m . \u001b[0m\u001b[37m . \u001b[0m\u001b[37m . \u001b[0m\u001b[37m . \u001b[0m\u001b[37m . \u001b[0m\u001b[37m . \u001b[0m\u001b[37m . \u001b[0m\u001b[37m . \u001b[0m\u001b[37m . \u001b[0m\u001b[37m . \u001b[0m\u001b[37m . \u001b[0m\u001b[37m . \u001b[0m\u001b[37m . \u001b[0m\u001b[37m . \u001b[0m\u001b[37m . \u001b[0m\u001b[37m . \u001b[0m\n",
            "\u001b[37m . \u001b[0m\u001b[37m . \u001b[0m\u001b[37m . \u001b[0m\u001b[37m . \u001b[0m\u001b[46m   \u001b[0m\u001b[46m   \u001b[0m\u001b[46m   \u001b[0m\u001b[46m   \u001b[0m\u001b[46m   \u001b[0m\u001b[46m   \u001b[0m\u001b[46m   \u001b[0m\u001b[46m   \u001b[0m\u001b[46m   \u001b[0m\u001b[46m   \u001b[0m\u001b[37m . \u001b[0m\u001b[37m . \u001b[0m\u001b[37m . \u001b[0m\u001b[37m . \u001b[0m\n",
            "\u001b[37m . \u001b[0m\u001b[37m . \u001b[0m\u001b[37m . \u001b[0m\u001b[37m . \u001b[0m\u001b[46m   \u001b[0m\u001b[46m   \u001b[0m\u001b[37m . \u001b[0m\u001b[46m   \u001b[0m\u001b[37m . \u001b[0m\u001b[37m . \u001b[0m\u001b[46m   \u001b[0m\u001b[46m   \u001b[0m\u001b[46m   \u001b[0m\u001b[46m   \u001b[0m\u001b[37m . \u001b[0m\u001b[37m . \u001b[0m\u001b[37m . \u001b[0m\u001b[37m . \u001b[0m\n",
            "\u001b[37m . \u001b[0m\u001b[37m . \u001b[0m\u001b[37m . \u001b[0m\u001b[37m . \u001b[0m\u001b[46m   \u001b[0m\u001b[37m . \u001b[0m\u001b[37m|2|\u001b[0m\u001b[37m . \u001b[0m\u001b[46m   \u001b[0m\u001b[37m . \u001b[0m\u001b[46m   \u001b[0m\u001b[37m . \u001b[0m\u001b[37m . \u001b[0m\u001b[46m   \u001b[0m\u001b[37m . \u001b[0m\u001b[37m . \u001b[0m\u001b[37m . \u001b[0m\u001b[37m . \u001b[0m\n",
            "\u001b[37m . \u001b[0m\u001b[37m . \u001b[0m\u001b[37m . \u001b[0m\u001b[37m . \u001b[0m\u001b[46m   \u001b[0m\u001b[37m . \u001b[0m\u001b[37m . \u001b[0m\u001b[46m   \u001b[0m\u001b[37m . \u001b[0m\u001b[46m   \u001b[0m\u001b[37m . \u001b[0m\u001b[46m   \u001b[0m\u001b[46m   \u001b[0m\u001b[46m   \u001b[0m\u001b[37m . \u001b[0m\u001b[37m . \u001b[0m\u001b[37m . \u001b[0m\u001b[37m . \u001b[0m\n",
            "\u001b[37m . \u001b[0m\u001b[37m . \u001b[0m\u001b[37m . \u001b[0m\u001b[37m . \u001b[0m\u001b[46m   \u001b[0m\u001b[46m   \u001b[0m\u001b[37m . \u001b[0m\u001b[37m . \u001b[0m\u001b[37m . \u001b[0m\u001b[37m . \u001b[0m\u001b[37m . \u001b[0m\u001b[46m   \u001b[0m\u001b[46m   \u001b[0m\u001b[46m   \u001b[0m\u001b[37m . \u001b[0m\u001b[37m . \u001b[0m\u001b[37m . \u001b[0m\u001b[37m . \u001b[0m\n",
            "\u001b[37m . \u001b[0m\u001b[37m . \u001b[0m\u001b[37m . \u001b[0m\u001b[37m . \u001b[0m\u001b[46m   \u001b[0m\u001b[31;1m 0 \u001b[0m\u001b[37m . \u001b[0m\u001b[37m . \u001b[0m\u001b[37m|0|\u001b[0m\u001b[37m . \u001b[0m\u001b[37m . \u001b[0m\u001b[37m . \u001b[0m\u001b[37m|3|\u001b[0m\u001b[46m   \u001b[0m\u001b[37m . \u001b[0m\u001b[37m . \u001b[0m\u001b[37m . \u001b[0m\u001b[37m . \u001b[0m\n",
            "\u001b[37m . \u001b[0m\u001b[37m . \u001b[0m\u001b[37m . \u001b[0m\u001b[37m . \u001b[0m\u001b[46m   \u001b[0m\u001b[37m . \u001b[0m\u001b[46m   \u001b[0m\u001b[46m   \u001b[0m\u001b[37m . \u001b[0m\u001b[46m   \u001b[0m\u001b[46m   \u001b[0m\u001b[31;1m 1 \u001b[0m\u001b[37m . \u001b[0m\u001b[46m   \u001b[0m\u001b[37m . \u001b[0m\u001b[37m . \u001b[0m\u001b[37m . \u001b[0m\u001b[37m . \u001b[0m\n",
            "\u001b[37m . \u001b[0m\u001b[37m . \u001b[0m\u001b[37m . \u001b[0m\u001b[37m . \u001b[0m\u001b[46m   \u001b[0m\u001b[37m . \u001b[0m\u001b[37m . \u001b[0m\u001b[37m . \u001b[0m\u001b[37m . \u001b[0m\u001b[46m   \u001b[0m\u001b[37m . \u001b[0m\u001b[46m   \u001b[0m\u001b[46m   \u001b[0m\u001b[46m   \u001b[0m\u001b[37m . \u001b[0m\u001b[37m . \u001b[0m\u001b[37m . \u001b[0m\u001b[37m . \u001b[0m\n",
            "\u001b[37m . \u001b[0m\u001b[37m . \u001b[0m\u001b[37m . \u001b[0m\u001b[37m . \u001b[0m\u001b[46m   \u001b[0m\u001b[37m . \u001b[0m\u001b[37m . \u001b[0m\u001b[37m . \u001b[0m\u001b[37m . \u001b[0m\u001b[37m . \u001b[0m\u001b[31;1m 2 \u001b[0m\u001b[31;1m 3 \u001b[0m\u001b[46m   \u001b[0m\u001b[46m   \u001b[0m\u001b[37m . \u001b[0m\u001b[37m . \u001b[0m\u001b[37m . \u001b[0m\u001b[37m . \u001b[0m\n",
            "\u001b[37m . \u001b[0m\u001b[37m . \u001b[0m\u001b[37m . \u001b[0m\u001b[37m . \u001b[0m\u001b[46m   \u001b[0m\u001b[46m   \u001b[0m\u001b[46m   \u001b[0m\u001b[46m   \u001b[0m\u001b[46m   \u001b[0m\u001b[46m   \u001b[0m\u001b[46m   \u001b[0m\u001b[46m   \u001b[0m\u001b[46m   \u001b[0m\u001b[46m   \u001b[0m\u001b[37m . \u001b[0m\u001b[37m . \u001b[0m\u001b[37m . \u001b[0m\u001b[37m . \u001b[0m\n",
            "\u001b[37m . \u001b[0m\u001b[37m . \u001b[0m\u001b[37m . \u001b[0m\u001b[37m . \u001b[0m\u001b[37m . \u001b[0m\u001b[37m . \u001b[0m\u001b[37m . \u001b[0m\u001b[37m . \u001b[0m\u001b[37m . \u001b[0m\u001b[37m . \u001b[0m\u001b[37m . \u001b[0m\u001b[37m . \u001b[0m\u001b[37m . \u001b[0m\u001b[37m . \u001b[0m\u001b[37m . \u001b[0m\u001b[37m . \u001b[0m\u001b[37m . \u001b[0m\u001b[37m . \u001b[0m\n",
            "\u001b[37m . \u001b[0m\u001b[37m . \u001b[0m\u001b[37m . \u001b[0m\u001b[37m . \u001b[0m\u001b[37m . \u001b[0m\u001b[37m . \u001b[0m\u001b[37m . \u001b[0m\u001b[37m . \u001b[0m\u001b[37m . \u001b[0m\u001b[37m . \u001b[0m\u001b[37m . \u001b[0m\u001b[37m . \u001b[0m\u001b[37m . \u001b[0m\u001b[37m . \u001b[0m\u001b[37m . \u001b[0m\u001b[37m . \u001b[0m\u001b[37m . \u001b[0m\u001b[37m . \u001b[0m\n",
            "\u001b[37m . \u001b[0m\u001b[37m . \u001b[0m\u001b[37m . \u001b[0m\u001b[37m . \u001b[0m\u001b[37m . \u001b[0m\u001b[37m . \u001b[0m\u001b[37m . \u001b[0m\u001b[37m . \u001b[0m\u001b[37m . \u001b[0m\u001b[37m . \u001b[0m\u001b[37m . \u001b[0m\u001b[37m . \u001b[0m\u001b[37m . \u001b[0m\u001b[37m . \u001b[0m\u001b[37m . \u001b[0m\u001b[37m . \u001b[0m\u001b[37m . \u001b[0m\u001b[37m . \u001b[0m\n",
            "\u001b[37m . \u001b[0m\u001b[37m . \u001b[0m\u001b[37m . \u001b[0m\u001b[37m . \u001b[0m\u001b[37m . \u001b[0m\u001b[37m . \u001b[0m\u001b[37m . \u001b[0m\u001b[37m . \u001b[0m\u001b[37m . \u001b[0m\u001b[37m . \u001b[0m\u001b[37m . \u001b[0m\u001b[37m . \u001b[0m\u001b[37m . \u001b[0m\u001b[37m . \u001b[0m\u001b[37m . \u001b[0m\u001b[37m . \u001b[0m\u001b[37m . \u001b[0m\u001b[37m . \u001b[0m\n"
          ]
        }
      ],
      "source": [
        "# select actions as described above and make sure that the state of the environment changed as expected\n",
        "obs, reward, terminated, truncated, info = env.step([1, 3, 4, 0])\n",
        "env.render()"
      ]
    },
    {
      "cell_type": "markdown",
      "metadata": {
        "id": "aoxFoecLwHAM"
      },
      "source": [
        "### Animation\n",
        "\n",
        "Instead of rendering our environment every step, we could record an animation using `AnimationMonitor`."
      ]
    },
    {
      "cell_type": "code",
      "execution_count": null,
      "metadata": {
        "colab": {
          "base_uri": "https://localhost:8080/",
          "height": 707
        },
        "id": "RPvuRZWMwEl5",
        "outputId": "8e02c5d8-9b21-40df-9b8d-2258fc647907"
      },
      "outputs": [
        {
          "name": "stdout",
          "output_type": "stream",
          "text": [
            "Undertaking actions: [0 3 3 2]\n",
            "Undertaking actions: [2 4 0 3]\n",
            "Undertaking actions: [1 0 2 4]\n",
            "Undertaking actions: [3 3 3 3]\n",
            "Undertaking actions: [2 0 4 2]\n",
            "Undertaking actions: [2 1 0 4]\n",
            "Undertaking actions: [3 3 2 4]\n",
            "Undertaking actions: [2 2 2 1]\n",
            "Undertaking actions: [0 2 4 0]\n",
            "Undertaking actions: [4 4 1 3]\n"
          ]
        },
        {
          "data": {
            "image/svg+xml": "<svg xmlns=\"http://www.w3.org/2000/svg\" xmlns:xlink=\"http://www.w3.org/1999/xlink\" width=\"512\" height=\"512\" viewBox=\"0 -1100 1100 1100\">\n<defs>\n\n        <rect id=\"obstacle\" width=\"70\" height=\"70\" fill=\"#84A1AE\" rx=\"15\"/>\n        <style>\n        .line {stroke: #84A1AE; stroke-width: 10;}\n        .agent {r: 35;}\n        .target {fill: none; stroke-width: 10; r: 35;}\n        </style>\n        \n</defs>\n\n<line class=\"line\" x1=\"-50.0\" x2=\"-50.0\" y1=\"0\" y2=\"-1100\"/>\n<line class=\"line\" x1=\"50.0\" x2=\"50.0\" y1=\"0\" y2=\"-1100\"/>\n<line class=\"line\" x1=\"150.0\" x2=\"150.0\" y1=\"0\" y2=\"-1100\"/>\n<line class=\"line\" x1=\"250.0\" x2=\"250.0\" y1=\"0\" y2=\"-1100\"/>\n<line class=\"line\" x1=\"350.0\" x2=\"350.0\" y1=\"0\" y2=\"-1100\"/>\n<line class=\"line\" x1=\"450.0\" x2=\"450.0\" y1=\"0\" y2=\"-1100\"/>\n<line class=\"line\" x1=\"550.0\" x2=\"550.0\" y1=\"0\" y2=\"-1100\"/>\n<line class=\"line\" x1=\"650.0\" x2=\"650.0\" y1=\"0\" y2=\"-1100\"/>\n<line class=\"line\" x1=\"750.0\" x2=\"750.0\" y1=\"0\" y2=\"-1100\"/>\n<line class=\"line\" x1=\"850.0\" x2=\"850.0\" y1=\"0\" y2=\"-1100\"/>\n<line class=\"line\" x1=\"950.0\" x2=\"950.0\" y1=\"0\" y2=\"-1100\"/>\n<line class=\"line\" x1=\"1050.0\" x2=\"1050.0\" y1=\"0\" y2=\"-1100\"/>\n<line class=\"line\" x1=\"0\" x2=\"1100\" y1=\"50.0\" y2=\"50.0\"/>\n<line class=\"line\" x1=\"0\" x2=\"1100\" y1=\"-50.0\" y2=\"-50.0\"/>\n<line class=\"line\" x1=\"0\" x2=\"1100\" y1=\"-150.0\" y2=\"-150.0\"/>\n<line class=\"line\" x1=\"0\" x2=\"1100\" y1=\"-250.0\" y2=\"-250.0\"/>\n<line class=\"line\" x1=\"0\" x2=\"1100\" y1=\"-350.0\" y2=\"-350.0\"/>\n<line class=\"line\" x1=\"0\" x2=\"1100\" y1=\"-450.0\" y2=\"-450.0\"/>\n<line class=\"line\" x1=\"0\" x2=\"1100\" y1=\"-550.0\" y2=\"-550.0\"/>\n<line class=\"line\" x1=\"0\" x2=\"1100\" y1=\"-650.0\" y2=\"-650.0\"/>\n<line class=\"line\" x1=\"0\" x2=\"1100\" y1=\"-750.0\" y2=\"-750.0\"/>\n<line class=\"line\" x1=\"0\" x2=\"1100\" y1=\"-850.0\" y2=\"-850.0\"/>\n<line class=\"line\" x1=\"0\" x2=\"1100\" y1=\"-950.0\" y2=\"-950.0\"/>\n<line class=\"line\" x1=\"0\" x2=\"1100\" y1=\"-1050.0\" y2=\"-1050.0\"/>\n<use href=\"#obstacle\" x=\"65\" y=\"-135\"/>\n<use href=\"#obstacle\" x=\"65\" y=\"-235\"/>\n<use href=\"#obstacle\" x=\"65\" y=\"-335\"/>\n<use href=\"#obstacle\" x=\"65\" y=\"-435\"/>\n<use href=\"#obstacle\" x=\"65\" y=\"-535\"/>\n<use href=\"#obstacle\" x=\"65\" y=\"-635\"/>\n<use href=\"#obstacle\" x=\"65\" y=\"-735\"/>\n<use href=\"#obstacle\" x=\"65\" y=\"-835\"/>\n<use href=\"#obstacle\" x=\"65\" y=\"-935\"/>\n<use href=\"#obstacle\" x=\"65\" y=\"-1035\"/>\n<use href=\"#obstacle\" x=\"165\" y=\"-135\"/>\n<use href=\"#obstacle\" x=\"165\" y=\"-635\"/>\n<use href=\"#obstacle\" x=\"165\" y=\"-935\"/>\n<use href=\"#obstacle\" x=\"165\" y=\"-1035\"/>\n<use href=\"#obstacle\" x=\"265\" y=\"-135\"/>\n<use href=\"#obstacle\" x=\"265\" y=\"-435\"/>\n<use href=\"#obstacle\" x=\"265\" y=\"-1035\"/>\n<use href=\"#obstacle\" x=\"365\" y=\"-135\"/>\n<use href=\"#obstacle\" x=\"365\" y=\"-435\"/>\n<use href=\"#obstacle\" x=\"365\" y=\"-735\"/>\n<use href=\"#obstacle\" x=\"365\" y=\"-935\"/>\n<use href=\"#obstacle\" x=\"365\" y=\"-1035\"/>\n<use href=\"#obstacle\" x=\"465\" y=\"-135\"/>\n<use href=\"#obstacle\" x=\"465\" y=\"-835\"/>\n<use href=\"#obstacle\" x=\"465\" y=\"-1035\"/>\n<use href=\"#obstacle\" x=\"565\" y=\"-135\"/>\n<use href=\"#obstacle\" x=\"565\" y=\"-335\"/>\n<use href=\"#obstacle\" x=\"565\" y=\"-435\"/>\n<use href=\"#obstacle\" x=\"565\" y=\"-735\"/>\n<use href=\"#obstacle\" x=\"565\" y=\"-1035\"/>\n<use href=\"#obstacle\" x=\"665\" y=\"-135\"/>\n<use href=\"#obstacle\" x=\"665\" y=\"-435\"/>\n<use href=\"#obstacle\" x=\"665\" y=\"-835\"/>\n<use href=\"#obstacle\" x=\"665\" y=\"-935\"/>\n<use href=\"#obstacle\" x=\"665\" y=\"-1035\"/>\n<use href=\"#obstacle\" x=\"765\" y=\"-135\"/>\n<use href=\"#obstacle\" x=\"765\" y=\"-335\"/>\n<use href=\"#obstacle\" x=\"765\" y=\"-635\"/>\n<use href=\"#obstacle\" x=\"765\" y=\"-735\"/>\n<use href=\"#obstacle\" x=\"765\" y=\"-935\"/>\n<use href=\"#obstacle\" x=\"765\" y=\"-1035\"/>\n<use href=\"#obstacle\" x=\"865\" y=\"-135\"/>\n<use href=\"#obstacle\" x=\"865\" y=\"-235\"/>\n<use href=\"#obstacle\" x=\"865\" y=\"-335\"/>\n<use href=\"#obstacle\" x=\"865\" y=\"-635\"/>\n<use href=\"#obstacle\" x=\"865\" y=\"-735\"/>\n<use href=\"#obstacle\" x=\"865\" y=\"-935\"/>\n<use href=\"#obstacle\" x=\"865\" y=\"-1035\"/>\n<use href=\"#obstacle\" x=\"965\" y=\"-135\"/>\n<use href=\"#obstacle\" x=\"965\" y=\"-235\"/>\n<use href=\"#obstacle\" x=\"965\" y=\"-335\"/>\n<use href=\"#obstacle\" x=\"965\" y=\"-435\"/>\n<use href=\"#obstacle\" x=\"965\" y=\"-535\"/>\n<use href=\"#obstacle\" x=\"965\" y=\"-635\"/>\n<use href=\"#obstacle\" x=\"965\" y=\"-735\"/>\n<use href=\"#obstacle\" x=\"965\" y=\"-835\"/>\n<use href=\"#obstacle\" x=\"965\" y=\"-935\"/>\n<use href=\"#obstacle\" x=\"965\" y=\"-1035\"/>\n<circle class=\"agent\" cx=\"200\" cy=\"-400\" fill=\"#c1433c\" r=\"35\"> <animate attributeName=\"cy\" dur=\"2.75s\" keyTimes=\"0.0;0.0833333333;0.1666666667;0.25;0.3333333333;0.4166666667;0.5;0.5833333333;1.0\" repeatCount=\"indefinite\" values=\"-400;-400;-400;-300;-400;-400;-300;-200;-200\"/>\n<animate attributeName=\"cx\" dur=\"2.75s\" keyTimes=\"0.0;0.0833333333;0.8333333333;0.9166666667;1.0\" repeatCount=\"indefinite\" values=\"200;200;200;300;300\"/>\n<animate attributeName=\"visibility\" dur=\"2.75s\" keyTimes=\"0.0;0.0833333333;1.0\" repeatCount=\"indefinite\" values=\"visible;visible;visible\"/> </circle>\n<circle class=\"agent\" cx=\"900\" cy=\"-400\" fill=\"#2e6f9e\" r=\"35\"> <animate attributeName=\"cy\" dur=\"2.75s\" keyTimes=\"0.0;0.0833333333;0.5;0.5833333333;1.0\" repeatCount=\"indefinite\" values=\"-400;-400;-400;-500;-500\"/>\n<animate attributeName=\"cx\" dur=\"2.75s\" keyTimes=\"0.0;0.0833333333;0.1666666667;0.25;0.3333333333;0.4166666667;0.5833333333;0.6666666667;0.8333333333;0.9166666667;1.0\" repeatCount=\"indefinite\" values=\"900;900;800;900;900;800;800;700;700;800;800\"/>\n<animate attributeName=\"visibility\" dur=\"2.75s\" keyTimes=\"0.0;0.0833333333;1.0\" repeatCount=\"indefinite\" values=\"visible;visible;visible\"/> </circle>\n<circle class=\"agent\" cx=\"600\" cy=\"-200\" fill=\"#6e81af\" r=\"35\"> <animate attributeName=\"cy\" dur=\"2.75s\" keyTimes=\"0.0;0.0833333333;1.0\" repeatCount=\"indefinite\" values=\"-200;-200;-200\"/>\n<animate attributeName=\"cx\" dur=\"2.75s\" keyTimes=\"0.0;0.0833333333;0.1666666667;0.3333333333;0.4166666667;0.5;0.75;0.8333333333;1.0\" repeatCount=\"indefinite\" values=\"600;600;500;500;400;500;500;600;600\"/>\n<animate attributeName=\"visibility\" dur=\"2.75s\" keyTimes=\"0.0;0.0833333333;1.0\" repeatCount=\"indefinite\" values=\"visible;visible;visible\"/> </circle>\n<circle class=\"agent\" cx=\"800\" cy=\"-200\" fill=\"#00b9c8\" r=\"35\"> <animate attributeName=\"cy\" dur=\"2.75s\" keyTimes=\"0.0;0.0833333333;1.0\" repeatCount=\"indefinite\" values=\"-200;-200;-200\"/>\n<animate attributeName=\"cx\" dur=\"2.75s\" keyTimes=\"0.0;0.0833333333;0.1666666667;0.25;0.3333333333;0.4166666667;0.5;0.5833333333;0.8333333333;0.9166666667;1.0\" repeatCount=\"indefinite\" values=\"800;800;800;700;800;700;700;800;800;700;700\"/>\n<animate attributeName=\"visibility\" dur=\"2.75s\" keyTimes=\"0.0;0.0833333333;1.0\" repeatCount=\"indefinite\" values=\"visible;visible;visible\"/> </circle>\n<circle class=\"target\" cx=\"500\" cy=\"-500\" r=\"35\" stroke=\"#c1433c\"> <animate attributeName=\"visibility\" dur=\"2.75s\" keyTimes=\"0.0;0.0833333333;1.0\" repeatCount=\"indefinite\" values=\"visible;visible;visible\"/> </circle>\n<circle class=\"target\" cx=\"200\" cy=\"-500\" r=\"35\" stroke=\"#2e6f9e\"> <animate attributeName=\"visibility\" dur=\"2.75s\" keyTimes=\"0.0;0.0833333333;1.0\" repeatCount=\"indefinite\" values=\"visible;visible;visible\"/> </circle>\n<circle class=\"target\" cx=\"300\" cy=\"-800\" r=\"35\" stroke=\"#6e81af\"> <animate attributeName=\"visibility\" dur=\"2.75s\" keyTimes=\"0.0;0.0833333333;1.0\" repeatCount=\"indefinite\" values=\"visible;visible;visible\"/> </circle>\n<circle class=\"target\" cx=\"900\" cy=\"-500\" r=\"35\" stroke=\"#00b9c8\"> <animate attributeName=\"visibility\" dur=\"2.75s\" keyTimes=\"0.0;0.0833333333;1.0\" repeatCount=\"indefinite\" values=\"visible;visible;visible\"/> </circle>\n</svg>",
            "text/plain": [
              "<IPython.core.display.SVG object>"
            ]
          },
          "metadata": {},
          "output_type": "display_data"
        }
      ],
      "source": [
        "env = pogema_v0(grid_config=hard_config)\n",
        "env = AnimationMonitor(\n",
        "    env\n",
        ")  # with this line of code we are wrapping our environment so that it can be animated\n",
        "obs, info = env.reset()\n",
        "for _ in range(10):\n",
        "    actions = env.sample_actions()\n",
        "    print(f\"Undertaking actions: {actions}\")\n",
        "    obs, reward, terminated, truncated, info = env.step(actions)\n",
        "    if all(terminated) or all(truncated):\n",
        "        break\n",
        "\n",
        "animation_path = os.path.join(\"data\", \"test_animation_default.svg\")\n",
        "env.save_animation(animation_path)  # to save animation, use env.save_animation\n",
        "display(SVG(animation_path))"
      ]
    },
    {
      "cell_type": "markdown",
      "metadata": {
        "id": "EgRrPM8T3FWo"
      },
      "source": [
        "In addition, Pogema, by default, considers that all agents have limited observability of the environment. Each agent can only observe a small portion of the map within a fixed `obs_radius`, known as the Field of View (FOV).\n",
        "\n",
        "`AnimationConfig` enables us to render animations considering this FOV.\n"
      ]
    },
    {
      "cell_type": "code",
      "execution_count": null,
      "metadata": {
        "colab": {
          "base_uri": "https://localhost:8080/",
          "height": 534
        },
        "id": "mgjW3P9X3EEj",
        "outputId": "75b76df6-3075-4234-e208-82b9b2f84fcb"
      },
      "outputs": [
        {
          "data": {
            "image/svg+xml": "<svg xmlns=\"http://www.w3.org/2000/svg\" xmlns:xlink=\"http://www.w3.org/1999/xlink\" width=\"512\" height=\"512\" viewBox=\"0 -1100 1100 1100\">\n<defs>\n\n        <rect id=\"obstacle\" width=\"70\" height=\"70\" fill=\"#84A1AE\" rx=\"15\"/>\n        <style>\n        .line {stroke: #84A1AE; stroke-width: 10;}\n        .agent {r: 35;}\n        .target {fill: none; stroke-width: 10; r: 35;}\n        </style>\n        \n</defs>\n\n<line class=\"line\" x1=\"-50.0\" x2=\"-50.0\" y1=\"0\" y2=\"-1100\"/>\n<line class=\"line\" x1=\"50.0\" x2=\"50.0\" y1=\"0\" y2=\"-1100\"/>\n<line class=\"line\" x1=\"150.0\" x2=\"150.0\" y1=\"0\" y2=\"-1100\"/>\n<line class=\"line\" x1=\"250.0\" x2=\"250.0\" y1=\"0\" y2=\"-1100\"/>\n<line class=\"line\" x1=\"350.0\" x2=\"350.0\" y1=\"0\" y2=\"-1100\"/>\n<line class=\"line\" x1=\"450.0\" x2=\"450.0\" y1=\"0\" y2=\"-1100\"/>\n<line class=\"line\" x1=\"550.0\" x2=\"550.0\" y1=\"0\" y2=\"-1100\"/>\n<line class=\"line\" x1=\"650.0\" x2=\"650.0\" y1=\"0\" y2=\"-1100\"/>\n<line class=\"line\" x1=\"750.0\" x2=\"750.0\" y1=\"0\" y2=\"-1100\"/>\n<line class=\"line\" x1=\"850.0\" x2=\"850.0\" y1=\"0\" y2=\"-1100\"/>\n<line class=\"line\" x1=\"950.0\" x2=\"950.0\" y1=\"0\" y2=\"-1100\"/>\n<line class=\"line\" x1=\"1050.0\" x2=\"1050.0\" y1=\"0\" y2=\"-1100\"/>\n<line class=\"line\" x1=\"0\" x2=\"1100\" y1=\"50.0\" y2=\"50.0\"/>\n<line class=\"line\" x1=\"0\" x2=\"1100\" y1=\"-50.0\" y2=\"-50.0\"/>\n<line class=\"line\" x1=\"0\" x2=\"1100\" y1=\"-150.0\" y2=\"-150.0\"/>\n<line class=\"line\" x1=\"0\" x2=\"1100\" y1=\"-250.0\" y2=\"-250.0\"/>\n<line class=\"line\" x1=\"0\" x2=\"1100\" y1=\"-350.0\" y2=\"-350.0\"/>\n<line class=\"line\" x1=\"0\" x2=\"1100\" y1=\"-450.0\" y2=\"-450.0\"/>\n<line class=\"line\" x1=\"0\" x2=\"1100\" y1=\"-550.0\" y2=\"-550.0\"/>\n<line class=\"line\" x1=\"0\" x2=\"1100\" y1=\"-650.0\" y2=\"-650.0\"/>\n<line class=\"line\" x1=\"0\" x2=\"1100\" y1=\"-750.0\" y2=\"-750.0\"/>\n<line class=\"line\" x1=\"0\" x2=\"1100\" y1=\"-850.0\" y2=\"-850.0\"/>\n<line class=\"line\" x1=\"0\" x2=\"1100\" y1=\"-950.0\" y2=\"-950.0\"/>\n<line class=\"line\" x1=\"0\" x2=\"1100\" y1=\"-1050.0\" y2=\"-1050.0\"/>\n<use href=\"#obstacle\" x=\"65\" y=\"-135\"> <animate attributeName=\"opacity\" dur=\"2.5s\" keyTimes=\"0.0;0.0909090909;1.0\" repeatCount=\"indefinite\" values=\"1.0;1.0;1.0\"/> </use>\n<use href=\"#obstacle\" x=\"65\" y=\"-235\"> <animate attributeName=\"opacity\" dur=\"2.5s\" keyTimes=\"0.0;0.0909090909;1.0\" repeatCount=\"indefinite\" values=\"1.0;1.0;1.0\"/> </use>\n<use href=\"#obstacle\" x=\"65\" y=\"-335\"> <animate attributeName=\"opacity\" dur=\"2.5s\" keyTimes=\"0.0;0.0909090909;1.0\" repeatCount=\"indefinite\" values=\"1.0;1.0;1.0\"/> </use>\n<use href=\"#obstacle\" x=\"65\" y=\"-435\"> <animate attributeName=\"opacity\" dur=\"2.5s\" keyTimes=\"0.0;0.0909090909;1.0\" repeatCount=\"indefinite\" values=\"1.0;1.0;1.0\"/> </use>\n<use href=\"#obstacle\" x=\"65\" y=\"-535\"> <animate attributeName=\"opacity\" dur=\"2.5s\" keyTimes=\"0.0;0.0909090909;1.0\" repeatCount=\"indefinite\" values=\"1.0;1.0;1.0\"/> </use>\n<use href=\"#obstacle\" x=\"65\" y=\"-635\"> <animate attributeName=\"opacity\" dur=\"2.5s\" keyTimes=\"0.0;0.0909090909;1.0\" repeatCount=\"indefinite\" values=\"1.0;1.0;1.0\"/> </use>\n<use href=\"#obstacle\" x=\"65\" y=\"-735\"> <animate attributeName=\"opacity\" dur=\"2.5s\" keyTimes=\"0.0;0.0909090909;1.0\" repeatCount=\"indefinite\" values=\"1.0;1.0;1.0\"/> </use>\n<use href=\"#obstacle\" x=\"65\" y=\"-835\"> <animate attributeName=\"opacity\" dur=\"2.5s\" keyTimes=\"0.0;0.0909090909;1.0\" repeatCount=\"indefinite\" values=\"1.0;1.0;1.0\"/> </use>\n<use href=\"#obstacle\" x=\"65\" y=\"-935\"> <animate attributeName=\"opacity\" dur=\"2.5s\" keyTimes=\"0.0;0.0909090909;1.0\" repeatCount=\"indefinite\" values=\"1.0;1.0;1.0\"/> </use>\n<use href=\"#obstacle\" opacity=\"0.2\" x=\"65\" y=\"-1035\"> <animate attributeName=\"opacity\" dur=\"2.5s\" keyTimes=\"0.0;0.0909090909;1.0\" repeatCount=\"indefinite\" values=\"0.2;0.2;0.2\"/> </use>\n<use href=\"#obstacle\" x=\"165\" y=\"-135\"> <animate attributeName=\"opacity\" dur=\"2.5s\" keyTimes=\"0.0;0.0909090909;1.0\" repeatCount=\"indefinite\" values=\"1.0;1.0;1.0\"/> </use>\n<use href=\"#obstacle\" x=\"165\" y=\"-635\"> <animate attributeName=\"opacity\" dur=\"2.5s\" keyTimes=\"0.0;0.0909090909;1.0\" repeatCount=\"indefinite\" values=\"1.0;1.0;1.0\"/> </use>\n<use href=\"#obstacle\" x=\"165\" y=\"-935\"> <animate attributeName=\"opacity\" dur=\"2.5s\" keyTimes=\"0.0;0.0909090909;1.0\" repeatCount=\"indefinite\" values=\"1.0;1.0;1.0\"/> </use>\n<use href=\"#obstacle\" opacity=\"0.2\" x=\"165\" y=\"-1035\"> <animate attributeName=\"opacity\" dur=\"2.5s\" keyTimes=\"0.0;0.0909090909;1.0\" repeatCount=\"indefinite\" values=\"0.2;0.2;0.2\"/> </use>\n<use href=\"#obstacle\" x=\"265\" y=\"-135\"> <animate attributeName=\"opacity\" dur=\"2.5s\" keyTimes=\"0.0;0.0909090909;1.0\" repeatCount=\"indefinite\" values=\"1.0;1.0;1.0\"/> </use>\n<use href=\"#obstacle\" x=\"265\" y=\"-435\"> <animate attributeName=\"opacity\" dur=\"2.5s\" keyTimes=\"0.0;0.0909090909;1.0\" repeatCount=\"indefinite\" values=\"1.0;1.0;1.0\"/> </use>\n<use href=\"#obstacle\" opacity=\"0.2\" x=\"265\" y=\"-1035\"> <animate attributeName=\"opacity\" dur=\"2.5s\" keyTimes=\"0.0;0.0909090909;1.0\" repeatCount=\"indefinite\" values=\"0.2;0.2;0.2\"/> </use>\n<use href=\"#obstacle\" x=\"365\" y=\"-135\"> <animate attributeName=\"opacity\" dur=\"2.5s\" keyTimes=\"0.0;0.0909090909;1.0\" repeatCount=\"indefinite\" values=\"1.0;1.0;1.0\"/> </use>\n<use href=\"#obstacle\" x=\"365\" y=\"-435\"> <animate attributeName=\"opacity\" dur=\"2.5s\" keyTimes=\"0.0;0.0909090909;1.0\" repeatCount=\"indefinite\" values=\"1.0;1.0;1.0\"/> </use>\n<use href=\"#obstacle\" x=\"365\" y=\"-735\"> <animate attributeName=\"opacity\" dur=\"2.5s\" keyTimes=\"0.0;0.0909090909;1.0\" repeatCount=\"indefinite\" values=\"1.0;1.0;1.0\"/> </use>\n<use href=\"#obstacle\" x=\"365\" y=\"-935\"> <animate attributeName=\"opacity\" dur=\"2.5s\" keyTimes=\"0.0;0.0909090909;1.0\" repeatCount=\"indefinite\" values=\"1.0;1.0;1.0\"/> </use>\n<use href=\"#obstacle\" opacity=\"0.2\" x=\"365\" y=\"-1035\"> <animate attributeName=\"opacity\" dur=\"2.5s\" keyTimes=\"0.0;0.0909090909;1.0\" repeatCount=\"indefinite\" values=\"0.2;0.2;0.2\"/> </use>\n<use href=\"#obstacle\" x=\"465\" y=\"-135\"> <animate attributeName=\"opacity\" dur=\"2.5s\" keyTimes=\"0.0;0.0909090909;1.0\" repeatCount=\"indefinite\" values=\"1.0;1.0;1.0\"/> </use>\n<use href=\"#obstacle\" x=\"465\" y=\"-835\"> <animate attributeName=\"opacity\" dur=\"2.5s\" keyTimes=\"0.0;0.0909090909;1.0\" repeatCount=\"indefinite\" values=\"1.0;1.0;1.0\"/> </use>\n<use href=\"#obstacle\" opacity=\"0.2\" x=\"465\" y=\"-1035\"> <animate attributeName=\"opacity\" dur=\"2.5s\" keyTimes=\"0.0;0.0909090909;1.0\" repeatCount=\"indefinite\" values=\"0.2;0.2;0.2\"/> </use>\n<use href=\"#obstacle\" x=\"565\" y=\"-135\"> <animate attributeName=\"opacity\" dur=\"2.5s\" keyTimes=\"0.0;0.0909090909;1.0\" repeatCount=\"indefinite\" values=\"1.0;1.0;1.0\"/> </use>\n<use href=\"#obstacle\" x=\"565\" y=\"-335\"> <animate attributeName=\"opacity\" dur=\"2.5s\" keyTimes=\"0.0;0.0909090909;1.0\" repeatCount=\"indefinite\" values=\"1.0;1.0;1.0\"/> </use>\n<use href=\"#obstacle\" x=\"565\" y=\"-435\"> <animate attributeName=\"opacity\" dur=\"2.5s\" keyTimes=\"0.0;0.0909090909;1.0\" repeatCount=\"indefinite\" values=\"1.0;1.0;1.0\"/> </use>\n<use href=\"#obstacle\" x=\"565\" y=\"-735\"> <animate attributeName=\"opacity\" dur=\"2.5s\" keyTimes=\"0.0;0.0909090909;1.0\" repeatCount=\"indefinite\" values=\"1.0;1.0;1.0\"/> </use>\n<use href=\"#obstacle\" opacity=\"0.2\" x=\"565\" y=\"-1035\"> <animate attributeName=\"opacity\" dur=\"2.5s\" keyTimes=\"0.0;0.0909090909;1.0\" repeatCount=\"indefinite\" values=\"0.2;0.2;0.2\"/> </use>\n<use href=\"#obstacle\" x=\"665\" y=\"-135\"> <animate attributeName=\"opacity\" dur=\"2.5s\" keyTimes=\"0.0;0.0909090909;1.0\" repeatCount=\"indefinite\" values=\"1.0;1.0;1.0\"/> </use>\n<use href=\"#obstacle\" x=\"665\" y=\"-435\"> <animate attributeName=\"opacity\" dur=\"2.5s\" keyTimes=\"0.0;0.0909090909;1.0\" repeatCount=\"indefinite\" values=\"1.0;1.0;1.0\"/> </use>\n<use href=\"#obstacle\" x=\"665\" y=\"-835\"> <animate attributeName=\"opacity\" dur=\"2.5s\" keyTimes=\"0.0;0.0909090909;1.0\" repeatCount=\"indefinite\" values=\"1.0;1.0;1.0\"/> </use>\n<use href=\"#obstacle\" x=\"665\" y=\"-935\"> <animate attributeName=\"opacity\" dur=\"2.5s\" keyTimes=\"0.0;0.0909090909;1.0\" repeatCount=\"indefinite\" values=\"1.0;1.0;1.0\"/> </use>\n<use href=\"#obstacle\" opacity=\"0.2\" x=\"665\" y=\"-1035\"> <animate attributeName=\"opacity\" dur=\"2.5s\" keyTimes=\"0.0;0.0909090909;1.0\" repeatCount=\"indefinite\" values=\"0.2;0.2;0.2\"/> </use>\n<use href=\"#obstacle\" opacity=\"0.2\" x=\"765\" y=\"-135\"> <animate attributeName=\"opacity\" dur=\"2.5s\" keyTimes=\"0.0;0.0909090909;0.9090909091;1.0\" repeatCount=\"indefinite\" values=\"0.2;0.2;0.2;1.0\"/> </use>\n<use href=\"#obstacle\" opacity=\"0.2\" x=\"765\" y=\"-335\"> <animate attributeName=\"opacity\" dur=\"2.5s\" keyTimes=\"0.0;0.0909090909;0.9090909091;1.0\" repeatCount=\"indefinite\" values=\"0.2;0.2;0.2;1.0\"/> </use>\n<use href=\"#obstacle\" opacity=\"0.2\" x=\"765\" y=\"-635\"> <animate attributeName=\"opacity\" dur=\"2.5s\" keyTimes=\"0.0;0.0909090909;0.9090909091;1.0\" repeatCount=\"indefinite\" values=\"0.2;0.2;0.2;1.0\"/> </use>\n<use href=\"#obstacle\" opacity=\"0.2\" x=\"765\" y=\"-735\"> <animate attributeName=\"opacity\" dur=\"2.5s\" keyTimes=\"0.0;0.0909090909;0.9090909091;1.0\" repeatCount=\"indefinite\" values=\"0.2;0.2;0.2;1.0\"/> </use>\n<use href=\"#obstacle\" opacity=\"0.2\" x=\"765\" y=\"-935\"> <animate attributeName=\"opacity\" dur=\"2.5s\" keyTimes=\"0.0;0.0909090909;1.0\" repeatCount=\"indefinite\" values=\"0.2;0.2;0.2\"/> </use>\n<use href=\"#obstacle\" opacity=\"0.2\" x=\"765\" y=\"-1035\"> <animate attributeName=\"opacity\" dur=\"2.5s\" keyTimes=\"0.0;0.0909090909;1.0\" repeatCount=\"indefinite\" values=\"0.2;0.2;0.2\"/> </use>\n<use href=\"#obstacle\" opacity=\"0.2\" x=\"865\" y=\"-135\"> <animate attributeName=\"opacity\" dur=\"2.5s\" keyTimes=\"0.0;0.0909090909;1.0\" repeatCount=\"indefinite\" values=\"0.2;0.2;0.2\"/> </use>\n<use href=\"#obstacle\" opacity=\"0.2\" x=\"865\" y=\"-235\"> <animate attributeName=\"opacity\" dur=\"2.5s\" keyTimes=\"0.0;0.0909090909;1.0\" repeatCount=\"indefinite\" values=\"0.2;0.2;0.2\"/> </use>\n<use href=\"#obstacle\" opacity=\"0.2\" x=\"865\" y=\"-335\"> <animate attributeName=\"opacity\" dur=\"2.5s\" keyTimes=\"0.0;0.0909090909;1.0\" repeatCount=\"indefinite\" values=\"0.2;0.2;0.2\"/> </use>\n<use href=\"#obstacle\" opacity=\"0.2\" x=\"865\" y=\"-635\"> <animate attributeName=\"opacity\" dur=\"2.5s\" keyTimes=\"0.0;0.0909090909;1.0\" repeatCount=\"indefinite\" values=\"0.2;0.2;0.2\"/> </use>\n<use href=\"#obstacle\" opacity=\"0.2\" x=\"865\" y=\"-735\"> <animate attributeName=\"opacity\" dur=\"2.5s\" keyTimes=\"0.0;0.0909090909;1.0\" repeatCount=\"indefinite\" values=\"0.2;0.2;0.2\"/> </use>\n<use href=\"#obstacle\" opacity=\"0.2\" x=\"865\" y=\"-935\"> <animate attributeName=\"opacity\" dur=\"2.5s\" keyTimes=\"0.0;0.0909090909;1.0\" repeatCount=\"indefinite\" values=\"0.2;0.2;0.2\"/> </use>\n<use href=\"#obstacle\" opacity=\"0.2\" x=\"865\" y=\"-1035\"> <animate attributeName=\"opacity\" dur=\"2.5s\" keyTimes=\"0.0;0.0909090909;1.0\" repeatCount=\"indefinite\" values=\"0.2;0.2;0.2\"/> </use>\n<use href=\"#obstacle\" opacity=\"0.2\" x=\"965\" y=\"-135\"> <animate attributeName=\"opacity\" dur=\"2.5s\" keyTimes=\"0.0;0.0909090909;1.0\" repeatCount=\"indefinite\" values=\"0.2;0.2;0.2\"/> </use>\n<use href=\"#obstacle\" opacity=\"0.2\" x=\"965\" y=\"-235\"> <animate attributeName=\"opacity\" dur=\"2.5s\" keyTimes=\"0.0;0.0909090909;1.0\" repeatCount=\"indefinite\" values=\"0.2;0.2;0.2\"/> </use>\n<use href=\"#obstacle\" opacity=\"0.2\" x=\"965\" y=\"-335\"> <animate attributeName=\"opacity\" dur=\"2.5s\" keyTimes=\"0.0;0.0909090909;1.0\" repeatCount=\"indefinite\" values=\"0.2;0.2;0.2\"/> </use>\n<use href=\"#obstacle\" opacity=\"0.2\" x=\"965\" y=\"-435\"> <animate attributeName=\"opacity\" dur=\"2.5s\" keyTimes=\"0.0;0.0909090909;1.0\" repeatCount=\"indefinite\" values=\"0.2;0.2;0.2\"/> </use>\n<use href=\"#obstacle\" opacity=\"0.2\" x=\"965\" y=\"-535\"> <animate attributeName=\"opacity\" dur=\"2.5s\" keyTimes=\"0.0;0.0909090909;1.0\" repeatCount=\"indefinite\" values=\"0.2;0.2;0.2\"/> </use>\n<use href=\"#obstacle\" opacity=\"0.2\" x=\"965\" y=\"-635\"> <animate attributeName=\"opacity\" dur=\"2.5s\" keyTimes=\"0.0;0.0909090909;1.0\" repeatCount=\"indefinite\" values=\"0.2;0.2;0.2\"/> </use>\n<use href=\"#obstacle\" opacity=\"0.2\" x=\"965\" y=\"-735\"> <animate attributeName=\"opacity\" dur=\"2.5s\" keyTimes=\"0.0;0.0909090909;1.0\" repeatCount=\"indefinite\" values=\"0.2;0.2;0.2\"/> </use>\n<use href=\"#obstacle\" opacity=\"0.2\" x=\"965\" y=\"-835\"> <animate attributeName=\"opacity\" dur=\"2.5s\" keyTimes=\"0.0;0.0909090909;1.0\" repeatCount=\"indefinite\" values=\"0.2;0.2;0.2\"/> </use>\n<use href=\"#obstacle\" opacity=\"0.2\" x=\"965\" y=\"-935\"> <animate attributeName=\"opacity\" dur=\"2.5s\" keyTimes=\"0.0;0.0909090909;1.0\" repeatCount=\"indefinite\" values=\"0.2;0.2;0.2\"/> </use>\n<use href=\"#obstacle\" opacity=\"0.2\" x=\"965\" y=\"-1035\"> <animate attributeName=\"opacity\" dur=\"2.5s\" keyTimes=\"0.0;0.0909090909;1.0\" repeatCount=\"indefinite\" values=\"0.2;0.2;0.2\"/> </use>\n<circle class=\"agent\" cx=\"200\" cy=\"-400\" fill=\"#c1433c\" r=\"35\"> <animate attributeName=\"cy\" dur=\"2.5s\" keyTimes=\"0.0;0.0909090909;0.1818181818;0.2727272727;0.3636363636;0.4545454545;0.5454545455;0.6363636364;1.0\" repeatCount=\"indefinite\" values=\"-400;-400;-400;-300;-400;-400;-300;-200;-200\"/>\n<animate attributeName=\"cx\" dur=\"2.5s\" keyTimes=\"0.0;0.0909090909;0.9090909091;1.0\" repeatCount=\"indefinite\" values=\"200;200;200;300\"/>\n<animate attributeName=\"visibility\" dur=\"2.5s\" keyTimes=\"0.0;0.0909090909;1.0\" repeatCount=\"indefinite\" values=\"visible;visible;visible\"/>\n<animate attributeName=\"opacity\" dur=\"2.5s\" keyTimes=\"0.0;0.0909090909;1.0\" repeatCount=\"indefinite\" values=\"1.0;1.0;1.0\"/> </circle>\n<circle class=\"agent\" cx=\"900\" cy=\"-400\" fill=\"#6e81af\" opacity=\"0.2\" r=\"35\"> <animate attributeName=\"cy\" dur=\"2.5s\" keyTimes=\"0.0;0.0909090909;0.5454545455;0.6363636364;1.0\" repeatCount=\"indefinite\" values=\"-400;-400;-400;-500;-500\"/>\n<animate attributeName=\"cx\" dur=\"2.5s\" keyTimes=\"0.0;0.0909090909;0.1818181818;0.2727272727;0.3636363636;0.4545454545;0.6363636364;0.7272727273;0.9090909091;1.0\" repeatCount=\"indefinite\" values=\"900;900;800;900;900;800;800;700;700;800\"/>\n<animate attributeName=\"visibility\" dur=\"2.5s\" keyTimes=\"0.0;0.0909090909;1.0\" repeatCount=\"indefinite\" values=\"visible;visible;visible\"/>\n<animate attributeName=\"opacity\" dur=\"2.5s\" keyTimes=\"0.0;0.0909090909;0.6363636364;0.7272727273;1.0\" repeatCount=\"indefinite\" values=\"0.2;0.2;0.2;1.0;1.0\"/> </circle>\n<circle class=\"agent\" cx=\"600\" cy=\"-200\" fill=\"#6e81af\" r=\"35\"> <animate attributeName=\"cy\" dur=\"2.5s\" keyTimes=\"0.0;0.0909090909;1.0\" repeatCount=\"indefinite\" values=\"-200;-200;-200\"/>\n<animate attributeName=\"cx\" dur=\"2.5s\" keyTimes=\"0.0;0.0909090909;0.1818181818;0.3636363636;0.4545454545;0.5454545455;0.8181818182;0.9090909091;1.0\" repeatCount=\"indefinite\" values=\"600;600;500;500;400;500;500;600;600\"/>\n<animate attributeName=\"visibility\" dur=\"2.5s\" keyTimes=\"0.0;0.0909090909;1.0\" repeatCount=\"indefinite\" values=\"visible;visible;visible\"/>\n<animate attributeName=\"opacity\" dur=\"2.5s\" keyTimes=\"0.0;0.0909090909;1.0\" repeatCount=\"indefinite\" values=\"1.0;1.0;1.0\"/> </circle>\n<circle class=\"agent\" cx=\"800\" cy=\"-200\" fill=\"#6e81af\" opacity=\"0.2\" r=\"35\"> <animate attributeName=\"cy\" dur=\"2.5s\" keyTimes=\"0.0;0.0909090909;1.0\" repeatCount=\"indefinite\" values=\"-200;-200;-200\"/>\n<animate attributeName=\"cx\" dur=\"2.5s\" keyTimes=\"0.0;0.0909090909;0.1818181818;0.2727272727;0.3636363636;0.4545454545;0.5454545455;0.6363636364;0.9090909091;1.0\" repeatCount=\"indefinite\" values=\"800;800;800;700;800;700;700;800;800;700\"/>\n<animate attributeName=\"visibility\" dur=\"2.5s\" keyTimes=\"0.0;0.0909090909;1.0\" repeatCount=\"indefinite\" values=\"visible;visible;visible\"/>\n<animate attributeName=\"opacity\" dur=\"2.5s\" keyTimes=\"0.0;0.0909090909;0.1818181818;0.2727272727;0.3636363636;0.4545454545;0.5454545455;0.6363636364;0.9090909091;1.0\" repeatCount=\"indefinite\" values=\"0.2;0.2;0.2;1.0;0.2;1.0;1.0;0.2;0.2;1.0\"/> </circle>\n<circle class=\"target\" cx=\"500\" cy=\"-500\" r=\"35\" stroke=\"#c1433c\"> <animate attributeName=\"visibility\" dur=\"2.5s\" keyTimes=\"0.0;0.0909090909;1.0\" repeatCount=\"indefinite\" values=\"visible;visible;visible\"/> </circle>\n<rect fill=\"none\" height=\"1090\" rx=\"15\" stroke=\"#c1433c\" stroke-dasharray=\"25\" stroke-width=\"10\" width=\"1090\" x=\"-345\" y=\"-945\"> <animate attributeName=\"x\" dur=\"2.5s\" keyTimes=\"0.0;0.0909090909;0.9090909091;1.0\" repeatCount=\"indefinite\" values=\"-345;-345;-345;-245\"/>\n<animate attributeName=\"y\" dur=\"2.5s\" keyTimes=\"0.0;0.0909090909;0.1818181818;0.2727272727;0.3636363636;0.4545454545;0.5454545455;0.6363636364;1.0\" repeatCount=\"indefinite\" values=\"-945;-945;-945;-845;-945;-945;-845;-745;-745\"/>\n<animate attributeName=\"visibility\" dur=\"2.5s\" keyTimes=\"0.0;0.0909090909;1.0\" repeatCount=\"indefinite\" values=\"visible;visible;visible\"/> </rect>\n</svg>",
            "text/plain": [
              "<IPython.core.display.SVG object>"
            ]
          },
          "metadata": {},
          "output_type": "display_data"
        }
      ],
      "source": [
        "# let's pass AnimationConfig to render animation from the perspective of the agent 0\n",
        "animation_path = os.path.join(\"data\", \"test_animation_egocentric.svg\")\n",
        "env.save_animation(animation_path, AnimationConfig(egocentric_idx=0))\n",
        "display(SVG(animation_path))"
      ]
    },
    {
      "cell_type": "markdown",
      "metadata": {
        "id": "RuQ5iJqazLDu"
      },
      "source": [
        "### Custom Config\n",
        "\n",
        "Pogema allows the creation of custom random maps using `GridConfig`. Passing an instance of `GridConfig` while constructing the environment, as in `pogema_v0(grid_config=GridConfig(...))`, creates a randomly generated map with a fixed density and additional rules specified in GridConfig. A random map is a matrix $N \\times N$ with randomly generated obstacles (with probability density). Additionally, Pogema allows the creation of custom maps based on MovingAI environments or even manually specified layouts. However, we will not be focusing on these in this lab.\n",
        "\n",
        "Below, we present one of the many ways that can be used to specify a MAPF scenario.\n"
      ]
    },
    {
      "cell_type": "code",
      "execution_count": null,
      "metadata": {
        "colab": {
          "base_uri": "https://localhost:8080/",
          "height": 534
        },
        "id": "FfeambmJzMSC",
        "outputId": "73b07f8f-00e8-4996-a870-45fd215b44d9"
      },
      "outputs": [
        {
          "data": {
            "image/svg+xml": "<svg xmlns=\"http://www.w3.org/2000/svg\" xmlns:xlink=\"http://www.w3.org/1999/xlink\" width=\"512\" height=\"512\" viewBox=\"0 -500 500 500\">\n<defs>\n\n        <rect id=\"obstacle\" width=\"70\" height=\"70\" fill=\"#84A1AE\" rx=\"15\"/>\n        <style>\n        .line {stroke: #84A1AE; stroke-width: 10;}\n        .agent {r: 35;}\n        .target {fill: none; stroke-width: 10; r: 35;}\n        </style>\n        \n</defs>\n\n<line class=\"line\" x1=\"-50.0\" x2=\"-50.0\" y1=\"0\" y2=\"-500\"/>\n<line class=\"line\" x1=\"50.0\" x2=\"50.0\" y1=\"0\" y2=\"-500\"/>\n<line class=\"line\" x1=\"150.0\" x2=\"150.0\" y1=\"0\" y2=\"-500\"/>\n<line class=\"line\" x1=\"250.0\" x2=\"250.0\" y1=\"0\" y2=\"-500\"/>\n<line class=\"line\" x1=\"350.0\" x2=\"350.0\" y1=\"0\" y2=\"-500\"/>\n<line class=\"line\" x1=\"450.0\" x2=\"450.0\" y1=\"0\" y2=\"-500\"/>\n<line class=\"line\" x1=\"0\" x2=\"500\" y1=\"50.0\" y2=\"50.0\"/>\n<line class=\"line\" x1=\"0\" x2=\"500\" y1=\"-50.0\" y2=\"-50.0\"/>\n<line class=\"line\" x1=\"0\" x2=\"500\" y1=\"-150.0\" y2=\"-150.0\"/>\n<line class=\"line\" x1=\"0\" x2=\"500\" y1=\"-250.0\" y2=\"-250.0\"/>\n<line class=\"line\" x1=\"0\" x2=\"500\" y1=\"-350.0\" y2=\"-350.0\"/>\n<line class=\"line\" x1=\"0\" x2=\"500\" y1=\"-450.0\" y2=\"-450.0\"/>\n<use href=\"#obstacle\" x=\"65\" y=\"-135\"/>\n<use href=\"#obstacle\" x=\"65\" y=\"-235\"/>\n<use href=\"#obstacle\" x=\"65\" y=\"-335\"/>\n<use href=\"#obstacle\" x=\"65\" y=\"-435\"/>\n<use href=\"#obstacle\" x=\"165\" y=\"-135\"/>\n<use href=\"#obstacle\" x=\"165\" y=\"-435\"/>\n<use href=\"#obstacle\" x=\"265\" y=\"-135\"/>\n<use href=\"#obstacle\" x=\"265\" y=\"-435\"/>\n<use href=\"#obstacle\" x=\"365\" y=\"-135\"/>\n<use href=\"#obstacle\" x=\"365\" y=\"-235\"/>\n<use href=\"#obstacle\" x=\"365\" y=\"-335\"/>\n<use href=\"#obstacle\" x=\"365\" y=\"-435\"/>\n<circle class=\"agent\" cx=\"300\" cy=\"-200\" fill=\"#c1433c\" r=\"35\"> <animate attributeName=\"cy\" dur=\"1.25s\" keyTimes=\"0.0;0.1666666667;0.3333333333;0.6666666667;0.8333333333;1.0\" repeatCount=\"indefinite\" values=\"-200;-200;-300;-300;-200;-200\"/>\n<animate attributeName=\"cx\" dur=\"1.25s\" keyTimes=\"0.0;0.1666666667;0.3333333333;0.5;1.0\" repeatCount=\"indefinite\" values=\"300;300;300;200;200\"/>\n<animate attributeName=\"visibility\" dur=\"1.25s\" keyTimes=\"0.0;0.1666666667;0.6666666667;0.8333333333;1.0\" repeatCount=\"indefinite\" values=\"visible;visible;visible;hidden;hidden\"/> </circle>\n<circle class=\"target\" cx=\"200\" cy=\"-200\" r=\"35\" stroke=\"#c1433c\"> <animate attributeName=\"visibility\" dur=\"1.25s\" keyTimes=\"0.0;0.1666666667;0.6666666667;0.8333333333;1.0\" repeatCount=\"indefinite\" values=\"visible;visible;visible;hidden;hidden\"/> </circle>\n</svg>",
            "text/plain": [
              "<IPython.core.display.SVG object>"
            ]
          },
          "metadata": {},
          "output_type": "display_data"
        }
      ],
      "source": [
        "gc = GridConfig(\n",
        "    num_agents=1,  # locate only single agent on the map\n",
        "    size=2,  # size of the map\n",
        "    obs_radius=2,  # radius for the observation of a single agent\n",
        "    seed=42,\n",
        "    density=0.0,  # density of obstacles\n",
        "    max_episode_steps=2,\n",
        "    on_target=\"finish\",  # let's make our agents disappear after reaching the target\n",
        ")\n",
        "env = pogema_v0(grid_config=gc)\n",
        "env = AnimationMonitor(env)\n",
        "obs, info = env.reset()\n",
        "obs, reward, terminated, truncated, info = env.step([1])\n",
        "obs, reward, terminated, truncated, info = env.step([3])\n",
        "obs, reward, terminated, truncated, info = env.step([0])\n",
        "obs, reward, terminated, truncated, info = env.step([2])\n",
        "\n",
        "animation_path = os.path.join(\"data\", \"test_custom_animation.svg\")\n",
        "env.save_animation(animation_path)\n",
        "display(SVG(animation_path))"
      ]
    },
    {
      "cell_type": "markdown",
      "metadata": {
        "id": "ypNxsmiu1fyw"
      },
      "source": [
        "### Observations"
      ]
    },
    {
      "cell_type": "code",
      "execution_count": null,
      "metadata": {
        "colab": {
          "base_uri": "https://localhost:8080/"
        },
        "id": "639loW4I1hfE",
        "outputId": "e6194086-9997-4e8d-d2f7-e257ca749ae8"
      },
      "outputs": [
        {
          "name": "stdout",
          "output_type": "stream",
          "text": [
            "\u001b[37m . \u001b[0m\u001b[37m . \u001b[0m\u001b[37m . \u001b[0m\u001b[37m . \u001b[0m\u001b[37m . \u001b[0m\u001b[37m . \u001b[0m\u001b[37m . \u001b[0m\n",
            "\u001b[37m . \u001b[0m\u001b[46m   \u001b[0m\u001b[46m   \u001b[0m\u001b[46m   \u001b[0m\u001b[46m   \u001b[0m\u001b[46m   \u001b[0m\u001b[37m . \u001b[0m\n",
            "\u001b[37m . \u001b[0m\u001b[46m   \u001b[0m\u001b[37m . \u001b[0m\u001b[37m . \u001b[0m\u001b[31;1m 1 \u001b[0m\u001b[46m   \u001b[0m\u001b[37m . \u001b[0m\n",
            "\u001b[37m . \u001b[0m\u001b[46m   \u001b[0m\u001b[31;1m 0 \u001b[0m\u001b[37m|0|\u001b[0m\u001b[46m   \u001b[0m\u001b[46m   \u001b[0m\u001b[37m . \u001b[0m\n",
            "\u001b[37m . \u001b[0m\u001b[46m   \u001b[0m\u001b[37m . \u001b[0m\u001b[37m . \u001b[0m\u001b[37m|1|\u001b[0m\u001b[46m   \u001b[0m\u001b[37m . \u001b[0m\n",
            "\u001b[37m . \u001b[0m\u001b[46m   \u001b[0m\u001b[46m   \u001b[0m\u001b[46m   \u001b[0m\u001b[46m   \u001b[0m\u001b[46m   \u001b[0m\u001b[37m . \u001b[0m\n",
            "\u001b[37m . \u001b[0m\u001b[37m . \u001b[0m\u001b[37m . \u001b[0m\u001b[37m . \u001b[0m\u001b[37m . \u001b[0m\u001b[37m . \u001b[0m\u001b[37m . \u001b[0m\n"
          ]
        }
      ],
      "source": [
        "gc = GridConfig(\n",
        "    num_agents=2,\n",
        "    size=3,\n",
        "    obs_radius=2,\n",
        "    seed=42,\n",
        "    density=1 / 9,\n",
        "    max_episode_steps=2,\n",
        "    on_target=\"finish\",\n",
        ")\n",
        "env = pogema_v0(grid_config=gc)\n",
        "obs, info = env.reset()\n",
        "env.render()"
      ]
    },
    {
      "cell_type": "markdown",
      "metadata": {
        "id": "5fNhjKht2LTg"
      },
      "source": [
        "Pogema returns observations in the following format:\n",
        "1. `obs[k][0]` returns binary mask of obstacles for agent `k` (agent `k` is located in the center of the returned matrix)\n",
        "2. `obs[k][1]` returns binary mask of agents (agent `k` is located in the center of the returned matrix)\n",
        "3. `obs[k][2]` returns binary mask for the goal (agent `k` is located in the center of the returned matrix)"
      ]
    },
    {
      "cell_type": "code",
      "execution_count": null,
      "metadata": {
        "colab": {
          "base_uri": "https://localhost:8080/"
        },
        "id": "TdTXvlPf1nde",
        "outputId": "31f931b4-cd27-43e2-d507-db501e6839f9"
      },
      "outputs": [
        {
          "data": {
            "text/plain": [
              "array([[[0., 0., 0., 0., 0.],\n",
              "        [1., 1., 1., 1., 0.],\n",
              "        [0., 0., 0., 1., 0.],\n",
              "        [0., 0., 1., 1., 0.],\n",
              "        [0., 0., 0., 1., 0.]],\n",
              "\n",
              "       [[0., 0., 0., 0., 0.],\n",
              "        [0., 0., 0., 0., 0.],\n",
              "        [0., 0., 1., 0., 0.],\n",
              "        [1., 0., 0., 0., 0.],\n",
              "        [0., 0., 0., 0., 0.]],\n",
              "\n",
              "       [[0., 0., 0., 0., 0.],\n",
              "        [0., 0., 0., 0., 0.],\n",
              "        [0., 0., 0., 0., 0.],\n",
              "        [0., 0., 0., 0., 0.],\n",
              "        [0., 0., 1., 0., 0.]]], dtype=float32)"
            ]
          },
          "execution_count": 20,
          "metadata": {},
          "output_type": "execute_result"
        }
      ],
      "source": [
        "obs[1]"
      ]
    },
    {
      "cell_type": "markdown",
      "metadata": {
        "id": "BW1saY8D2xX8"
      },
      "source": [
        "**Question:** What would happen if the goal is outside of the FOV?"
      ]
    },
    {
      "cell_type": "markdown",
      "metadata": {
        "id": "S2B6jfqLx5Gi"
      },
      "source": [
        "## Decentralized MAPF\n",
        "\n",
        "\n",
        "Consider the following setup:\n",
        "\n",
        "1. Each agent has limited observability of the environment and can see obstacles and other agents within its Field of View `obs_radius`.\n",
        "2. At each step, each agent runs a single-agent planning algorithm, treating other agents as obstacles.\n",
        "Each agent then executes the next planned action and transitions to a new state.\n",
        "3. Let's leverage our understanding of the `A*` algorithm to create a policy that maps states to actions based on this algorithm."
      ]
    },
    {
      "cell_type": "markdown",
      "metadata": {
        "id": "o_BOuN94U-b2"
      },
      "source": [
        "### Agent, Policy and Implementation details\n",
        "\n",
        "When working with Markov Decision Processes (MDPs), it is common to abstract a policy $\\pi: A \\times S \\to [0, 1]$ into a class that accepts an observation and outputs the next action in a format expected by our environment (in this case, represented by a Pogema environment). This functionality is usually implemented as an `act` function. Then, to transition into a new state in our environment, we have to call `env.step(policy.act(obs))`\n",
        "\n",
        "It is also common to model individual agents as classes, encapsulating all the necessary information for a specific actor in our environment. In this lab, each agent is represented as the `AStar` class, storing information about seen obstacles, other agents within the field of view and auxiliary information needed to run the `A*` planning algorithm.\n",
        "\n",
        "To familiarize ourselves with the most common interfaces, we will need to alter our implementation of the planning algorithms developed in previous labs.\n"
      ]
    },
    {
      "cell_type": "code",
      "execution_count": null,
      "metadata": {
        "id": "uS3ItDN9PncD"
      },
      "outputs": [],
      "source": [
        "class Node:\n",
        "    def __init__(self, coord=(float(\"inf\"), float(\"inf\")), g: int = 0, h: int = 0):\n",
        "        self.i, self.j = coord\n",
        "        self.g = g\n",
        "        self.h = h\n",
        "        self.f = g + h\n",
        "\n",
        "    def __lt__(self, other):\n",
        "        return self.f < other.f or ((self.f == other.f) and (self.g < other.g))"
      ]
    },
    {
      "cell_type": "code",
      "execution_count": null,
      "metadata": {
        "id": "tKGgxReRPqwJ"
      },
      "outputs": [],
      "source": [
        "class AStar:\n",
        "    def __init__(self):\n",
        "        \"\"\"\n",
        "        Initializes the A* search algorithm.\n",
        "\n",
        "        Attributes:\n",
        "        - start: Tuple[int, int], the starting coordinates.\n",
        "        - goal: Tuple[int, int], the goal coordinates.\n",
        "        - max_steps: int, the maximum number of steps to search.\n",
        "        - OPEN: List, the list of open nodes to be explored.\n",
        "        - CLOSED: Dict, maps coordinates of a node's parent to the node itself.\n",
        "        - obstacles: Set, the set of obstacle coordinates.\n",
        "        - other_agents: Set, the set of coordinates occupied by other agents.\n",
        "        - best_node: Node, the node with the best heuristic value so far.\n",
        "        \"\"\"\n",
        "        self.start = (0, 0)\n",
        "        self.goal = (0, 0)\n",
        "        self.max_steps = 10_000\n",
        "        self.OPEN = list()\n",
        "        self.CLOSED = (\n",
        "            dict()\n",
        "        )  # maps (parent(node).x, parent(node).y) to (node.x, node.y)\n",
        "        self.obstacles = set()\n",
        "        self.other_agents = set()\n",
        "        self.best_node = Node(self.start, 0, self.h(self.start))\n",
        "\n",
        "    def h(self, node_coord: tuple[int, int]):\n",
        "        \"\"\"\n",
        "        Heuristic function for A* search.\n",
        "\n",
        "        Args:\n",
        "        - node_coord: Tuple[int, int], the coordinates of the current node.\n",
        "\n",
        "        Returns:\n",
        "        - int, the heuristic value, which is the Manhattan distance to the goal.\n",
        "        \"\"\"\n",
        "        return abs(node_coord[0] - self.goal[0]) + abs(node_coord[1] - self.goal[1])\n",
        "\n",
        "    def get_neighbors(self, u: Node) -> list[tuple[int, int]]:\n",
        "        \"\"\"\n",
        "        Retrieves the neighbors of a given node that are not obstacles.\n",
        "\n",
        "        Args:\n",
        "        - u: Node, the current node.\n",
        "\n",
        "        Returns:\n",
        "        - List[Tuple[int, int]], a list of coordinate tuples representing neighbors.\n",
        "        \"\"\"\n",
        "        neighbors = []\n",
        "        for di, dj in ((-1, 0), (1, 0), (0, -1), (0, 1)):\n",
        "            if (u.i + di, u.j + dj) not in self.obstacles:\n",
        "                neighbors.append((u.i + di, u.j + dj))\n",
        "        return neighbors\n",
        "\n",
        "    def _run_astar(self):\n",
        "        \"\"\"\n",
        "        Runs the A* algorithm to find the best path from start to goal.\n",
        "        Do not return anything, but utilize self.best_node, self.OPEN, self.CLOSED etc. to update the state of the current actor.\n",
        "        \"\"\"\n",
        "        current = Node()\n",
        "        steps = 0\n",
        "        while (\n",
        "            len(self.OPEN) > 0\n",
        "            and steps < self.max_steps\n",
        "            and (current.i, current.j) != self.goal\n",
        "        ):\n",
        "            new_node = heappop(self.OPEN)\n",
        "\n",
        "            steps += 1\n",
        "\n",
        "            for neighbor_coord in self.get_neighbors(new_node):\n",
        "                node_to_open = Node(neighbor_coord, g=new_node.g + 1,\n",
        "                                    h=self.h(neighbor_coord))\n",
        "                if neighbor_coord not in self.CLOSED and neighbor_coord not in self.other_agents:\n",
        "                    heappush(self.OPEN, node_to_open)\n",
        "                    self.CLOSED[neighbor_coord] = (new_node.i, new_node.j)\n",
        "\n",
        "\n",
        "    def get_next_node(self):\n",
        "        \"\"\"\n",
        "        Retrieves the next node in the path towards the goal.\n",
        "\n",
        "        Returns:\n",
        "        - Tuple[int, int], the coordinates of the next node.\n",
        "        \"\"\"\n",
        "        next_node = self.start\n",
        "        if self.goal in self.CLOSED:\n",
        "            next_node = self.goal\n",
        "            while self.CLOSED[next_node] != self.start:\n",
        "                next_node = self.CLOSED[next_node]\n",
        "        return next_node\n",
        "\n",
        "    def _reset(self):\n",
        "        \"\"\"\n",
        "        Resets the A* search data for a new search.\n",
        "        \"\"\"\n",
        "        self.CLOSED = dict()\n",
        "        self.OPEN = list()\n",
        "        heappush(self.OPEN, Node(self.start, 0, self.h(self.start)))\n",
        "        self.best_node = Node(self.start, 0, self.h(self.start))\n",
        "\n",
        "    def update_obstacles(self, obs, other_agents):\n",
        "        \"\"\"\n",
        "        Updates the obstacle (self.obstacles) and other agents' positions (self.other_agents).\n",
        "\n",
        "        Args:\n",
        "        - obs: ndarray, the obstacle matrix.\n",
        "        - other_agents: ndarray, the other agents' position matrix.\n",
        "        \"\"\"\n",
        "        obstacles = np.nonzero(obs)\n",
        "        self.obstacles.clear()\n",
        "        for x, y in zip(obstacles[0], obstacles[1]):\n",
        "            self.obstacles.add((x, y))\n",
        "        self.other_agents.clear()\n",
        "        agents = np.nonzero(other_agents)\n",
        "        for x, y in zip(agents[0], agents[1]):\n",
        "            self.other_agents.add((x, y))\n",
        "\n",
        "    def update_path(self, start, goal):\n",
        "        \"\"\"\n",
        "        Updates the start and goal positions and runs the A* search.\n",
        "\n",
        "        Args:\n",
        "        - start: Tuple[int, int], the new start position.\n",
        "        - goal: Tuple[int, int], the new goal position.\n",
        "        \"\"\"\n",
        "        self.start = start\n",
        "        self.goal = goal\n",
        "        self._reset()\n",
        "        self._run_astar()"
      ]
    },
    {
      "cell_type": "code",
      "execution_count": null,
      "metadata": {
        "id": "gdSQ2dEoPz89"
      },
      "outputs": [],
      "source": [
        "class SimpleAStarPolicy:\n",
        "    def __init__(self, gc: GridConfig, random_seed=42):\n",
        "        \"\"\"\n",
        "        Initializes the SimpleAStarPolicy class.\n",
        "\n",
        "        Args:\n",
        "        - gc: GridConfig, configuration settings for the grid.\n",
        "        - random_seed: int, the seed for the random number generator.\n",
        "\n",
        "        Attributes:\n",
        "        - agents: List, initialized to None, will later store instances of AStar planners.\n",
        "        - actions: Dict, maps move coordinates to an action ID.\n",
        "        - obs_radius: int, the radius of observation around an agent.\n",
        "        - _rnd: RandomState, a random number generator instance.\n",
        "        \"\"\"\n",
        "        self.agents = None\n",
        "        self.actions = {\n",
        "            tuple(move): i for i, move in enumerate(gc.MOVES)\n",
        "        }  # make a dictionary to translate coordinates of action into id\n",
        "        self.obs_radius = gc.obs_radius\n",
        "        self._rnd = np.random.RandomState(random_seed)\n",
        "\n",
        "    def _get_goal(self, obs):\n",
        "        \"\"\"\n",
        "        Extracts the goal position from the observation.\n",
        "\n",
        "        Args:\n",
        "        - obs: ndarray, the observation matrix.\n",
        "\n",
        "        Returns:\n",
        "        - Tuple[int, int], the coordinates of the goal.\n",
        "        \"\"\"\n",
        "        goal = np.nonzero(obs[2])\n",
        "        goal_i = goal[0][0]\n",
        "        goal_j = goal[1][0]\n",
        "        if obs[0][goal_i][goal_j]:\n",
        "            goal_i -= 1 if goal_i == 0 else 0\n",
        "            goal_i += 1 if goal_i == self.obs_radius * 2 else 0\n",
        "            goal_j -= 1 if goal_j == 0 else 0\n",
        "            goal_j += 1 if goal_j == self.obs_radius * 2 else 0\n",
        "        return goal_i, goal_j\n",
        "\n",
        "    def _post_init(self, obs):\n",
        "        \"\"\"\n",
        "        Post-initialization to set up agents.\n",
        "\n",
        "        Args:\n",
        "        - obs: ndarray, the observation matrix.\n",
        "        \"\"\"\n",
        "        self.obs_radius = len(obs[0][0]) // 2\n",
        "        self.agents = [AStar() for _ in obs]  # create a planner for each of the agents\n",
        "\n",
        "    def compute_action(self, k, single_obs):\n",
        "        \"\"\"\n",
        "        Computes an action for a single observation.\n",
        "\n",
        "        Args:\n",
        "        - k: int, the index of the agent.\n",
        "        - single_obs: ndarray, the observation matrix for a single agent.\n",
        "\n",
        "        Returns:\n",
        "        - int, the action to be taken.\n",
        "        \"\"\"\n",
        "        start = (self.obs_radius, self.obs_radius)\n",
        "        goal = self._get_goal(single_obs)\n",
        "\n",
        "        if start == goal:  # Agent has reached the goal\n",
        "            return 0  # Useless action\n",
        "\n",
        "        self.agents[k].update_obstacles(single_obs[0], single_obs[1])\n",
        "        self.agents[k].update_path(start, goal)\n",
        "        next_node = self.agents[k].get_next_node()\n",
        "\n",
        "        return self.actions[(next_node[0] - start[0], next_node[1] - start[1])]\n",
        "\n",
        "    def act(self, obs) -> list[int]:\n",
        "        \"\"\"\n",
        "        Determines actions for all agents based on their observations.\n",
        "\n",
        "        Args:\n",
        "        - obs: ndarray, the observation matrix for all agents.\n",
        "\n",
        "        Returns:\n",
        "        - List[int], a list of actions for each agent.\n",
        "        \"\"\"\n",
        "        if self.agents is None:\n",
        "            self._post_init(obs)\n",
        "\n",
        "        actions = [\n",
        "            self.compute_action(k, single_obs) for k, single_obs in enumerate(obs)\n",
        "        ]\n",
        "\n",
        "        return actions"
      ]
    },
    {
      "cell_type": "markdown",
      "metadata": {
        "id": "9c2pek9AU-b6"
      },
      "source": [
        "### Metrics\n",
        "\n",
        "\n",
        "In MAPF, two common metrics are calculated: Individual Success Rate (ISR) and Collective Success Rate (CSR).\n",
        "\n",
        "- ISR: The percentage of agents that arrived at their goals. The higher, the better.\n",
        "- CSR: The percentage of tasks that were fully solved, meaning that each agent successfully reached its corresponding goal. The higher, the better.\n",
        "\n",
        "Let's take a look at an example of how these metrics are calculated (agents are colored in blue, while the respective targets are colored in yellow. Green indicates that an agent has reached its goal).\n",
        "\n",
        "\n",
        "<img src=\"./img/isr_csr.png\" alt=\"metrics\" width=\"800\"/>\n",
        "\n",
        "\n",
        "The Pogema library calculates these metrics for us, returning their values in the last output from `env.step`\n",
        "`\n",
        "### Benchmarking\n",
        "\n",
        "To benchmark our algorithms, let’s leverage the `run_single_policy` and `run_policy` functions.\n",
        "\n",
        "- `run_single_policy` accepts a class implementing the `.act` function, along with several parameters describing a MAPF scenario (e.g., density and size of the map, number of agents, etc.), and runs an instance of the algorithm on the given map for a fixed number of iterations (`iterations_per_run`). Additionally, this function calculates the most common metrics and, potentially, records animation.\n",
        "\n",
        "- `run_policy` executes `run_single_policy` multiple times to average the results, ensuring better robustness of the calculated metrics.\n"
      ]
    },
    {
      "cell_type": "code",
      "execution_count": null,
      "metadata": {
        "id": "wlXwv4I1QMKO"
      },
      "outputs": [],
      "source": [
        "def run_single_policy(\n",
        "    policy_cls,\n",
        "    num_agents,\n",
        "    size,\n",
        "    obs_radius,\n",
        "    density,\n",
        "    max_episode_steps,\n",
        "    base_animation_filename,\n",
        "    iterations_per_run,\n",
        "    run_id,\n",
        "    **kwargs,\n",
        "):\n",
        "    \"\"\"\n",
        "    Runs a single policy instance over multiple iterations and collects metrics.\n",
        "\n",
        "    Args:\n",
        "    - policy_cls: Class, the policy class to be instantiated and evaluated.\n",
        "    - num_agents: int, number of agents in the environment.\n",
        "    - size: int, size of the grid environment.\n",
        "    - obs_radius: int, observation radius for the agents.\n",
        "    - density: float, obstacle density in the environment.\n",
        "    - max_episode_steps: int, maximum number of steps in each episode.\n",
        "    - base_animation_filename: str, base filename for saving animations, if any.\n",
        "    - iterations_per_run: int, number of iterations to run the policy.\n",
        "    - run_id: int, an identifier for the current run.\n",
        "    - **kwargs: additional keyword arguments for the policy class initialization.\n",
        "\n",
        "    Returns:\n",
        "    - Tuple[Dict, List]: A tuple containing run metrics and animation file paths.\n",
        "    \"\"\"\n",
        "    run_metrics = defaultdict(list)\n",
        "    seed = run_id * 2 + 239\n",
        "    gc = GridConfig(\n",
        "        num_agents=num_agents,\n",
        "        size=size,\n",
        "        obs_radius=obs_radius,\n",
        "        seed=seed,\n",
        "        density=density,\n",
        "        max_episode_steps=max_episode_steps,\n",
        "        on_target=\"finish\",\n",
        "    )\n",
        "    env = pogema_v0(grid_config=gc)\n",
        "    animation_files = []\n",
        "\n",
        "    for iteration_id in range(iterations_per_run):\n",
        "        policy = policy_cls(gc, **kwargs)\n",
        "        # save only the first animation for each seed\n",
        "        if base_animation_filename is not None and iteration_id == 0:\n",
        "            env = AnimationMonitor(env)\n",
        "\n",
        "        obs, info = env.reset()\n",
        "        while True:\n",
        "            obs, reward, terminated, truncated, info = env.step(policy.act(obs))\n",
        "            if all(terminated) or all(truncated):\n",
        "                break\n",
        "\n",
        "        if base_animation_filename is not None and iteration_id == 0:\n",
        "            save_to_dir = os.path.join(\"data\", f\"{num_agents}_{size}_{density}\")\n",
        "            os.makedirs(save_to_dir, exist_ok=True)\n",
        "            save_to_file = os.path.join(\n",
        "                save_to_dir, f\"{base_animation_filename}_seed{seed}.svg\"\n",
        "            )\n",
        "            env.save_animation(save_to_file, AnimationConfig())\n",
        "            animation_files.append(save_to_file)\n",
        "\n",
        "        for metric, value in info[0][\"metrics\"].items():\n",
        "            run_metrics[metric].append(value)\n",
        "\n",
        "    return run_metrics, animation_files\n",
        "\n",
        "\n",
        "def run_policy(\n",
        "    policy_cls=SimpleAStarPolicy,\n",
        "    num_agents=10,\n",
        "    size=8,\n",
        "    obs_radius=8,\n",
        "    density=0.0,\n",
        "    max_episode_steps=256,\n",
        "    base_animation_filename=None,\n",
        "    total_runs=100,\n",
        "    iterations_per_run=10,\n",
        "    use_status_bar=True,\n",
        "    **kwargs,\n",
        "):\n",
        "    \"\"\"\n",
        "    Executes a policy across multiple runs, aggregating metrics and animation files.\n",
        "\n",
        "    Args:\n",
        "    - policy_cls: Class, the policy class to be used.\n",
        "    - num_agents: int, number of agents.\n",
        "    - size: int, grid size.\n",
        "    - obs_radius: int, observation radius.\n",
        "    - density: float, obstacle density.\n",
        "    - max_episode_steps: int, max steps per episode.\n",
        "    - base_animation_filename: str, filename for animations.\n",
        "    - total_runs: int, number of total runs to execute.\n",
        "    - iterations_per_run: int, iterations per run.\n",
        "    - use_status_bar: bool, show status bar during execution\n",
        "    - **kwargs: additional keyword arguments for the policy class.\n",
        "\n",
        "    Returns:\n",
        "    - Tuple[Dict, List]: A tuple containing aggregated metrics and animation file paths from all runs.\n",
        "    \"\"\"\n",
        "    all_metrics = defaultdict(list)\n",
        "    all_animation_files = []\n",
        "\n",
        "    results = []\n",
        "    run_range = None\n",
        "    if use_status_bar:\n",
        "        run_range = tqdm(range(total_runs))\n",
        "    else:\n",
        "        run_range = range(total_runs)\n",
        "    for run_id in run_range:\n",
        "        res = run_single_policy(\n",
        "            policy_cls,\n",
        "            num_agents,\n",
        "            size,\n",
        "            obs_radius,\n",
        "            density,\n",
        "            max_episode_steps,\n",
        "            base_animation_filename,\n",
        "            iterations_per_run,\n",
        "            run_id,\n",
        "        )\n",
        "        results.append(res)\n",
        "\n",
        "    for metrics, animation_files in results:\n",
        "        for metric, value in metrics.items():\n",
        "            all_metrics[metric].extend(value)\n",
        "        all_animation_files.extend(animation_files)\n",
        "\n",
        "    return all_metrics, all_animation_files"
      ]
    },
    {
      "cell_type": "code",
      "execution_count": null,
      "metadata": {
        "colab": {
          "base_uri": "https://localhost:8080/",
          "height": 49,
          "referenced_widgets": [
            "3b341ee5eedd483abffab3c716884581",
            "409ac050339e49aab1e211110badd10d",
            "7632ecd7d1174bce8627e19ebbaed59a",
            "33a124dfd8c146018d2c6c6c0f1df07d",
            "a7e5b02c18374508accc7b356b2fa188",
            "d92ee180d2b7459c9aad25b2064db339",
            "b1a845c366374d8c9d2b6565985844eb",
            "c952f4076a4041e9a8fdbb84589031e8",
            "d2a64abc0bfa49f9a42aee44cbb9425c",
            "953b11c49ed940a88e2a80509f601f93",
            "49609df2a5c946ff8bc3bc50d768ca5e"
          ]
        },
        "id": "fOJtk8AeYA0Q",
        "outputId": "8e95a629-90ad-4cd9-9cb4-1f0d55ed5eba"
      },
      "outputs": [
        {
          "data": {
            "application/vnd.jupyter.widget-view+json": {
              "model_id": "3b341ee5eedd483abffab3c716884581",
              "version_major": 2,
              "version_minor": 0
            },
            "text/plain": [
              "  0%|          | 0/100 [00:00<?, ?it/s]"
            ]
          },
          "metadata": {},
          "output_type": "display_data"
        }
      ],
      "source": [
        "metrics, files = run_policy(\n",
        "    SimpleAStarPolicy, base_animation_filename=\"render\", total_runs=100, iterations_per_run=1, use_status_bar=True\n",
        ")"
      ]
    },
    {
      "cell_type": "code",
      "execution_count": null,
      "metadata": {
        "colab": {
          "base_uri": "https://localhost:8080/"
        },
        "id": "FnVpLrdfy2ru",
        "outputId": "1e01acca-6dcc-4afc-ec86-9eb714ddf33a"
      },
      "outputs": [
        {
          "name": "stdout",
          "output_type": "stream",
          "text": [
            "ISR: 96.9%\n",
            "CSR: 87.0%\n"
          ]
        }
      ],
      "source": [
        "for metric in [\"ISR\", \"CSR\"]:\n",
        "    print(f\"{metric}: {np.mean(metrics[metric]) * 100}%\")"
      ]
    },
    {
      "cell_type": "markdown",
      "metadata": {
        "id": "l0U7_K9UovJo"
      },
      "source": [
        "Although the `A*` algorithm is fully capable of finding a solution, there are instances where it may produce a cycle, trapping the agents within it. Let's compare the following two task instances:"
      ]
    },
    {
      "cell_type": "code",
      "execution_count": null,
      "metadata": {
        "colab": {
          "base_uri": "https://localhost:8080/",
          "height": 1000
        },
        "id": "tiM5P9L9ocaA",
        "outputId": "588ae0fc-3cac-47c0-bfb2-3e646d42ff01"
      },
      "outputs": [
        {
          "data": {
            "image/svg+xml": "<svg xmlns=\"http://www.w3.org/2000/svg\" xmlns:xlink=\"http://www.w3.org/1999/xlink\" width=\"512\" height=\"512\" viewBox=\"0 -1100 1100 1100\">\n<defs>\n\n        <rect id=\"obstacle\" width=\"70\" height=\"70\" fill=\"#84A1AE\" rx=\"15\"/>\n        <style>\n        .line {stroke: #84A1AE; stroke-width: 10;}\n        .agent {r: 35;}\n        .target {fill: none; stroke-width: 10; r: 35;}\n        </style>\n        \n</defs>\n\n<line class=\"line\" x1=\"-50.0\" x2=\"-50.0\" y1=\"0\" y2=\"-1100\"/>\n<line class=\"line\" x1=\"50.0\" x2=\"50.0\" y1=\"0\" y2=\"-1100\"/>\n<line class=\"line\" x1=\"150.0\" x2=\"150.0\" y1=\"0\" y2=\"-1100\"/>\n<line class=\"line\" x1=\"250.0\" x2=\"250.0\" y1=\"0\" y2=\"-1100\"/>\n<line class=\"line\" x1=\"350.0\" x2=\"350.0\" y1=\"0\" y2=\"-1100\"/>\n<line class=\"line\" x1=\"450.0\" x2=\"450.0\" y1=\"0\" y2=\"-1100\"/>\n<line class=\"line\" x1=\"550.0\" x2=\"550.0\" y1=\"0\" y2=\"-1100\"/>\n<line class=\"line\" x1=\"650.0\" x2=\"650.0\" y1=\"0\" y2=\"-1100\"/>\n<line class=\"line\" x1=\"750.0\" x2=\"750.0\" y1=\"0\" y2=\"-1100\"/>\n<line class=\"line\" x1=\"850.0\" x2=\"850.0\" y1=\"0\" y2=\"-1100\"/>\n<line class=\"line\" x1=\"950.0\" x2=\"950.0\" y1=\"0\" y2=\"-1100\"/>\n<line class=\"line\" x1=\"1050.0\" x2=\"1050.0\" y1=\"0\" y2=\"-1100\"/>\n<line class=\"line\" x1=\"0\" x2=\"1100\" y1=\"50.0\" y2=\"50.0\"/>\n<line class=\"line\" x1=\"0\" x2=\"1100\" y1=\"-50.0\" y2=\"-50.0\"/>\n<line class=\"line\" x1=\"0\" x2=\"1100\" y1=\"-150.0\" y2=\"-150.0\"/>\n<line class=\"line\" x1=\"0\" x2=\"1100\" y1=\"-250.0\" y2=\"-250.0\"/>\n<line class=\"line\" x1=\"0\" x2=\"1100\" y1=\"-350.0\" y2=\"-350.0\"/>\n<line class=\"line\" x1=\"0\" x2=\"1100\" y1=\"-450.0\" y2=\"-450.0\"/>\n<line class=\"line\" x1=\"0\" x2=\"1100\" y1=\"-550.0\" y2=\"-550.0\"/>\n<line class=\"line\" x1=\"0\" x2=\"1100\" y1=\"-650.0\" y2=\"-650.0\"/>\n<line class=\"line\" x1=\"0\" x2=\"1100\" y1=\"-750.0\" y2=\"-750.0\"/>\n<line class=\"line\" x1=\"0\" x2=\"1100\" y1=\"-850.0\" y2=\"-850.0\"/>\n<line class=\"line\" x1=\"0\" x2=\"1100\" y1=\"-950.0\" y2=\"-950.0\"/>\n<line class=\"line\" x1=\"0\" x2=\"1100\" y1=\"-1050.0\" y2=\"-1050.0\"/>\n<use href=\"#obstacle\" x=\"65\" y=\"-135\"/>\n<use href=\"#obstacle\" x=\"65\" y=\"-235\"/>\n<use href=\"#obstacle\" x=\"65\" y=\"-335\"/>\n<use href=\"#obstacle\" x=\"65\" y=\"-435\"/>\n<use href=\"#obstacle\" x=\"65\" y=\"-535\"/>\n<use href=\"#obstacle\" x=\"65\" y=\"-635\"/>\n<use href=\"#obstacle\" x=\"65\" y=\"-735\"/>\n<use href=\"#obstacle\" x=\"65\" y=\"-835\"/>\n<use href=\"#obstacle\" x=\"65\" y=\"-935\"/>\n<use href=\"#obstacle\" x=\"65\" y=\"-1035\"/>\n<use href=\"#obstacle\" x=\"165\" y=\"-135\"/>\n<use href=\"#obstacle\" x=\"165\" y=\"-1035\"/>\n<use href=\"#obstacle\" x=\"265\" y=\"-135\"/>\n<use href=\"#obstacle\" x=\"265\" y=\"-1035\"/>\n<use href=\"#obstacle\" x=\"365\" y=\"-135\"/>\n<use href=\"#obstacle\" x=\"365\" y=\"-1035\"/>\n<use href=\"#obstacle\" x=\"465\" y=\"-135\"/>\n<use href=\"#obstacle\" x=\"465\" y=\"-1035\"/>\n<use href=\"#obstacle\" x=\"565\" y=\"-135\"/>\n<use href=\"#obstacle\" x=\"565\" y=\"-1035\"/>\n<use href=\"#obstacle\" x=\"665\" y=\"-135\"/>\n<use href=\"#obstacle\" x=\"665\" y=\"-1035\"/>\n<use href=\"#obstacle\" x=\"765\" y=\"-135\"/>\n<use href=\"#obstacle\" x=\"765\" y=\"-1035\"/>\n<use href=\"#obstacle\" x=\"865\" y=\"-135\"/>\n<use href=\"#obstacle\" x=\"865\" y=\"-1035\"/>\n<use href=\"#obstacle\" x=\"965\" y=\"-135\"/>\n<use href=\"#obstacle\" x=\"965\" y=\"-235\"/>\n<use href=\"#obstacle\" x=\"965\" y=\"-335\"/>\n<use href=\"#obstacle\" x=\"965\" y=\"-435\"/>\n<use href=\"#obstacle\" x=\"965\" y=\"-535\"/>\n<use href=\"#obstacle\" x=\"965\" y=\"-635\"/>\n<use href=\"#obstacle\" x=\"965\" y=\"-735\"/>\n<use href=\"#obstacle\" x=\"965\" y=\"-835\"/>\n<use href=\"#obstacle\" x=\"965\" y=\"-935\"/>\n<use href=\"#obstacle\" x=\"965\" y=\"-1035\"/>\n<circle class=\"agent\" cx=\"900\" cy=\"-900\" fill=\"#c1433c\" r=\"35\"> <animate attributeName=\"cy\" dur=\"2.5s\" keyTimes=\"0.0;0.0909090909;0.1818181818;0.2727272727;1.0\" repeatCount=\"indefinite\" values=\"-900;-900;-800;-700;-700\"/>\n<animate attributeName=\"cx\" dur=\"2.5s\" keyTimes=\"0.0;0.0909090909;0.2727272727;0.3636363636;1.0\" repeatCount=\"indefinite\" values=\"900;900;900;800;800\"/>\n<animate attributeName=\"visibility\" dur=\"2.5s\" keyTimes=\"0.0;0.0909090909;0.2727272727;0.3636363636;1.0\" repeatCount=\"indefinite\" values=\"visible;visible;visible;hidden;hidden\"/> </circle>\n<circle class=\"agent\" cx=\"600\" cy=\"-500\" fill=\"#2e6f9e\" r=\"35\"> <animate attributeName=\"cy\" dur=\"2.5s\" keyTimes=\"0.0;0.0909090909;0.3636363636;0.4545454545;0.5454545455;1.0\" repeatCount=\"indefinite\" values=\"-500;-500;-500;-400;-300;-300\"/>\n<animate attributeName=\"cx\" dur=\"2.5s\" keyTimes=\"0.0;0.0909090909;0.1818181818;0.2727272727;0.3636363636;1.0\" repeatCount=\"indefinite\" values=\"600;600;500;400;300;300\"/>\n<animate attributeName=\"visibility\" dur=\"2.5s\" keyTimes=\"0.0;0.0909090909;0.4545454545;0.5454545455;1.0\" repeatCount=\"indefinite\" values=\"visible;visible;visible;hidden;hidden\"/> </circle>\n<circle class=\"agent\" cx=\"300\" cy=\"-500\" fill=\"#6e81af\" r=\"35\"> <animate attributeName=\"cy\" dur=\"2.5s\" keyTimes=\"0.0;0.0909090909;0.1818181818;0.3636363636;0.4545454545;1.0\" repeatCount=\"indefinite\" values=\"-500;-500;-600;-600;-700;-700\"/>\n<animate attributeName=\"cx\" dur=\"2.5s\" keyTimes=\"0.0;0.0909090909;0.1818181818;0.2727272727;0.4545454545;0.5454545455;0.6363636364;0.7272727273;0.8181818182;0.9090909091;1.0\" repeatCount=\"indefinite\" values=\"300;300;300;400;400;500;600;700;800;900;900\"/>\n<animate attributeName=\"visibility\" dur=\"2.5s\" keyTimes=\"0.0;0.0909090909;0.8181818182;0.9090909091;1.0\" repeatCount=\"indefinite\" values=\"visible;visible;visible;hidden;hidden\"/> </circle>\n<circle class=\"agent\" cx=\"400\" cy=\"-800\" fill=\"#00b9c8\" r=\"35\"> <animate attributeName=\"cy\" dur=\"2.5s\" keyTimes=\"0.0;0.0909090909;0.1818181818;0.3636363636;0.4545454545;0.5454545455;0.6363636364;0.7272727273;1.0\" repeatCount=\"indefinite\" values=\"-800;-800;-700;-700;-600;-600;-500;-400;-400\"/>\n<animate attributeName=\"cx\" dur=\"2.5s\" keyTimes=\"0.0;0.0909090909;0.2727272727;0.3636363636;1.0\" repeatCount=\"indefinite\" values=\"400;400;400;300;300\"/>\n<animate attributeName=\"visibility\" dur=\"2.5s\" keyTimes=\"0.0;0.0909090909;0.6363636364;0.7272727273;1.0\" repeatCount=\"indefinite\" values=\"visible;visible;visible;hidden;hidden\"/> </circle>\n<circle class=\"agent\" cx=\"500\" cy=\"-200\" fill=\"#72D5C8\" r=\"35\"> <animate attributeName=\"cy\" dur=\"2.5s\" keyTimes=\"0.0;0.0909090909;0.5454545455;0.6363636364;0.7272727273;0.8181818182;1.0\" repeatCount=\"indefinite\" values=\"-200;-200;-200;-300;-300;-400;-400\"/>\n<animate attributeName=\"cx\" dur=\"2.5s\" keyTimes=\"0.0;0.0909090909;0.1818181818;0.2727272727;0.8181818182;0.9090909091;1.0\" repeatCount=\"indefinite\" values=\"500;500;400;300;300;400;400\"/>\n<animate attributeName=\"visibility\" dur=\"2.5s\" keyTimes=\"0.0;0.0909090909;0.8181818182;0.9090909091;1.0\" repeatCount=\"indefinite\" values=\"visible;visible;visible;hidden;hidden\"/> </circle>\n<circle class=\"agent\" cx=\"800\" cy=\"-600\" fill=\"#0ea08c\" r=\"35\"> <animate attributeName=\"cy\" dur=\"2.5s\" keyTimes=\"0.0;0.0909090909;0.1818181818;0.2727272727;0.3636363636;0.4545454545;1.0\" repeatCount=\"indefinite\" values=\"-600;-600;-500;-400;-300;-200;-200\"/>\n<animate attributeName=\"cx\" dur=\"2.5s\" keyTimes=\"0.0;0.0909090909;0.4545454545;0.5454545455;1.0\" repeatCount=\"indefinite\" values=\"800;800;800;900;900\"/>\n<animate attributeName=\"visibility\" dur=\"2.5s\" keyTimes=\"0.0;0.0909090909;0.4545454545;0.5454545455;1.0\" repeatCount=\"indefinite\" values=\"visible;visible;visible;hidden;hidden\"/> </circle>\n<circle class=\"agent\" cx=\"700\" cy=\"-900\" fill=\"#8F7B66\" r=\"35\"> <animate attributeName=\"cy\" dur=\"2.5s\" keyTimes=\"0.0;0.0909090909;0.1818181818;0.2727272727;0.3636363636;0.4545454545;0.5454545455;0.6363636364;1.0\" repeatCount=\"indefinite\" values=\"-900;-900;-800;-700;-600;-500;-400;-300;-300\"/>\n<animate attributeName=\"cx\" dur=\"2.5s\" keyTimes=\"0.0;0.0909090909;0.6363636364;0.7272727273;1.0\" repeatCount=\"indefinite\" values=\"700;700;700;600;600\"/>\n<animate attributeName=\"visibility\" dur=\"2.5s\" keyTimes=\"0.0;0.0909090909;0.6363636364;0.7272727273;1.0\" repeatCount=\"indefinite\" values=\"visible;visible;visible;hidden;hidden\"/> </circle>\n<circle class=\"agent\" cx=\"200\" cy=\"-900\" fill=\"#c1433c\" r=\"35\"> <animate attributeName=\"cy\" dur=\"2.5s\" keyTimes=\"0.0;0.0909090909;0.1818181818;1.0\" repeatCount=\"indefinite\" values=\"-900;-900;-800;-800\"/>\n<animate attributeName=\"cx\" dur=\"2.5s\" keyTimes=\"0.0;0.0909090909;1.0\" repeatCount=\"indefinite\" values=\"200;200;200\"/>\n<animate attributeName=\"visibility\" dur=\"2.5s\" keyTimes=\"0.0;0.0909090909;0.1818181818;1.0\" repeatCount=\"indefinite\" values=\"visible;visible;hidden;hidden\"/> </circle>\n<circle class=\"agent\" cx=\"500\" cy=\"-400\" fill=\"#2e6f9e\" r=\"35\"> <animate attributeName=\"cy\" dur=\"2.5s\" keyTimes=\"0.0;0.0909090909;0.3636363636;0.4545454545;0.5454545455;0.8181818182;0.9090909091;1.0\" repeatCount=\"indefinite\" values=\"-400;-400;-400;-500;-600;-600;-700;-700\"/>\n<animate attributeName=\"cx\" dur=\"2.5s\" keyTimes=\"0.0;0.0909090909;0.1818181818;0.2727272727;0.6363636364;0.7272727273;1.0\" repeatCount=\"indefinite\" values=\"500;500;500;600;600;700;700\"/>\n<animate attributeName=\"visibility\" dur=\"2.5s\" keyTimes=\"0.0;0.0909090909;0.8181818182;0.9090909091;1.0\" repeatCount=\"indefinite\" values=\"visible;visible;visible;hidden;hidden\"/> </circle>\n<circle class=\"agent\" cx=\"500\" cy=\"-300\" fill=\"#6e81af\" r=\"35\"> <animate attributeName=\"cy\" dur=\"2.5s\" keyTimes=\"0.0;0.0909090909;0.1818181818;0.2727272727;0.3636363636;0.4545454545;1.0\" repeatCount=\"indefinite\" values=\"-300;-300;-300;-400;-400;-500;-500\"/>\n<animate attributeName=\"cx\" dur=\"2.5s\" keyTimes=\"0.0;0.0909090909;0.1818181818;1.0\" repeatCount=\"indefinite\" values=\"500;500;400;400\"/>\n<animate attributeName=\"visibility\" dur=\"2.5s\" keyTimes=\"0.0;0.0909090909;0.3636363636;0.4545454545;1.0\" repeatCount=\"indefinite\" values=\"visible;visible;visible;hidden;hidden\"/> </circle>\n<circle class=\"target\" cx=\"800\" cy=\"-700\" r=\"35\" stroke=\"#c1433c\"> <animate attributeName=\"visibility\" dur=\"2.5s\" keyTimes=\"0.0;0.0909090909;0.2727272727;0.3636363636;1.0\" repeatCount=\"indefinite\" values=\"visible;visible;visible;hidden;hidden\"/> </circle>\n<circle class=\"target\" cx=\"300\" cy=\"-300\" r=\"35\" stroke=\"#2e6f9e\"> <animate attributeName=\"visibility\" dur=\"2.5s\" keyTimes=\"0.0;0.0909090909;0.4545454545;0.5454545455;1.0\" repeatCount=\"indefinite\" values=\"visible;visible;visible;hidden;hidden\"/> </circle>\n<circle class=\"target\" cx=\"900\" cy=\"-700\" r=\"35\" stroke=\"#6e81af\"> <animate attributeName=\"visibility\" dur=\"2.5s\" keyTimes=\"0.0;0.0909090909;0.8181818182;0.9090909091;1.0\" repeatCount=\"indefinite\" values=\"visible;visible;visible;hidden;hidden\"/> </circle>\n<circle class=\"target\" cx=\"300\" cy=\"-400\" r=\"35\" stroke=\"#00b9c8\"> <animate attributeName=\"visibility\" dur=\"2.5s\" keyTimes=\"0.0;0.0909090909;0.6363636364;0.7272727273;1.0\" repeatCount=\"indefinite\" values=\"visible;visible;visible;hidden;hidden\"/> </circle>\n<circle class=\"target\" cx=\"400\" cy=\"-400\" r=\"35\" stroke=\"#72D5C8\"> <animate attributeName=\"visibility\" dur=\"2.5s\" keyTimes=\"0.0;0.0909090909;0.8181818182;0.9090909091;1.0\" repeatCount=\"indefinite\" values=\"visible;visible;visible;hidden;hidden\"/> </circle>\n<circle class=\"target\" cx=\"900\" cy=\"-200\" r=\"35\" stroke=\"#0ea08c\"> <animate attributeName=\"visibility\" dur=\"2.5s\" keyTimes=\"0.0;0.0909090909;0.4545454545;0.5454545455;1.0\" repeatCount=\"indefinite\" values=\"visible;visible;visible;hidden;hidden\"/> </circle>\n<circle class=\"target\" cx=\"600\" cy=\"-300\" r=\"35\" stroke=\"#8F7B66\"> <animate attributeName=\"visibility\" dur=\"2.5s\" keyTimes=\"0.0;0.0909090909;0.6363636364;0.7272727273;1.0\" repeatCount=\"indefinite\" values=\"visible;visible;visible;hidden;hidden\"/> </circle>\n<circle class=\"target\" cx=\"200\" cy=\"-800\" r=\"35\" stroke=\"#c1433c\"> <animate attributeName=\"visibility\" dur=\"2.5s\" keyTimes=\"0.0;0.0909090909;0.1818181818;1.0\" repeatCount=\"indefinite\" values=\"visible;visible;hidden;hidden\"/> </circle>\n<circle class=\"target\" cx=\"700\" cy=\"-700\" r=\"35\" stroke=\"#2e6f9e\"> <animate attributeName=\"visibility\" dur=\"2.5s\" keyTimes=\"0.0;0.0909090909;0.8181818182;0.9090909091;1.0\" repeatCount=\"indefinite\" values=\"visible;visible;visible;hidden;hidden\"/> </circle>\n<circle class=\"target\" cx=\"400\" cy=\"-500\" r=\"35\" stroke=\"#6e81af\"> <animate attributeName=\"visibility\" dur=\"2.5s\" keyTimes=\"0.0;0.0909090909;0.3636363636;0.4545454545;1.0\" repeatCount=\"indefinite\" values=\"visible;visible;visible;hidden;hidden\"/> </circle>\n</svg>",
            "text/plain": [
              "<IPython.core.display.SVG object>"
            ]
          },
          "metadata": {},
          "output_type": "display_data"
        },
        {
          "data": {
            "image/svg+xml": "<svg xmlns=\"http://www.w3.org/2000/svg\" xmlns:xlink=\"http://www.w3.org/1999/xlink\" width=\"512\" height=\"512\" viewBox=\"0 -1100 1100 1100\">\n<defs>\n\n        <rect id=\"obstacle\" width=\"70\" height=\"70\" fill=\"#84A1AE\" rx=\"15\"/>\n        <style>\n        .line {stroke: #84A1AE; stroke-width: 10;}\n        .agent {r: 35;}\n        .target {fill: none; stroke-width: 10; r: 35;}\n        </style>\n        \n</defs>\n\n<line class=\"line\" x1=\"-50.0\" x2=\"-50.0\" y1=\"0\" y2=\"-1100\"/>\n<line class=\"line\" x1=\"50.0\" x2=\"50.0\" y1=\"0\" y2=\"-1100\"/>\n<line class=\"line\" x1=\"150.0\" x2=\"150.0\" y1=\"0\" y2=\"-1100\"/>\n<line class=\"line\" x1=\"250.0\" x2=\"250.0\" y1=\"0\" y2=\"-1100\"/>\n<line class=\"line\" x1=\"350.0\" x2=\"350.0\" y1=\"0\" y2=\"-1100\"/>\n<line class=\"line\" x1=\"450.0\" x2=\"450.0\" y1=\"0\" y2=\"-1100\"/>\n<line class=\"line\" x1=\"550.0\" x2=\"550.0\" y1=\"0\" y2=\"-1100\"/>\n<line class=\"line\" x1=\"650.0\" x2=\"650.0\" y1=\"0\" y2=\"-1100\"/>\n<line class=\"line\" x1=\"750.0\" x2=\"750.0\" y1=\"0\" y2=\"-1100\"/>\n<line class=\"line\" x1=\"850.0\" x2=\"850.0\" y1=\"0\" y2=\"-1100\"/>\n<line class=\"line\" x1=\"950.0\" x2=\"950.0\" y1=\"0\" y2=\"-1100\"/>\n<line class=\"line\" x1=\"1050.0\" x2=\"1050.0\" y1=\"0\" y2=\"-1100\"/>\n<line class=\"line\" x1=\"0\" x2=\"1100\" y1=\"50.0\" y2=\"50.0\"/>\n<line class=\"line\" x1=\"0\" x2=\"1100\" y1=\"-50.0\" y2=\"-50.0\"/>\n<line class=\"line\" x1=\"0\" x2=\"1100\" y1=\"-150.0\" y2=\"-150.0\"/>\n<line class=\"line\" x1=\"0\" x2=\"1100\" y1=\"-250.0\" y2=\"-250.0\"/>\n<line class=\"line\" x1=\"0\" x2=\"1100\" y1=\"-350.0\" y2=\"-350.0\"/>\n<line class=\"line\" x1=\"0\" x2=\"1100\" y1=\"-450.0\" y2=\"-450.0\"/>\n<line class=\"line\" x1=\"0\" x2=\"1100\" y1=\"-550.0\" y2=\"-550.0\"/>\n<line class=\"line\" x1=\"0\" x2=\"1100\" y1=\"-650.0\" y2=\"-650.0\"/>\n<line class=\"line\" x1=\"0\" x2=\"1100\" y1=\"-750.0\" y2=\"-750.0\"/>\n<line class=\"line\" x1=\"0\" x2=\"1100\" y1=\"-850.0\" y2=\"-850.0\"/>\n<line class=\"line\" x1=\"0\" x2=\"1100\" y1=\"-950.0\" y2=\"-950.0\"/>\n<line class=\"line\" x1=\"0\" x2=\"1100\" y1=\"-1050.0\" y2=\"-1050.0\"/>\n<use href=\"#obstacle\" x=\"65\" y=\"-135\"/>\n<use href=\"#obstacle\" x=\"65\" y=\"-235\"/>\n<use href=\"#obstacle\" x=\"65\" y=\"-335\"/>\n<use href=\"#obstacle\" x=\"65\" y=\"-435\"/>\n<use href=\"#obstacle\" x=\"65\" y=\"-535\"/>\n<use href=\"#obstacle\" x=\"65\" y=\"-635\"/>\n<use href=\"#obstacle\" x=\"65\" y=\"-735\"/>\n<use href=\"#obstacle\" x=\"65\" y=\"-835\"/>\n<use href=\"#obstacle\" x=\"65\" y=\"-935\"/>\n<use href=\"#obstacle\" x=\"65\" y=\"-1035\"/>\n<use href=\"#obstacle\" x=\"165\" y=\"-135\"/>\n<use href=\"#obstacle\" x=\"165\" y=\"-1035\"/>\n<use href=\"#obstacle\" x=\"265\" y=\"-135\"/>\n<use href=\"#obstacle\" x=\"265\" y=\"-1035\"/>\n<use href=\"#obstacle\" x=\"365\" y=\"-135\"/>\n<use href=\"#obstacle\" x=\"365\" y=\"-1035\"/>\n<use href=\"#obstacle\" x=\"465\" y=\"-135\"/>\n<use href=\"#obstacle\" x=\"465\" y=\"-1035\"/>\n<use href=\"#obstacle\" x=\"565\" y=\"-135\"/>\n<use href=\"#obstacle\" x=\"565\" y=\"-1035\"/>\n<use href=\"#obstacle\" x=\"665\" y=\"-135\"/>\n<use href=\"#obstacle\" x=\"665\" y=\"-1035\"/>\n<use href=\"#obstacle\" x=\"765\" y=\"-135\"/>\n<use href=\"#obstacle\" x=\"765\" y=\"-1035\"/>\n<use href=\"#obstacle\" x=\"865\" y=\"-135\"/>\n<use href=\"#obstacle\" x=\"865\" y=\"-1035\"/>\n<use href=\"#obstacle\" x=\"965\" y=\"-135\"/>\n<use href=\"#obstacle\" x=\"965\" y=\"-235\"/>\n<use href=\"#obstacle\" x=\"965\" y=\"-335\"/>\n<use href=\"#obstacle\" x=\"965\" y=\"-435\"/>\n<use href=\"#obstacle\" x=\"965\" y=\"-535\"/>\n<use href=\"#obstacle\" x=\"965\" y=\"-635\"/>\n<use href=\"#obstacle\" x=\"965\" y=\"-735\"/>\n<use href=\"#obstacle\" x=\"965\" y=\"-835\"/>\n<use href=\"#obstacle\" x=\"965\" y=\"-935\"/>\n<use href=\"#obstacle\" x=\"965\" y=\"-1035\"/>\n<circle class=\"agent\" cx=\"700\" cy=\"-900\" fill=\"#c1433c\" r=\"35\"> <animate attributeName=\"cy\" dur=\"64.25s\" keyTimes=\"0.0;0.003875969;0.007751938;0.011627907;1.0\" repeatCount=\"indefinite\" values=\"-900;-900;-800;-700;-700\"/>\n<animate attributeName=\"cx\" dur=\"64.25s\" keyTimes=\"0.0;0.003875969;0.011627907;0.015503876;0.019379845;1.0\" repeatCount=\"indefinite\" values=\"700;700;700;600;500;500\"/>\n<animate attributeName=\"visibility\" dur=\"64.25s\" keyTimes=\"0.0;0.003875969;0.015503876;0.019379845;1.0\" repeatCount=\"indefinite\" values=\"visible;visible;visible;hidden;hidden\"/> </circle>\n<circle class=\"agent\" cx=\"500\" cy=\"-500\" fill=\"#2e6f9e\" r=\"35\"> <animate attributeName=\"cy\" dur=\"64.25s\" keyTimes=\"0.0;0.003875969;0.007751938;0.011627907;0.015503876;0.019379845;0.023255814;0.0271317829;0.0310077519;0.0348837209;1.0\" repeatCount=\"indefinite\" values=\"-500;-500;-500;-600;-600;-500;-500;-600;-600;-700;-700\"/>\n<animate attributeName=\"cx\" dur=\"64.25s\" keyTimes=\"0.0;0.003875969;0.007751938;0.019379845;0.023255814;0.0271317829;0.0310077519;1.0\" repeatCount=\"indefinite\" values=\"500;500;400;400;300;300;200;200\"/>\n<animate attributeName=\"visibility\" dur=\"64.25s\" keyTimes=\"0.0;0.003875969;0.0310077519;0.0348837209;1.0\" repeatCount=\"indefinite\" values=\"visible;visible;visible;hidden;hidden\"/> </circle>\n<circle class=\"agent\" cx=\"200\" cy=\"-500\" fill=\"#6e81af\" r=\"35\"> <animate attributeName=\"cy\" dur=\"64.25s\" keyTimes=\"0.0;0.003875969;0.007751938;0.011627907;0.0271317829;0.0310077519;1.0\" repeatCount=\"indefinite\" values=\"-500;-500;-600;-700;-700;-800;-800\"/>\n<animate attributeName=\"cx\" dur=\"64.25s\" keyTimes=\"0.0;0.003875969;0.011627907;0.015503876;0.019379845;0.023255814;0.0310077519;0.0348837209;1.0\" repeatCount=\"indefinite\" values=\"200;200;200;300;400;500;500;600;600\"/>\n<animate attributeName=\"visibility\" dur=\"64.25s\" keyTimes=\"0.0;0.003875969;0.0310077519;0.0348837209;1.0\" repeatCount=\"indefinite\" values=\"visible;visible;visible;hidden;hidden\"/> </circle>\n<circle class=\"agent\" cx=\"300\" cy=\"-400\" fill=\"#00b9c8\" r=\"35\"> <animate attributeName=\"cy\" dur=\"64.25s\" keyTimes=\"0.0;0.003875969;0.007751938;0.011627907;0.019379845;0.023255814;0.0426356589;0.0465116279;1.0\" repeatCount=\"indefinite\" values=\"-400;-400;-500;-600;-600;-700;-700;-600;-600\"/>\n<animate attributeName=\"cx\" dur=\"64.25s\" keyTimes=\"0.0;0.003875969;0.0271317829;0.0310077519;0.0348837209;0.0387596899;1.0\" repeatCount=\"indefinite\" values=\"300;300;300;400;500;600;600\"/>\n<animate attributeName=\"visibility\" dur=\"64.25s\" keyTimes=\"0.0;0.003875969;0.0426356589;0.0465116279;1.0\" repeatCount=\"indefinite\" values=\"visible;visible;visible;hidden;hidden\"/> </circle>\n<circle class=\"agent\" cx=\"900\" cy=\"-600\" fill=\"#72D5C8\" r=\"35\"> <animate attributeName=\"cy\" dur=\"64.25s\" keyTimes=\"0.0;0.003875969;0.007751938;0.011627907;1.0\" repeatCount=\"indefinite\" values=\"-600;-600;-700;-800;-800\"/>\n<animate attributeName=\"cx\" dur=\"64.25s\" keyTimes=\"0.0;0.003875969;0.011627907;0.015503876;1.0\" repeatCount=\"indefinite\" values=\"900;900;900;800;800\"/>\n<animate attributeName=\"visibility\" dur=\"64.25s\" keyTimes=\"0.0;0.003875969;0.011627907;0.015503876;1.0\" repeatCount=\"indefinite\" values=\"visible;visible;visible;hidden;hidden\"/> </circle>\n<circle class=\"agent\" cx=\"300\" cy=\"-700\" fill=\"#0ea08c\" r=\"35\"> <animate attributeName=\"cy\" dur=\"64.25s\" keyTimes=\"0.0;0.003875969;0.007751938;1.0\" repeatCount=\"indefinite\" values=\"-700;-700;-800;-800\"/>\n<animate attributeName=\"cx\" dur=\"64.25s\" keyTimes=\"0.0;0.003875969;0.011627907;0.015503876;0.019379845;0.023255814;0.0271317829;1.0\" repeatCount=\"indefinite\" values=\"300;300;300;400;500;600;700;700\"/>\n<animate attributeName=\"visibility\" dur=\"64.25s\" keyTimes=\"0.0;0.003875969;0.023255814;0.0271317829;1.0\" repeatCount=\"indefinite\" values=\"visible;visible;visible;hidden;hidden\"/> </circle>\n<circle class=\"agent\" cx=\"300\" cy=\"-300\" fill=\"#8F7B66\" r=\"35\"> <animate attributeName=\"cy\" dur=\"64.25s\" keyTimes=\"0.0;0.003875969;0.007751938;0.011627907;0.015503876;0.019379845;0.023255814;0.0271317829;0.0310077519;0.0348837209;0.0387596899;0.0426356589;0.0465116279;0.0503875969;0.0542635659;0.0581395349;0.0620155039;0.0658914729;0.0697674419;0.0736434109;0.0775193798;0.0813953488;0.0852713178;0.0891472868;0.0930232558;0.0968992248;0.1007751938;0.1046511628;0.1085271318;0.1124031008;0.1162790698;0.1201550388;0.1240310078;0.1279069767;0.1317829457;0.1356589147;0.1395348837;0.1434108527;0.1472868217;0.1511627907;0.1550387597;0.1589147287;0.1627906977;0.1666666667;0.1705426357;0.1744186047;0.1782945736;0.1821705426;0.1860465116;0.1899224806;0.1937984496;0.1976744186;0.2015503876;0.2054263566;0.2093023256;0.2131782946;0.2170542636;0.2209302326;0.2248062016;0.2286821705;0.2325581395;0.2364341085;0.2403100775;0.2441860465;0.2480620155;0.2519379845;0.2558139535;0.2596899225;0.2635658915;0.2674418605;0.2713178295;0.2751937984;0.2790697674;0.2829457364;0.2868217054;0.2906976744;0.2945736434;0.2984496124;0.3023255814;0.3062015504;0.3100775194;0.3139534884;0.3178294574;0.3217054264;0.3255813953;0.3294573643;0.3333333333;0.3372093023;0.3410852713;0.3449612403;0.3488372093;0.3527131783;0.3565891473;0.3604651163;0.3643410853;0.3682170543;0.3720930233;0.3759689922;0.3798449612;0.3837209302;0.3875968992;0.3914728682;0.3953488372;0.3992248062;0.4031007752;0.4069767442;0.4108527132;0.4147286822;0.4186046512;0.4224806202;0.4263565891;0.4302325581;0.4341085271;0.4379844961;0.4418604651;0.4457364341;0.4496124031;0.4534883721;0.4573643411;0.4612403101;0.4651162791;0.4689922481;0.4728682171;0.476744186;0.480620155;0.484496124;0.488372093;0.492248062;0.496124031;0.5;0.503875969;0.507751938;0.511627907;0.515503876;0.519379845;0.523255814;0.5271317829;0.5310077519;0.5348837209;0.5387596899;0.5426356589;0.5465116279;0.5503875969;0.5542635659;0.5581395349;0.5620155039;0.5658914729;0.5697674419;0.5736434109;0.5775193798;0.5813953488;0.5852713178;0.5891472868;0.5930232558;0.5968992248;0.6007751938;0.6046511628;0.6085271318;0.6124031008;0.6162790698;0.6201550388;0.6240310078;0.6279069767;0.6317829457;0.6356589147;0.6395348837;0.6434108527;0.6472868217;0.6511627907;0.6550387597;0.6589147287;0.6627906977;0.6666666667;0.6705426357;0.6744186047;0.6782945736;0.6821705426;0.6860465116;0.6899224806;0.6937984496;0.6976744186;0.7015503876;0.7054263566;0.7093023256;0.7131782946;0.7170542636;0.7209302326;0.7248062016;0.7286821705;0.7325581395;0.7364341085;0.7403100775;0.7441860465;0.7480620155;0.7519379845;0.7558139535;0.7596899225;0.7635658915;0.7674418605;0.7713178295;0.7751937984;0.7790697674;0.7829457364;0.7868217054;0.7906976744;0.7945736434;0.7984496124;0.8023255814;0.8062015504;0.8100775194;0.8139534884;0.8178294574;0.8217054264;0.8255813953;0.8294573643;0.8333333333;0.8372093023;0.8410852713;0.8449612403;0.8488372093;0.8527131783;0.8565891473;0.8604651163;0.8643410853;0.8682170543;0.8720930233;0.8759689922;0.8798449612;0.8837209302;0.8875968992;0.8914728682;0.8953488372;0.8992248062;0.9031007752;0.9069767442;0.9108527132;0.9147286822;0.9186046512;0.9224806202;0.9263565891;0.9302325581;0.9341085271;0.9379844961;0.9418604651;0.9457364341;0.9496124031;0.9534883721;0.9573643411;0.9612403101;0.9651162791;0.9689922481;0.9728682171;0.976744186;0.980620155;0.984496124;0.988372093;0.992248062;0.996124031;1.0\" repeatCount=\"indefinite\" values=\"-300;-300;-300;-400;-300;-400;-300;-400;-300;-400;-500;-400;-300;-400;-300;-400;-300;-400;-300;-400;-300;-400;-300;-400;-300;-400;-300;-400;-300;-400;-300;-400;-300;-400;-300;-400;-300;-400;-300;-400;-300;-400;-300;-400;-300;-400;-300;-400;-300;-400;-300;-400;-300;-400;-300;-400;-300;-400;-300;-400;-300;-400;-300;-400;-300;-400;-300;-400;-300;-400;-300;-400;-300;-400;-300;-400;-300;-400;-300;-400;-300;-400;-300;-400;-300;-400;-300;-400;-300;-400;-300;-400;-300;-400;-300;-400;-300;-400;-300;-400;-300;-400;-300;-400;-300;-400;-300;-400;-300;-400;-300;-400;-300;-400;-300;-400;-300;-400;-300;-400;-300;-400;-300;-400;-300;-400;-300;-400;-300;-400;-300;-400;-300;-400;-300;-400;-300;-400;-300;-400;-300;-400;-300;-400;-300;-400;-300;-400;-300;-400;-300;-400;-300;-400;-300;-400;-300;-400;-300;-400;-300;-400;-300;-400;-300;-400;-300;-400;-300;-400;-300;-400;-300;-400;-300;-400;-300;-400;-300;-400;-300;-400;-300;-400;-300;-400;-300;-400;-300;-400;-300;-400;-300;-400;-300;-400;-300;-400;-300;-400;-300;-400;-300;-400;-300;-400;-300;-400;-300;-400;-300;-400;-300;-400;-300;-400;-300;-400;-300;-400;-300;-400;-300;-400;-300;-400;-300;-400;-300;-400;-300;-400;-300;-400;-300;-400;-300;-400;-300;-400;-300;-400;-300;-400;-300;-400;-300;-400;-300;-400;-300;-400;-300;-400;-300;-400;-300;-400;-400\"/>\n<animate attributeName=\"cx\" dur=\"64.25s\" keyTimes=\"0.0;0.003875969;0.007751938;1.0\" repeatCount=\"indefinite\" values=\"300;300;400;400\"/>\n<animate attributeName=\"visibility\" dur=\"64.25s\" keyTimes=\"0.0;0.003875969;1.0\" repeatCount=\"indefinite\" values=\"visible;visible;visible\"/> </circle>\n<circle class=\"agent\" cx=\"500\" cy=\"-300\" fill=\"#c1433c\" r=\"35\"> <animate attributeName=\"cy\" dur=\"64.25s\" keyTimes=\"0.0;0.003875969;0.007751938;0.011627907;0.015503876;0.019379845;0.023255814;0.0271317829;0.0310077519;0.0348837209;0.0387596899;0.0426356589;0.0465116279;0.0503875969;0.0542635659;0.0581395349;0.0620155039;0.0658914729;0.0697674419;0.0736434109;0.0775193798;0.0813953488;0.0852713178;0.0891472868;0.0930232558;0.0968992248;0.1007751938;0.1046511628;0.1085271318;0.1124031008;0.1162790698;0.1201550388;0.1240310078;0.1279069767;0.1317829457;0.1356589147;0.1395348837;0.1434108527;0.1472868217;0.1511627907;0.1550387597;0.1589147287;0.1627906977;0.1666666667;0.1705426357;0.1744186047;0.1782945736;0.1821705426;0.1860465116;0.1899224806;0.1937984496;0.1976744186;0.2015503876;0.2054263566;0.2093023256;0.2131782946;0.2170542636;0.2209302326;0.2248062016;0.2286821705;0.2325581395;0.2364341085;0.2403100775;0.2441860465;0.2480620155;0.2519379845;0.2558139535;0.2596899225;0.2635658915;0.2674418605;0.2713178295;0.2751937984;0.2790697674;0.2829457364;0.2868217054;0.2906976744;0.2945736434;0.2984496124;0.3023255814;0.3062015504;0.3100775194;0.3139534884;0.3178294574;0.3217054264;0.3255813953;0.3294573643;0.3333333333;0.3372093023;0.3410852713;0.3449612403;0.3488372093;0.3527131783;0.3565891473;0.3604651163;0.3643410853;0.3682170543;0.3720930233;0.3759689922;0.3798449612;0.3837209302;0.3875968992;0.3914728682;0.3953488372;0.3992248062;0.4031007752;0.4069767442;0.4108527132;0.4147286822;0.4186046512;0.4224806202;0.4263565891;0.4302325581;0.4341085271;0.4379844961;0.4418604651;0.4457364341;0.4496124031;0.4534883721;0.4573643411;0.4612403101;0.4651162791;0.4689922481;0.4728682171;0.476744186;0.480620155;0.484496124;0.488372093;0.492248062;0.496124031;0.5;0.503875969;0.507751938;0.511627907;0.515503876;0.519379845;0.523255814;0.5271317829;0.5310077519;0.5348837209;0.5387596899;0.5426356589;0.5465116279;0.5503875969;0.5542635659;0.5581395349;0.5620155039;0.5658914729;0.5697674419;0.5736434109;0.5775193798;0.5813953488;0.5852713178;0.5891472868;0.5930232558;0.5968992248;0.6007751938;0.6046511628;0.6085271318;0.6124031008;0.6162790698;0.6201550388;0.6240310078;0.6279069767;0.6317829457;0.6356589147;0.6395348837;0.6434108527;0.6472868217;0.6511627907;0.6550387597;0.6589147287;0.6627906977;0.6666666667;0.6705426357;0.6744186047;0.6782945736;0.6821705426;0.6860465116;0.6899224806;0.6937984496;0.6976744186;0.7015503876;0.7054263566;0.7093023256;0.7131782946;0.7170542636;0.7209302326;0.7248062016;0.7286821705;0.7325581395;0.7364341085;0.7403100775;0.7441860465;0.7480620155;0.7519379845;0.7558139535;0.7596899225;0.7635658915;0.7674418605;0.7713178295;0.7751937984;0.7790697674;0.7829457364;0.7868217054;0.7906976744;0.7945736434;0.7984496124;0.8023255814;0.8062015504;0.8100775194;0.8139534884;0.8178294574;0.8217054264;0.8255813953;0.8294573643;0.8333333333;0.8372093023;0.8410852713;0.8449612403;0.8488372093;0.8527131783;0.8565891473;0.8604651163;0.8643410853;0.8682170543;0.8720930233;0.8759689922;0.8798449612;0.8837209302;0.8875968992;0.8914728682;0.8953488372;0.8992248062;0.9031007752;0.9069767442;0.9108527132;0.9147286822;0.9186046512;0.9224806202;0.9263565891;0.9302325581;0.9341085271;0.9379844961;0.9418604651;0.9457364341;0.9496124031;0.9534883721;0.9573643411;0.9612403101;0.9651162791;0.9689922481;0.9728682171;0.976744186;0.980620155;0.984496124;0.988372093;0.992248062;0.996124031;1.0\" repeatCount=\"indefinite\" values=\"-300;-300;-300;-400;-300;-400;-300;-400;-500;-400;-500;-400;-500;-400;-300;-400;-300;-400;-300;-400;-300;-400;-300;-400;-300;-400;-300;-400;-300;-400;-300;-400;-300;-400;-300;-400;-300;-400;-300;-400;-300;-400;-300;-400;-300;-400;-300;-400;-300;-400;-300;-400;-300;-400;-300;-400;-300;-400;-300;-400;-300;-400;-300;-400;-300;-400;-300;-400;-300;-400;-300;-400;-300;-400;-300;-400;-300;-400;-300;-400;-300;-400;-300;-400;-300;-400;-300;-400;-300;-400;-300;-400;-300;-400;-300;-400;-300;-400;-300;-400;-300;-400;-300;-400;-300;-400;-300;-400;-300;-400;-300;-400;-300;-400;-300;-400;-300;-400;-300;-400;-300;-400;-300;-400;-300;-400;-300;-400;-300;-400;-300;-400;-300;-400;-300;-400;-300;-400;-300;-400;-300;-400;-300;-400;-300;-400;-300;-400;-300;-400;-300;-400;-300;-400;-300;-400;-300;-400;-300;-400;-300;-400;-300;-400;-300;-400;-300;-400;-300;-400;-300;-400;-300;-400;-300;-400;-300;-400;-300;-400;-300;-400;-300;-400;-300;-400;-300;-400;-300;-400;-300;-400;-300;-400;-300;-400;-300;-400;-300;-400;-300;-400;-300;-400;-300;-400;-300;-400;-300;-400;-300;-400;-300;-400;-300;-400;-300;-400;-300;-400;-300;-400;-300;-400;-300;-400;-300;-400;-300;-400;-300;-400;-300;-400;-300;-400;-300;-400;-300;-400;-300;-400;-300;-400;-300;-400;-300;-400;-300;-400;-300;-400;-300;-400;-300;-400;-300;-400;-400\"/>\n<animate attributeName=\"cx\" dur=\"64.25s\" keyTimes=\"0.0;0.003875969;1.0\" repeatCount=\"indefinite\" values=\"500;500;500\"/>\n<animate attributeName=\"visibility\" dur=\"64.25s\" keyTimes=\"0.0;0.003875969;1.0\" repeatCount=\"indefinite\" values=\"visible;visible;visible\"/> </circle>\n<circle class=\"agent\" cx=\"700\" cy=\"-500\" fill=\"#2e6f9e\" r=\"35\"> <animate attributeName=\"cy\" dur=\"64.25s\" keyTimes=\"0.0;0.003875969;0.007751938;0.0426356589;0.0465116279;0.0503875969;0.0542635659;1.0\" repeatCount=\"indefinite\" values=\"-500;-500;-600;-600;-700;-800;-900;-900\"/>\n<animate attributeName=\"cx\" dur=\"64.25s\" keyTimes=\"0.0;0.003875969;0.011627907;0.015503876;0.019379845;0.023255814;0.0271317829;0.0310077519;0.0348837209;0.0387596899;0.0426356589;0.0542635659;0.0581395349;1.0\" repeatCount=\"indefinite\" values=\"700;700;700;600;500;500;400;400;500;600;500;500;600;600\"/>\n<animate attributeName=\"visibility\" dur=\"64.25s\" keyTimes=\"0.0;0.003875969;0.0542635659;0.0581395349;1.0\" repeatCount=\"indefinite\" values=\"visible;visible;visible;hidden;hidden\"/> </circle>\n<circle class=\"agent\" cx=\"900\" cy=\"-200\" fill=\"#6e81af\" r=\"35\"> <animate attributeName=\"cy\" dur=\"64.25s\" keyTimes=\"0.0;0.003875969;0.011627907;0.015503876;0.023255814;0.0271317829;0.0310077519;1.0\" repeatCount=\"indefinite\" values=\"-200;-200;-200;-300;-300;-400;-300;-300\"/>\n<animate attributeName=\"cx\" dur=\"64.25s\" keyTimes=\"0.0;0.003875969;0.007751938;0.011627907;0.015503876;0.019379845;0.0310077519;0.0348837209;0.0387596899;0.0426356589;0.0465116279;1.0\" repeatCount=\"indefinite\" values=\"900;900;800;700;700;600;600;500;400;300;200;200\"/>\n<animate attributeName=\"visibility\" dur=\"64.25s\" keyTimes=\"0.0;0.003875969;0.0426356589;0.0465116279;1.0\" repeatCount=\"indefinite\" values=\"visible;visible;visible;hidden;hidden\"/> </circle>\n<circle class=\"target\" cx=\"500\" cy=\"-700\" r=\"35\" stroke=\"#c1433c\"> <animate attributeName=\"visibility\" dur=\"64.25s\" keyTimes=\"0.0;0.003875969;0.015503876;0.019379845;1.0\" repeatCount=\"indefinite\" values=\"visible;visible;visible;hidden;hidden\"/> </circle>\n<circle class=\"target\" cx=\"200\" cy=\"-700\" r=\"35\" stroke=\"#2e6f9e\"> <animate attributeName=\"visibility\" dur=\"64.25s\" keyTimes=\"0.0;0.003875969;0.0310077519;0.0348837209;1.0\" repeatCount=\"indefinite\" values=\"visible;visible;visible;hidden;hidden\"/> </circle>\n<circle class=\"target\" cx=\"600\" cy=\"-800\" r=\"35\" stroke=\"#6e81af\"> <animate attributeName=\"visibility\" dur=\"64.25s\" keyTimes=\"0.0;0.003875969;0.0310077519;0.0348837209;1.0\" repeatCount=\"indefinite\" values=\"visible;visible;visible;hidden;hidden\"/> </circle>\n<circle class=\"target\" cx=\"600\" cy=\"-600\" r=\"35\" stroke=\"#00b9c8\"> <animate attributeName=\"visibility\" dur=\"64.25s\" keyTimes=\"0.0;0.003875969;0.0426356589;0.0465116279;1.0\" repeatCount=\"indefinite\" values=\"visible;visible;visible;hidden;hidden\"/> </circle>\n<circle class=\"target\" cx=\"800\" cy=\"-800\" r=\"35\" stroke=\"#72D5C8\"> <animate attributeName=\"visibility\" dur=\"64.25s\" keyTimes=\"0.0;0.003875969;0.011627907;0.015503876;1.0\" repeatCount=\"indefinite\" values=\"visible;visible;visible;hidden;hidden\"/> </circle>\n<circle class=\"target\" cx=\"700\" cy=\"-800\" r=\"35\" stroke=\"#0ea08c\"> <animate attributeName=\"visibility\" dur=\"64.25s\" keyTimes=\"0.0;0.003875969;0.023255814;0.0271317829;1.0\" repeatCount=\"indefinite\" values=\"visible;visible;visible;hidden;hidden\"/> </circle>\n<circle class=\"target\" cx=\"700\" cy=\"-400\" r=\"35\" stroke=\"#8F7B66\"> <animate attributeName=\"visibility\" dur=\"64.25s\" keyTimes=\"0.0;0.003875969;1.0\" repeatCount=\"indefinite\" values=\"visible;visible;visible\"/> </circle>\n<circle class=\"target\" cx=\"200\" cy=\"-400\" r=\"35\" stroke=\"#c1433c\"> <animate attributeName=\"visibility\" dur=\"64.25s\" keyTimes=\"0.0;0.003875969;1.0\" repeatCount=\"indefinite\" values=\"visible;visible;visible\"/> </circle>\n<circle class=\"target\" cx=\"600\" cy=\"-900\" r=\"35\" stroke=\"#2e6f9e\"> <animate attributeName=\"visibility\" dur=\"64.25s\" keyTimes=\"0.0;0.003875969;0.0542635659;0.0581395349;1.0\" repeatCount=\"indefinite\" values=\"visible;visible;visible;hidden;hidden\"/> </circle>\n<circle class=\"target\" cx=\"200\" cy=\"-300\" r=\"35\" stroke=\"#6e81af\"> <animate attributeName=\"visibility\" dur=\"64.25s\" keyTimes=\"0.0;0.003875969;0.0426356589;0.0465116279;1.0\" repeatCount=\"indefinite\" values=\"visible;visible;visible;hidden;hidden\"/> </circle>\n</svg>",
            "text/plain": [
              "<IPython.core.display.SVG object>"
            ]
          },
          "metadata": {},
          "output_type": "display_data"
        }
      ],
      "source": [
        "display(SVG(files[0]))\n",
        "display(SVG(files[7]))"
      ]
    },
    {
      "cell_type": "markdown",
      "metadata": {
        "id": "2Emao54gU-b7"
      },
      "source": [
        "As can be seen, the second instance does not finish; the agents are stuck in an infinite loop. This occurs due to the deterministic nature of our MDP-style solution: every two steps, these remaining agents end up with the same observations as they had two steps before, compute the same actions, and thus enter the loop.\n",
        "\n",
        "To address this issue, let's add support for conflict resolution:\n",
        "\n",
        "1. With a fixed probability $\\varepsilon$ ($epsilon$), choose a random action at each step - known as the **$\\varepsilon$-greedy policy**.\n",
        "2. For each agent, store the last $N$ positions. If the agent returns to one of these $N$ positions, choose a random action - this is the **history-based policy**.\n"
      ]
    },
    {
      "cell_type": "markdown",
      "metadata": {
        "id": "MHLMu_kcqQNu"
      },
      "source": [
        "### $\\varepsilon$-greedy Policy"
      ]
    },
    {
      "cell_type": "code",
      "execution_count": null,
      "metadata": {
        "id": "SxMqLPMyqO9a"
      },
      "outputs": [],
      "source": [
        "class EpsGreedyPolicy(SimpleAStarPolicy):\n",
        "    def __init__(self, gc: GridConfig, random_seed=42, eps: float = 0.2):\n",
        "        \"\"\"\n",
        "        Initializes the EpsGreedyPolicy class, which is an extension of the SimpleAStarPolicy class\n",
        "        with an epsilon-greedy strategy for action selection.\n",
        "\n",
        "        Args:\n",
        "        - gc: GridConfig, configuration settings for the grid.\n",
        "        - random_seed: int, the seed for the random number generator.\n",
        "        - eps: float, the probability of choosing a random action (exploration factor).\n",
        "\n",
        "        Attributes:\n",
        "        - _eps: float, the epsilon value for the epsilon-greedy strategy.\n",
        "        \"\"\"\n",
        "        super().__init__(gc, random_seed)\n",
        "        self._eps = eps\n",
        "\n",
        "    def _randomly_update_actions(self, actions):\n",
        "        \"\"\"\n",
        "        Randomly updates actions based on the epsilon value. With a probability of epsilon,\n",
        "        an action is replaced with a random action.\n",
        "\n",
        "        Args:\n",
        "        - actions: List[int], a list of actions chosen by the base policy.\n",
        "\n",
        "        Modifies:\n",
        "        - actions: List[int], with some actions potentially replaced randomly.\n",
        "        \"\"\"\n",
        "        for i in range(len(actions)):\n",
        "            if self._rnd.random() < self._eps:\n",
        "                actions[i] = self._rnd.choice([0, 1, 2, 3, 4])\n",
        "\n",
        "    def act(self, obs):\n",
        "        \"\"\"\n",
        "        Overrides the act method from the SimpleAStarPolicy class to include epsilon-greedy behavior.\n",
        "\n",
        "        Args:\n",
        "        - obs: ndarray, the observation matrix for all agents.\n",
        "\n",
        "        Returns:\n",
        "        - List[int], a list of actions for each agent, with some actions potentially chosen randomly.\n",
        "        \"\"\"\n",
        "        actions = super().act(obs)  # Get actions from the base policy\n",
        "        self._randomly_update_actions(actions)  # Randomly alter some actions\n",
        "        return actions"
      ]
    },
    {
      "cell_type": "code",
      "execution_count": null,
      "metadata": {
        "colab": {
          "base_uri": "https://localhost:8080/",
          "height": 49,
          "referenced_widgets": [
            "8ec61fe10d9f4aed9f9d6d03cc014292",
            "554939e0bc0d401ebe2f02b349ee0bb2",
            "c9c48402ca13477d8c6a6f847ae10fb6",
            "8a69dc47cd8f4905a4691fbc422c2822",
            "a70f68d6ce354a6fb6f22a9125ba2391",
            "4e3ee433c0aa4535a0f3e57dece5814a",
            "04060baaee6d4ba7a7c7ddf7ecdc4f42",
            "f99be1a461384a99945695302a5a2e65",
            "8c57fb2b7d3d4b529477d2de90b4f733",
            "63cff88423c44242a5d1edea71806fdd",
            "cd8c418a35394da7bd3ebd573b01d2ea"
          ]
        },
        "id": "tyxw0D_Jw-r9",
        "outputId": "22e219fe-a019-4d1e-8525-6af85863e41d"
      },
      "outputs": [
        {
          "data": {
            "application/vnd.jupyter.widget-view+json": {
              "model_id": "8ec61fe10d9f4aed9f9d6d03cc014292",
              "version_major": 2,
              "version_minor": 0
            },
            "text/plain": [
              "  0%|          | 0/10 [00:00<?, ?it/s]"
            ]
          },
          "metadata": {},
          "output_type": "display_data"
        }
      ],
      "source": [
        "metrics, files = run_policy(\n",
        "    EpsGreedyPolicy,\n",
        "    base_animation_filename=\"render\",\n",
        "    eps=0.0,\n",
        "    total_runs=10,\n",
        "    iterations_per_run=1,\n",
        "    use_status_bar=True\n",
        ")"
      ]
    },
    {
      "cell_type": "code",
      "execution_count": null,
      "metadata": {
        "colab": {
          "base_uri": "https://localhost:8080/"
        },
        "id": "V-zFaXGLU-b7",
        "outputId": "d7811f8e-bfdf-40f9-fca6-b063e2dbbfc0"
      },
      "outputs": [
        {
          "name": "stdout",
          "output_type": "stream",
          "text": [
            "ISR: 100.0%\n",
            "CSR: 100.0%\n"
          ]
        }
      ],
      "source": [
        "for metric in [\"ISR\", \"CSR\"]:\n",
        "    print(f\"{metric}: {np.mean(metrics[metric]) * 100}%\")"
      ]
    },
    {
      "cell_type": "code",
      "execution_count": null,
      "metadata": {
        "colab": {
          "base_uri": "https://localhost:8080/",
          "height": 1000
        },
        "id": "GHYM1WgRxCOH",
        "outputId": "e54a5d92-8670-4df2-8846-59beb953b014"
      },
      "outputs": [
        {
          "data": {
            "image/svg+xml": "<svg xmlns=\"http://www.w3.org/2000/svg\" xmlns:xlink=\"http://www.w3.org/1999/xlink\" width=\"512\" height=\"512\" viewBox=\"0 -1100 1100 1100\">\n<defs>\n\n        <rect id=\"obstacle\" width=\"70\" height=\"70\" fill=\"#84A1AE\" rx=\"15\"/>\n        <style>\n        .line {stroke: #84A1AE; stroke-width: 10;}\n        .agent {r: 35;}\n        .target {fill: none; stroke-width: 10; r: 35;}\n        </style>\n        \n</defs>\n\n<line class=\"line\" x1=\"-50.0\" x2=\"-50.0\" y1=\"0\" y2=\"-1100\"/>\n<line class=\"line\" x1=\"50.0\" x2=\"50.0\" y1=\"0\" y2=\"-1100\"/>\n<line class=\"line\" x1=\"150.0\" x2=\"150.0\" y1=\"0\" y2=\"-1100\"/>\n<line class=\"line\" x1=\"250.0\" x2=\"250.0\" y1=\"0\" y2=\"-1100\"/>\n<line class=\"line\" x1=\"350.0\" x2=\"350.0\" y1=\"0\" y2=\"-1100\"/>\n<line class=\"line\" x1=\"450.0\" x2=\"450.0\" y1=\"0\" y2=\"-1100\"/>\n<line class=\"line\" x1=\"550.0\" x2=\"550.0\" y1=\"0\" y2=\"-1100\"/>\n<line class=\"line\" x1=\"650.0\" x2=\"650.0\" y1=\"0\" y2=\"-1100\"/>\n<line class=\"line\" x1=\"750.0\" x2=\"750.0\" y1=\"0\" y2=\"-1100\"/>\n<line class=\"line\" x1=\"850.0\" x2=\"850.0\" y1=\"0\" y2=\"-1100\"/>\n<line class=\"line\" x1=\"950.0\" x2=\"950.0\" y1=\"0\" y2=\"-1100\"/>\n<line class=\"line\" x1=\"1050.0\" x2=\"1050.0\" y1=\"0\" y2=\"-1100\"/>\n<line class=\"line\" x1=\"0\" x2=\"1100\" y1=\"50.0\" y2=\"50.0\"/>\n<line class=\"line\" x1=\"0\" x2=\"1100\" y1=\"-50.0\" y2=\"-50.0\"/>\n<line class=\"line\" x1=\"0\" x2=\"1100\" y1=\"-150.0\" y2=\"-150.0\"/>\n<line class=\"line\" x1=\"0\" x2=\"1100\" y1=\"-250.0\" y2=\"-250.0\"/>\n<line class=\"line\" x1=\"0\" x2=\"1100\" y1=\"-350.0\" y2=\"-350.0\"/>\n<line class=\"line\" x1=\"0\" x2=\"1100\" y1=\"-450.0\" y2=\"-450.0\"/>\n<line class=\"line\" x1=\"0\" x2=\"1100\" y1=\"-550.0\" y2=\"-550.0\"/>\n<line class=\"line\" x1=\"0\" x2=\"1100\" y1=\"-650.0\" y2=\"-650.0\"/>\n<line class=\"line\" x1=\"0\" x2=\"1100\" y1=\"-750.0\" y2=\"-750.0\"/>\n<line class=\"line\" x1=\"0\" x2=\"1100\" y1=\"-850.0\" y2=\"-850.0\"/>\n<line class=\"line\" x1=\"0\" x2=\"1100\" y1=\"-950.0\" y2=\"-950.0\"/>\n<line class=\"line\" x1=\"0\" x2=\"1100\" y1=\"-1050.0\" y2=\"-1050.0\"/>\n<use href=\"#obstacle\" x=\"65\" y=\"-135\"/>\n<use href=\"#obstacle\" x=\"65\" y=\"-235\"/>\n<use href=\"#obstacle\" x=\"65\" y=\"-335\"/>\n<use href=\"#obstacle\" x=\"65\" y=\"-435\"/>\n<use href=\"#obstacle\" x=\"65\" y=\"-535\"/>\n<use href=\"#obstacle\" x=\"65\" y=\"-635\"/>\n<use href=\"#obstacle\" x=\"65\" y=\"-735\"/>\n<use href=\"#obstacle\" x=\"65\" y=\"-835\"/>\n<use href=\"#obstacle\" x=\"65\" y=\"-935\"/>\n<use href=\"#obstacle\" x=\"65\" y=\"-1035\"/>\n<use href=\"#obstacle\" x=\"165\" y=\"-135\"/>\n<use href=\"#obstacle\" x=\"165\" y=\"-1035\"/>\n<use href=\"#obstacle\" x=\"265\" y=\"-135\"/>\n<use href=\"#obstacle\" x=\"265\" y=\"-1035\"/>\n<use href=\"#obstacle\" x=\"365\" y=\"-135\"/>\n<use href=\"#obstacle\" x=\"365\" y=\"-1035\"/>\n<use href=\"#obstacle\" x=\"465\" y=\"-135\"/>\n<use href=\"#obstacle\" x=\"465\" y=\"-1035\"/>\n<use href=\"#obstacle\" x=\"565\" y=\"-135\"/>\n<use href=\"#obstacle\" x=\"565\" y=\"-1035\"/>\n<use href=\"#obstacle\" x=\"665\" y=\"-135\"/>\n<use href=\"#obstacle\" x=\"665\" y=\"-1035\"/>\n<use href=\"#obstacle\" x=\"765\" y=\"-135\"/>\n<use href=\"#obstacle\" x=\"765\" y=\"-1035\"/>\n<use href=\"#obstacle\" x=\"865\" y=\"-135\"/>\n<use href=\"#obstacle\" x=\"865\" y=\"-1035\"/>\n<use href=\"#obstacle\" x=\"965\" y=\"-135\"/>\n<use href=\"#obstacle\" x=\"965\" y=\"-235\"/>\n<use href=\"#obstacle\" x=\"965\" y=\"-335\"/>\n<use href=\"#obstacle\" x=\"965\" y=\"-435\"/>\n<use href=\"#obstacle\" x=\"965\" y=\"-535\"/>\n<use href=\"#obstacle\" x=\"965\" y=\"-635\"/>\n<use href=\"#obstacle\" x=\"965\" y=\"-735\"/>\n<use href=\"#obstacle\" x=\"965\" y=\"-835\"/>\n<use href=\"#obstacle\" x=\"965\" y=\"-935\"/>\n<use href=\"#obstacle\" x=\"965\" y=\"-1035\"/>\n<circle class=\"agent\" cx=\"900\" cy=\"-900\" fill=\"#c1433c\" r=\"35\"> <animate attributeName=\"cy\" dur=\"4.25s\" keyTimes=\"0.0;0.0555555556;0.1111111111;0.1666666667;1.0\" repeatCount=\"indefinite\" values=\"-900;-900;-800;-700;-700\"/>\n<animate attributeName=\"cx\" dur=\"4.25s\" keyTimes=\"0.0;0.0555555556;0.1666666667;0.2222222222;1.0\" repeatCount=\"indefinite\" values=\"900;900;900;800;800\"/>\n<animate attributeName=\"visibility\" dur=\"4.25s\" keyTimes=\"0.0;0.0555555556;0.1666666667;0.2222222222;1.0\" repeatCount=\"indefinite\" values=\"visible;visible;visible;hidden;hidden\"/> </circle>\n<circle class=\"agent\" cx=\"600\" cy=\"-500\" fill=\"#2e6f9e\" r=\"35\"> <animate attributeName=\"cy\" dur=\"4.25s\" keyTimes=\"0.0;0.0555555556;0.2777777778;0.3333333333;0.3888888889;0.4444444444;1.0\" repeatCount=\"indefinite\" values=\"-500;-500;-500;-400;-400;-300;-300\"/>\n<animate attributeName=\"cx\" dur=\"4.25s\" keyTimes=\"0.0;0.0555555556;0.1111111111;0.1666666667;0.2222222222;0.2777777778;1.0\" repeatCount=\"indefinite\" values=\"600;600;500;400;400;300;300\"/>\n<animate attributeName=\"visibility\" dur=\"4.25s\" keyTimes=\"0.0;0.0555555556;0.3888888889;0.4444444444;1.0\" repeatCount=\"indefinite\" values=\"visible;visible;visible;hidden;hidden\"/> </circle>\n<circle class=\"agent\" cx=\"300\" cy=\"-500\" fill=\"#6e81af\" r=\"35\"> <animate attributeName=\"cy\" dur=\"4.25s\" keyTimes=\"0.0;0.0555555556;0.1111111111;0.2777777778;0.3333333333;0.3888888889;0.7777777778;0.8333333333;1.0\" repeatCount=\"indefinite\" values=\"-500;-500;-600;-600;-700;-800;-800;-700;-700\"/>\n<animate attributeName=\"cx\" dur=\"4.25s\" keyTimes=\"0.0;0.0555555556;0.1111111111;0.1666666667;0.3888888889;0.4444444444;0.5;0.5555555556;0.6111111111;0.6666666667;0.7222222222;0.8333333333;0.8888888889;0.9444444444;1.0\" repeatCount=\"indefinite\" values=\"300;300;300;200;200;300;400;500;600;600;700;700;800;900;900\"/>\n<animate attributeName=\"visibility\" dur=\"4.25s\" keyTimes=\"0.0;0.0555555556;0.8888888889;0.9444444444;1.0\" repeatCount=\"indefinite\" values=\"visible;visible;visible;hidden;hidden\"/> </circle>\n<circle class=\"agent\" cx=\"400\" cy=\"-800\" fill=\"#00b9c8\" r=\"35\"> <animate attributeName=\"cy\" dur=\"4.25s\" keyTimes=\"0.0;0.0555555556;0.1111111111;0.1666666667;0.2222222222;0.2777777778;0.3333333333;0.4444444444;0.5;0.5555555556;0.6111111111;1.0\" repeatCount=\"indefinite\" values=\"-800;-800;-700;-700;-600;-600;-700;-700;-600;-500;-400;-400\"/>\n<animate attributeName=\"cx\" dur=\"4.25s\" keyTimes=\"0.0;0.0555555556;0.1111111111;0.1666666667;1.0\" repeatCount=\"indefinite\" values=\"400;400;400;300;300\"/>\n<animate attributeName=\"visibility\" dur=\"4.25s\" keyTimes=\"0.0;0.0555555556;0.5555555556;0.6111111111;1.0\" repeatCount=\"indefinite\" values=\"visible;visible;visible;hidden;hidden\"/> </circle>\n<circle class=\"agent\" cx=\"500\" cy=\"-200\" fill=\"#72D5C8\" r=\"35\"> <animate attributeName=\"cy\" dur=\"4.25s\" keyTimes=\"0.0;0.0555555556;0.5;0.5555555556;0.6111111111;1.0\" repeatCount=\"indefinite\" values=\"-200;-200;-200;-300;-400;-400\"/>\n<animate attributeName=\"cx\" dur=\"4.25s\" keyTimes=\"0.0;0.0555555556;0.1111111111;0.1666666667;0.2777777778;0.3333333333;0.3888888889;0.4444444444;0.6111111111;0.6666666667;0.7222222222;0.7777777778;1.0\" repeatCount=\"indefinite\" values=\"500;500;500;400;400;300;400;500;500;600;500;400;400\"/>\n<animate attributeName=\"visibility\" dur=\"4.25s\" keyTimes=\"0.0;0.0555555556;0.7222222222;0.7777777778;1.0\" repeatCount=\"indefinite\" values=\"visible;visible;visible;hidden;hidden\"/> </circle>\n<circle class=\"agent\" cx=\"800\" cy=\"-600\" fill=\"#0ea08c\" r=\"35\"> <animate attributeName=\"cy\" dur=\"4.25s\" keyTimes=\"0.0;0.0555555556;0.1111111111;0.1666666667;0.2222222222;0.2777777778;0.3333333333;1.0\" repeatCount=\"indefinite\" values=\"-600;-600;-500;-500;-400;-300;-200;-200\"/>\n<animate attributeName=\"cx\" dur=\"4.25s\" keyTimes=\"0.0;0.0555555556;0.3333333333;0.3888888889;1.0\" repeatCount=\"indefinite\" values=\"800;800;800;900;900\"/>\n<animate attributeName=\"visibility\" dur=\"4.25s\" keyTimes=\"0.0;0.0555555556;0.3333333333;0.3888888889;1.0\" repeatCount=\"indefinite\" values=\"visible;visible;visible;hidden;hidden\"/> </circle>\n<circle class=\"agent\" cx=\"700\" cy=\"-900\" fill=\"#8F7B66\" r=\"35\"> <animate attributeName=\"cy\" dur=\"4.25s\" keyTimes=\"0.0;0.0555555556;0.1111111111;0.1666666667;0.2222222222;0.2777777778;0.3333333333;0.3888888889;1.0\" repeatCount=\"indefinite\" values=\"-900;-900;-800;-700;-600;-500;-400;-300;-300\"/>\n<animate attributeName=\"cx\" dur=\"4.25s\" keyTimes=\"0.0;0.0555555556;0.3888888889;0.4444444444;1.0\" repeatCount=\"indefinite\" values=\"700;700;700;600;600\"/>\n<animate attributeName=\"visibility\" dur=\"4.25s\" keyTimes=\"0.0;0.0555555556;0.3888888889;0.4444444444;1.0\" repeatCount=\"indefinite\" values=\"visible;visible;visible;hidden;hidden\"/> </circle>\n<circle class=\"agent\" cx=\"200\" cy=\"-900\" fill=\"#c1433c\" r=\"35\"> <animate attributeName=\"cy\" dur=\"4.25s\" keyTimes=\"0.0;0.0555555556;0.1111111111;1.0\" repeatCount=\"indefinite\" values=\"-900;-900;-800;-800\"/>\n<animate attributeName=\"cx\" dur=\"4.25s\" keyTimes=\"0.0;0.0555555556;1.0\" repeatCount=\"indefinite\" values=\"200;200;200\"/>\n<animate attributeName=\"visibility\" dur=\"4.25s\" keyTimes=\"0.0;0.0555555556;0.1111111111;1.0\" repeatCount=\"indefinite\" values=\"visible;visible;hidden;hidden\"/> </circle>\n<circle class=\"agent\" cx=\"500\" cy=\"-400\" fill=\"#2e6f9e\" r=\"35\"> <animate attributeName=\"cy\" dur=\"4.25s\" keyTimes=\"0.0;0.0555555556;0.2777777778;0.3333333333;0.3888888889;0.4444444444;0.5;0.5555555556;0.6111111111;0.6666666667;1.0\" repeatCount=\"indefinite\" values=\"-400;-400;-400;-500;-500;-600;-700;-700;-600;-700;-700\"/>\n<animate attributeName=\"cx\" dur=\"4.25s\" keyTimes=\"0.0;0.0555555556;0.1111111111;0.1666666667;0.2222222222;0.2777777778;0.5;0.5555555556;0.6666666667;0.7222222222;1.0\" repeatCount=\"indefinite\" values=\"500;500;500;400;400;500;500;600;600;700;700\"/>\n<animate attributeName=\"visibility\" dur=\"4.25s\" keyTimes=\"0.0;0.0555555556;0.6666666667;0.7222222222;1.0\" repeatCount=\"indefinite\" values=\"visible;visible;visible;hidden;hidden\"/> </circle>\n<circle class=\"agent\" cx=\"500\" cy=\"-300\" fill=\"#6e81af\" r=\"35\"> <animate attributeName=\"cy\" dur=\"4.25s\" keyTimes=\"0.0;0.0555555556;0.4444444444;0.5;0.5555555556;1.0\" repeatCount=\"indefinite\" values=\"-300;-300;-300;-400;-500;-500\"/>\n<animate attributeName=\"cx\" dur=\"4.25s\" keyTimes=\"0.0;0.0555555556;0.1111111111;0.1666666667;0.2777777778;0.3333333333;0.3888888889;0.4444444444;0.5555555556;0.6111111111;1.0\" repeatCount=\"indefinite\" values=\"500;500;500;400;400;300;400;500;500;400;400\"/>\n<animate attributeName=\"visibility\" dur=\"4.25s\" keyTimes=\"0.0;0.0555555556;0.5555555556;0.6111111111;1.0\" repeatCount=\"indefinite\" values=\"visible;visible;visible;hidden;hidden\"/> </circle>\n<circle class=\"target\" cx=\"800\" cy=\"-700\" r=\"35\" stroke=\"#c1433c\"> <animate attributeName=\"visibility\" dur=\"4.25s\" keyTimes=\"0.0;0.0555555556;0.1666666667;0.2222222222;1.0\" repeatCount=\"indefinite\" values=\"visible;visible;visible;hidden;hidden\"/> </circle>\n<circle class=\"target\" cx=\"300\" cy=\"-300\" r=\"35\" stroke=\"#2e6f9e\"> <animate attributeName=\"visibility\" dur=\"4.25s\" keyTimes=\"0.0;0.0555555556;0.3888888889;0.4444444444;1.0\" repeatCount=\"indefinite\" values=\"visible;visible;visible;hidden;hidden\"/> </circle>\n<circle class=\"target\" cx=\"900\" cy=\"-700\" r=\"35\" stroke=\"#6e81af\"> <animate attributeName=\"visibility\" dur=\"4.25s\" keyTimes=\"0.0;0.0555555556;0.8888888889;0.9444444444;1.0\" repeatCount=\"indefinite\" values=\"visible;visible;visible;hidden;hidden\"/> </circle>\n<circle class=\"target\" cx=\"300\" cy=\"-400\" r=\"35\" stroke=\"#00b9c8\"> <animate attributeName=\"visibility\" dur=\"4.25s\" keyTimes=\"0.0;0.0555555556;0.5555555556;0.6111111111;1.0\" repeatCount=\"indefinite\" values=\"visible;visible;visible;hidden;hidden\"/> </circle>\n<circle class=\"target\" cx=\"400\" cy=\"-400\" r=\"35\" stroke=\"#72D5C8\"> <animate attributeName=\"visibility\" dur=\"4.25s\" keyTimes=\"0.0;0.0555555556;0.7222222222;0.7777777778;1.0\" repeatCount=\"indefinite\" values=\"visible;visible;visible;hidden;hidden\"/> </circle>\n<circle class=\"target\" cx=\"900\" cy=\"-200\" r=\"35\" stroke=\"#0ea08c\"> <animate attributeName=\"visibility\" dur=\"4.25s\" keyTimes=\"0.0;0.0555555556;0.3333333333;0.3888888889;1.0\" repeatCount=\"indefinite\" values=\"visible;visible;visible;hidden;hidden\"/> </circle>\n<circle class=\"target\" cx=\"600\" cy=\"-300\" r=\"35\" stroke=\"#8F7B66\"> <animate attributeName=\"visibility\" dur=\"4.25s\" keyTimes=\"0.0;0.0555555556;0.3888888889;0.4444444444;1.0\" repeatCount=\"indefinite\" values=\"visible;visible;visible;hidden;hidden\"/> </circle>\n<circle class=\"target\" cx=\"200\" cy=\"-800\" r=\"35\" stroke=\"#c1433c\"> <animate attributeName=\"visibility\" dur=\"4.25s\" keyTimes=\"0.0;0.0555555556;0.1111111111;1.0\" repeatCount=\"indefinite\" values=\"visible;visible;hidden;hidden\"/> </circle>\n<circle class=\"target\" cx=\"700\" cy=\"-700\" r=\"35\" stroke=\"#2e6f9e\"> <animate attributeName=\"visibility\" dur=\"4.25s\" keyTimes=\"0.0;0.0555555556;0.6666666667;0.7222222222;1.0\" repeatCount=\"indefinite\" values=\"visible;visible;visible;hidden;hidden\"/> </circle>\n<circle class=\"target\" cx=\"400\" cy=\"-500\" r=\"35\" stroke=\"#6e81af\"> <animate attributeName=\"visibility\" dur=\"4.25s\" keyTimes=\"0.0;0.0555555556;0.5555555556;0.6111111111;1.0\" repeatCount=\"indefinite\" values=\"visible;visible;visible;hidden;hidden\"/> </circle>\n</svg>",
            "text/plain": [
              "<IPython.core.display.SVG object>"
            ]
          },
          "metadata": {},
          "output_type": "display_data"
        },
        {
          "data": {
            "image/svg+xml": "<svg xmlns=\"http://www.w3.org/2000/svg\" xmlns:xlink=\"http://www.w3.org/1999/xlink\" width=\"512\" height=\"512\" viewBox=\"0 -1100 1100 1100\">\n<defs>\n\n        <rect id=\"obstacle\" width=\"70\" height=\"70\" fill=\"#84A1AE\" rx=\"15\"/>\n        <style>\n        .line {stroke: #84A1AE; stroke-width: 10;}\n        .agent {r: 35;}\n        .target {fill: none; stroke-width: 10; r: 35;}\n        </style>\n        \n</defs>\n\n<line class=\"line\" x1=\"-50.0\" x2=\"-50.0\" y1=\"0\" y2=\"-1100\"/>\n<line class=\"line\" x1=\"50.0\" x2=\"50.0\" y1=\"0\" y2=\"-1100\"/>\n<line class=\"line\" x1=\"150.0\" x2=\"150.0\" y1=\"0\" y2=\"-1100\"/>\n<line class=\"line\" x1=\"250.0\" x2=\"250.0\" y1=\"0\" y2=\"-1100\"/>\n<line class=\"line\" x1=\"350.0\" x2=\"350.0\" y1=\"0\" y2=\"-1100\"/>\n<line class=\"line\" x1=\"450.0\" x2=\"450.0\" y1=\"0\" y2=\"-1100\"/>\n<line class=\"line\" x1=\"550.0\" x2=\"550.0\" y1=\"0\" y2=\"-1100\"/>\n<line class=\"line\" x1=\"650.0\" x2=\"650.0\" y1=\"0\" y2=\"-1100\"/>\n<line class=\"line\" x1=\"750.0\" x2=\"750.0\" y1=\"0\" y2=\"-1100\"/>\n<line class=\"line\" x1=\"850.0\" x2=\"850.0\" y1=\"0\" y2=\"-1100\"/>\n<line class=\"line\" x1=\"950.0\" x2=\"950.0\" y1=\"0\" y2=\"-1100\"/>\n<line class=\"line\" x1=\"1050.0\" x2=\"1050.0\" y1=\"0\" y2=\"-1100\"/>\n<line class=\"line\" x1=\"0\" x2=\"1100\" y1=\"50.0\" y2=\"50.0\"/>\n<line class=\"line\" x1=\"0\" x2=\"1100\" y1=\"-50.0\" y2=\"-50.0\"/>\n<line class=\"line\" x1=\"0\" x2=\"1100\" y1=\"-150.0\" y2=\"-150.0\"/>\n<line class=\"line\" x1=\"0\" x2=\"1100\" y1=\"-250.0\" y2=\"-250.0\"/>\n<line class=\"line\" x1=\"0\" x2=\"1100\" y1=\"-350.0\" y2=\"-350.0\"/>\n<line class=\"line\" x1=\"0\" x2=\"1100\" y1=\"-450.0\" y2=\"-450.0\"/>\n<line class=\"line\" x1=\"0\" x2=\"1100\" y1=\"-550.0\" y2=\"-550.0\"/>\n<line class=\"line\" x1=\"0\" x2=\"1100\" y1=\"-650.0\" y2=\"-650.0\"/>\n<line class=\"line\" x1=\"0\" x2=\"1100\" y1=\"-750.0\" y2=\"-750.0\"/>\n<line class=\"line\" x1=\"0\" x2=\"1100\" y1=\"-850.0\" y2=\"-850.0\"/>\n<line class=\"line\" x1=\"0\" x2=\"1100\" y1=\"-950.0\" y2=\"-950.0\"/>\n<line class=\"line\" x1=\"0\" x2=\"1100\" y1=\"-1050.0\" y2=\"-1050.0\"/>\n<use href=\"#obstacle\" x=\"65\" y=\"-135\"/>\n<use href=\"#obstacle\" x=\"65\" y=\"-235\"/>\n<use href=\"#obstacle\" x=\"65\" y=\"-335\"/>\n<use href=\"#obstacle\" x=\"65\" y=\"-435\"/>\n<use href=\"#obstacle\" x=\"65\" y=\"-535\"/>\n<use href=\"#obstacle\" x=\"65\" y=\"-635\"/>\n<use href=\"#obstacle\" x=\"65\" y=\"-735\"/>\n<use href=\"#obstacle\" x=\"65\" y=\"-835\"/>\n<use href=\"#obstacle\" x=\"65\" y=\"-935\"/>\n<use href=\"#obstacle\" x=\"65\" y=\"-1035\"/>\n<use href=\"#obstacle\" x=\"165\" y=\"-135\"/>\n<use href=\"#obstacle\" x=\"165\" y=\"-1035\"/>\n<use href=\"#obstacle\" x=\"265\" y=\"-135\"/>\n<use href=\"#obstacle\" x=\"265\" y=\"-1035\"/>\n<use href=\"#obstacle\" x=\"365\" y=\"-135\"/>\n<use href=\"#obstacle\" x=\"365\" y=\"-1035\"/>\n<use href=\"#obstacle\" x=\"465\" y=\"-135\"/>\n<use href=\"#obstacle\" x=\"465\" y=\"-1035\"/>\n<use href=\"#obstacle\" x=\"565\" y=\"-135\"/>\n<use href=\"#obstacle\" x=\"565\" y=\"-1035\"/>\n<use href=\"#obstacle\" x=\"665\" y=\"-135\"/>\n<use href=\"#obstacle\" x=\"665\" y=\"-1035\"/>\n<use href=\"#obstacle\" x=\"765\" y=\"-135\"/>\n<use href=\"#obstacle\" x=\"765\" y=\"-1035\"/>\n<use href=\"#obstacle\" x=\"865\" y=\"-135\"/>\n<use href=\"#obstacle\" x=\"865\" y=\"-1035\"/>\n<use href=\"#obstacle\" x=\"965\" y=\"-135\"/>\n<use href=\"#obstacle\" x=\"965\" y=\"-235\"/>\n<use href=\"#obstacle\" x=\"965\" y=\"-335\"/>\n<use href=\"#obstacle\" x=\"965\" y=\"-435\"/>\n<use href=\"#obstacle\" x=\"965\" y=\"-535\"/>\n<use href=\"#obstacle\" x=\"965\" y=\"-635\"/>\n<use href=\"#obstacle\" x=\"965\" y=\"-735\"/>\n<use href=\"#obstacle\" x=\"965\" y=\"-835\"/>\n<use href=\"#obstacle\" x=\"965\" y=\"-935\"/>\n<use href=\"#obstacle\" x=\"965\" y=\"-1035\"/>\n<circle class=\"agent\" cx=\"700\" cy=\"-900\" fill=\"#c1433c\" r=\"35\"> <animate attributeName=\"cy\" dur=\"4.0s\" keyTimes=\"0.0;0.0588235294;0.1176470588;0.1764705882;1.0\" repeatCount=\"indefinite\" values=\"-900;-900;-800;-700;-700\"/>\n<animate attributeName=\"cx\" dur=\"4.0s\" keyTimes=\"0.0;0.0588235294;0.1764705882;0.2352941176;0.2941176471;1.0\" repeatCount=\"indefinite\" values=\"700;700;700;600;500;500\"/>\n<animate attributeName=\"visibility\" dur=\"4.0s\" keyTimes=\"0.0;0.0588235294;0.2352941176;0.2941176471;1.0\" repeatCount=\"indefinite\" values=\"visible;visible;visible;hidden;hidden\"/> </circle>\n<circle class=\"agent\" cx=\"500\" cy=\"-500\" fill=\"#2e6f9e\" r=\"35\"> <animate attributeName=\"cy\" dur=\"4.0s\" keyTimes=\"0.0;0.0588235294;0.1176470588;0.1764705882;0.2352941176;0.3529411765;0.4117647059;0.4705882353;0.5294117647;0.6470588235;0.7058823529;1.0\" repeatCount=\"indefinite\" values=\"-500;-500;-500;-600;-500;-500;-600;-500;-600;-600;-700;-700\"/>\n<animate attributeName=\"cx\" dur=\"4.0s\" keyTimes=\"0.0;0.0588235294;0.1176470588;0.5294117647;0.5882352941;0.6470588235;0.7647058824;0.8235294118;0.8823529412;1.0\" repeatCount=\"indefinite\" values=\"500;500;400;400;500;400;400;300;200;200\"/>\n<animate attributeName=\"visibility\" dur=\"4.0s\" keyTimes=\"0.0;0.0588235294;0.8235294118;0.8823529412;1.0\" repeatCount=\"indefinite\" values=\"visible;visible;visible;hidden;hidden\"/> </circle>\n<circle class=\"agent\" cx=\"200\" cy=\"-500\" fill=\"#6e81af\" r=\"35\"> <animate attributeName=\"cy\" dur=\"4.0s\" keyTimes=\"0.0;0.0588235294;0.1176470588;0.1764705882;0.2352941176;0.4117647059;0.4705882353;1.0\" repeatCount=\"indefinite\" values=\"-500;-500;-600;-600;-700;-700;-800;-800\"/>\n<animate attributeName=\"cx\" dur=\"4.0s\" keyTimes=\"0.0;0.0588235294;0.2941176471;0.3529411765;0.4117647059;0.5294117647;0.5882352941;0.6470588235;1.0\" repeatCount=\"indefinite\" values=\"200;200;200;300;400;400;500;600;600\"/>\n<animate attributeName=\"visibility\" dur=\"4.0s\" keyTimes=\"0.0;0.0588235294;0.5882352941;0.6470588235;1.0\" repeatCount=\"indefinite\" values=\"visible;visible;visible;hidden;hidden\"/> </circle>\n<circle class=\"agent\" cx=\"300\" cy=\"-400\" fill=\"#00b9c8\" r=\"35\"> <animate attributeName=\"cy\" dur=\"4.0s\" keyTimes=\"0.0;0.0588235294;0.1176470588;0.2941176471;0.3529411765;0.4117647059;0.4705882353;0.5294117647;0.5882352941;0.7058823529;0.7647058824;1.0\" repeatCount=\"indefinite\" values=\"-400;-400;-500;-500;-600;-600;-500;-600;-500;-500;-600;-600\"/>\n<animate attributeName=\"cx\" dur=\"4.0s\" keyTimes=\"0.0;0.0588235294;0.1176470588;0.1764705882;0.3529411765;0.4117647059;0.5882352941;0.6470588235;0.7058823529;0.7647058824;0.8235294118;1.0\" repeatCount=\"indefinite\" values=\"300;300;300;200;200;300;300;400;500;500;600;600\"/>\n<animate attributeName=\"visibility\" dur=\"4.0s\" keyTimes=\"0.0;0.0588235294;0.7647058824;0.8235294118;1.0\" repeatCount=\"indefinite\" values=\"visible;visible;visible;hidden;hidden\"/> </circle>\n<circle class=\"agent\" cx=\"900\" cy=\"-600\" fill=\"#72D5C8\" r=\"35\"> <animate attributeName=\"cy\" dur=\"4.0s\" keyTimes=\"0.0;0.0588235294;0.1176470588;0.1764705882;0.2352941176;0.2941176471;1.0\" repeatCount=\"indefinite\" values=\"-600;-600;-500;-600;-700;-800;-800\"/>\n<animate attributeName=\"cx\" dur=\"4.0s\" keyTimes=\"0.0;0.0588235294;0.2941176471;0.3529411765;1.0\" repeatCount=\"indefinite\" values=\"900;900;900;800;800\"/>\n<animate attributeName=\"visibility\" dur=\"4.0s\" keyTimes=\"0.0;0.0588235294;0.2941176471;0.3529411765;1.0\" repeatCount=\"indefinite\" values=\"visible;visible;visible;hidden;hidden\"/> </circle>\n<circle class=\"agent\" cx=\"300\" cy=\"-700\" fill=\"#0ea08c\" r=\"35\"> <animate attributeName=\"cy\" dur=\"4.0s\" keyTimes=\"0.0;0.0588235294;0.1176470588;0.1764705882;0.2352941176;0.2941176471;1.0\" repeatCount=\"indefinite\" values=\"-700;-700;-600;-600;-700;-800;-800\"/>\n<animate attributeName=\"cx\" dur=\"4.0s\" keyTimes=\"0.0;0.0588235294;0.2941176471;0.3529411765;0.4117647059;0.4705882353;0.5294117647;1.0\" repeatCount=\"indefinite\" values=\"300;300;300;400;500;600;700;700\"/>\n<animate attributeName=\"visibility\" dur=\"4.0s\" keyTimes=\"0.0;0.0588235294;0.4705882353;0.5294117647;1.0\" repeatCount=\"indefinite\" values=\"visible;visible;visible;hidden;hidden\"/> </circle>\n<circle class=\"agent\" cx=\"300\" cy=\"-300\" fill=\"#8F7B66\" r=\"35\"> <animate attributeName=\"cy\" dur=\"4.0s\" keyTimes=\"0.0;0.0588235294;0.1176470588;0.1764705882;0.2352941176;0.2941176471;1.0\" repeatCount=\"indefinite\" values=\"-300;-300;-300;-400;-300;-400;-400\"/>\n<animate attributeName=\"cx\" dur=\"4.0s\" keyTimes=\"0.0;0.0588235294;0.1176470588;0.2941176471;0.3529411765;0.4117647059;0.4705882353;1.0\" repeatCount=\"indefinite\" values=\"300;300;400;400;500;600;700;700\"/>\n<animate attributeName=\"visibility\" dur=\"4.0s\" keyTimes=\"0.0;0.0588235294;0.4117647059;0.4705882353;1.0\" repeatCount=\"indefinite\" values=\"visible;visible;visible;hidden;hidden\"/> </circle>\n<circle class=\"agent\" cx=\"500\" cy=\"-300\" fill=\"#c1433c\" r=\"35\"> <animate attributeName=\"cy\" dur=\"4.0s\" keyTimes=\"0.0;0.0588235294;0.1176470588;0.1764705882;0.2352941176;0.4117647059;0.4705882353;1.0\" repeatCount=\"indefinite\" values=\"-300;-300;-300;-400;-300;-300;-400;-400\"/>\n<animate attributeName=\"cx\" dur=\"4.0s\" keyTimes=\"0.0;0.0588235294;0.2941176471;0.3529411765;0.4705882353;0.5294117647;0.5882352941;0.6470588235;0.7058823529;1.0\" repeatCount=\"indefinite\" values=\"500;500;500;400;400;300;400;300;200;200\"/>\n<animate attributeName=\"visibility\" dur=\"4.0s\" keyTimes=\"0.0;0.0588235294;0.6470588235;0.7058823529;1.0\" repeatCount=\"indefinite\" values=\"visible;visible;visible;hidden;hidden\"/> </circle>\n<circle class=\"agent\" cx=\"700\" cy=\"-500\" fill=\"#2e6f9e\" r=\"35\"> <animate attributeName=\"cy\" dur=\"4.0s\" keyTimes=\"0.0;0.0588235294;0.1176470588;0.2941176471;0.3529411765;0.5882352941;0.6470588235;0.7058823529;0.7647058824;0.8235294118;1.0\" repeatCount=\"indefinite\" values=\"-500;-500;-600;-600;-700;-700;-600;-700;-800;-900;-900\"/>\n<animate attributeName=\"cx\" dur=\"4.0s\" keyTimes=\"0.0;0.0588235294;0.1176470588;0.1764705882;0.2352941176;0.2941176471;0.4117647059;0.4705882353;0.5294117647;0.8235294118;0.8823529412;1.0\" repeatCount=\"indefinite\" values=\"700;700;700;600;600;500;500;600;500;500;600;600\"/>\n<animate attributeName=\"visibility\" dur=\"4.0s\" keyTimes=\"0.0;0.0588235294;0.8235294118;0.8823529412;1.0\" repeatCount=\"indefinite\" values=\"visible;visible;visible;hidden;hidden\"/> </circle>\n<circle class=\"agent\" cx=\"900\" cy=\"-200\" fill=\"#6e81af\" r=\"35\"> <animate attributeName=\"cy\" dur=\"4.0s\" keyTimes=\"0.0;0.0588235294;0.1176470588;0.3529411765;0.4117647059;0.4705882353;0.5294117647;0.7647058824;0.8235294118;0.8823529412;1.0\" repeatCount=\"indefinite\" values=\"-200;-200;-300;-300;-200;-200;-300;-300;-200;-300;-300\"/>\n<animate attributeName=\"cx\" dur=\"4.0s\" keyTimes=\"0.0;0.0588235294;0.1176470588;0.1764705882;0.2352941176;0.2941176471;0.3529411765;0.4117647059;0.4705882353;0.5294117647;0.5882352941;0.6470588235;0.7058823529;0.8823529412;0.9411764706;1.0\" repeatCount=\"indefinite\" values=\"900;900;900;800;700;600;500;500;600;600;500;400;300;300;200;200\"/>\n<animate attributeName=\"visibility\" dur=\"4.0s\" keyTimes=\"0.0;0.0588235294;0.8823529412;0.9411764706;1.0\" repeatCount=\"indefinite\" values=\"visible;visible;visible;hidden;hidden\"/> </circle>\n<circle class=\"target\" cx=\"500\" cy=\"-700\" r=\"35\" stroke=\"#c1433c\"> <animate attributeName=\"visibility\" dur=\"4.0s\" keyTimes=\"0.0;0.0588235294;0.2352941176;0.2941176471;1.0\" repeatCount=\"indefinite\" values=\"visible;visible;visible;hidden;hidden\"/> </circle>\n<circle class=\"target\" cx=\"200\" cy=\"-700\" r=\"35\" stroke=\"#2e6f9e\"> <animate attributeName=\"visibility\" dur=\"4.0s\" keyTimes=\"0.0;0.0588235294;0.8235294118;0.8823529412;1.0\" repeatCount=\"indefinite\" values=\"visible;visible;visible;hidden;hidden\"/> </circle>\n<circle class=\"target\" cx=\"600\" cy=\"-800\" r=\"35\" stroke=\"#6e81af\"> <animate attributeName=\"visibility\" dur=\"4.0s\" keyTimes=\"0.0;0.0588235294;0.5882352941;0.6470588235;1.0\" repeatCount=\"indefinite\" values=\"visible;visible;visible;hidden;hidden\"/> </circle>\n<circle class=\"target\" cx=\"600\" cy=\"-600\" r=\"35\" stroke=\"#00b9c8\"> <animate attributeName=\"visibility\" dur=\"4.0s\" keyTimes=\"0.0;0.0588235294;0.7647058824;0.8235294118;1.0\" repeatCount=\"indefinite\" values=\"visible;visible;visible;hidden;hidden\"/> </circle>\n<circle class=\"target\" cx=\"800\" cy=\"-800\" r=\"35\" stroke=\"#72D5C8\"> <animate attributeName=\"visibility\" dur=\"4.0s\" keyTimes=\"0.0;0.0588235294;0.2941176471;0.3529411765;1.0\" repeatCount=\"indefinite\" values=\"visible;visible;visible;hidden;hidden\"/> </circle>\n<circle class=\"target\" cx=\"700\" cy=\"-800\" r=\"35\" stroke=\"#0ea08c\"> <animate attributeName=\"visibility\" dur=\"4.0s\" keyTimes=\"0.0;0.0588235294;0.4705882353;0.5294117647;1.0\" repeatCount=\"indefinite\" values=\"visible;visible;visible;hidden;hidden\"/> </circle>\n<circle class=\"target\" cx=\"700\" cy=\"-400\" r=\"35\" stroke=\"#8F7B66\"> <animate attributeName=\"visibility\" dur=\"4.0s\" keyTimes=\"0.0;0.0588235294;0.4117647059;0.4705882353;1.0\" repeatCount=\"indefinite\" values=\"visible;visible;visible;hidden;hidden\"/> </circle>\n<circle class=\"target\" cx=\"200\" cy=\"-400\" r=\"35\" stroke=\"#c1433c\"> <animate attributeName=\"visibility\" dur=\"4.0s\" keyTimes=\"0.0;0.0588235294;0.6470588235;0.7058823529;1.0\" repeatCount=\"indefinite\" values=\"visible;visible;visible;hidden;hidden\"/> </circle>\n<circle class=\"target\" cx=\"600\" cy=\"-900\" r=\"35\" stroke=\"#2e6f9e\"> <animate attributeName=\"visibility\" dur=\"4.0s\" keyTimes=\"0.0;0.0588235294;0.8235294118;0.8823529412;1.0\" repeatCount=\"indefinite\" values=\"visible;visible;visible;hidden;hidden\"/> </circle>\n<circle class=\"target\" cx=\"200\" cy=\"-300\" r=\"35\" stroke=\"#6e81af\"> <animate attributeName=\"visibility\" dur=\"4.0s\" keyTimes=\"0.0;0.0588235294;0.8823529412;0.9411764706;1.0\" repeatCount=\"indefinite\" values=\"visible;visible;visible;hidden;hidden\"/> </circle>\n</svg>",
            "text/plain": [
              "<IPython.core.display.SVG object>"
            ]
          },
          "metadata": {},
          "output_type": "display_data"
        }
      ],
      "source": [
        "display(SVG(files[0]))\n",
        "display(SVG(files[7]))"
      ]
    },
    {
      "cell_type": "markdown",
      "metadata": {
        "id": "wno9jBaNU-b8"
      },
      "source": [
        "**Your observations here:**"
      ]
    },
    {
      "cell_type": "markdown",
      "metadata": {
        "id": "9rXFWaAyrjmd"
      },
      "source": [
        "### History-based Policy\n"
      ]
    },
    {
      "cell_type": "code",
      "execution_count": null,
      "metadata": {
        "id": "fqRiryZRrluh"
      },
      "outputs": [],
      "source": [
        "class HistoryBasedPolicy(SimpleAStarPolicy):\n",
        "    def __init__(self, gc: GridConfig, random_seed=42, history_len: int = 3):\n",
        "        \"\"\"\n",
        "        Initializes the HistoryBasedPolicy class, extending the SimpleAStarPolicy class with\n",
        "        a history-based decision-making approach.\n",
        "\n",
        "        Args:\n",
        "        - gc: GridConfig, configuration settings for the grid.\n",
        "        - random_seed: int, the seed for the random number generator.\n",
        "        - history_len: int, the length of the observation history to maintain for each agent.\n",
        "\n",
        "        Attributes:\n",
        "        - _history: List[List[ndarray]], a list to store the history of observations for each agent.\n",
        "        - _history_ptr: int, a pointer to manage the circular history buffer.\n",
        "        - _max_history_len: int, the maximum length of the history.\n",
        "        \"\"\"\n",
        "        super().__init__(gc, random_seed)\n",
        "        self._history = None\n",
        "        self._history_ptr = 0  # Pointer to the current position in the history buffer\n",
        "        self._max_history_len = history_len\n",
        "\n",
        "    def _post_init(self, obs):\n",
        "        \"\"\"\n",
        "        Post-initialization to set up history buffers for agents.\n",
        "\n",
        "        Args:\n",
        "        - obs: ndarray, the observation matrix.\n",
        "        \"\"\"\n",
        "        super()._post_init(obs)\n",
        "        total_agents = len(self.agents)\n",
        "        self._history = [[] for _ in range(total_agents)]\n",
        "\n",
        "    def _update_history(self, obs):\n",
        "        \"\"\"\n",
        "        Updates the history of observations for each agent, treating the history as a circular buffer.\n",
        "\n",
        "        This method ensures that each agent's history of observations is kept up to date. The history is\n",
        "        managed as a circular buffer: when the buffer reaches its maximum capacity (_max_history_len), new\n",
        "        observations overwrite the oldest ones. This approach is efficient for memory usage and quick updates.\n",
        "\n",
        "        Args:\n",
        "        - obs: ndarray, the current set of observations for all agents.\n",
        "        \"\"\"\n",
        "        for agent_history, cur_obs in zip(self._history, obs):\n",
        "            if len(agent_history) < self._max_history_len:\n",
        "                agent_history.append(cur_obs)\n",
        "            else:\n",
        "                agent_history[self._history_ptr] = cur_obs\n",
        "        self._history_ptr = (self._history_ptr + 1) % self._max_history_len\n",
        "\n",
        "    def act(self, obs):\n",
        "        \"\"\"\n",
        "        Overrides the act method to incorporate history-based action selection.\n",
        "\n",
        "        Args:\n",
        "        - obs: ndarray, the current set of observations for all agents.\n",
        "\n",
        "        Returns:\n",
        "        - List[int], a list of actions for each agent, potentially influenced by their observation history.\n",
        "        \"\"\"\n",
        "        actions = super().act(obs)\n",
        "        new_actions = copy(actions)\n",
        "\n",
        "        for i in range(len(new_actions)):\n",
        "            for past_obs in self._history[i]:\n",
        "                if (obs[i] == past_obs).all():\n",
        "                    new_actions[i] = self._rnd.choice([0, 1, 2, 3, 4])\n",
        "\n",
        "        self._update_history(obs)\n",
        "        return new_actions"
      ]
    },
    {
      "cell_type": "code",
      "execution_count": null,
      "metadata": {
        "colab": {
          "base_uri": "https://localhost:8080/",
          "height": 49,
          "referenced_widgets": [
            "bc48f7058f7541b69baf49619c44a897",
            "b54a21960cdc47c7a6e03519e7f2f4bd",
            "f8a49711d890450e8623d8a2010dc147",
            "839108781be64b14be6364a218bd2bca",
            "edfd1f01bc254a4a81188424e174812f",
            "17c387fc98324a1a91f60fb202253a37",
            "0696bedc441346268e08b3d635ec525d",
            "e6b8d55f3e4d4f82ab97a1e5b87e3cb7",
            "5aa39411fe4b432db3b8647715bb1246",
            "7f1b134f53624cabb06a9c2d4d023cf1",
            "7d279525cc4d4b51a7b989fe3ff954ad"
          ]
        },
        "id": "JU9tq5t7wSC5",
        "outputId": "26d8c397-d73e-421b-8518-0c15d8685a17"
      },
      "outputs": [
        {
          "data": {
            "application/vnd.jupyter.widget-view+json": {
              "model_id": "bc48f7058f7541b69baf49619c44a897",
              "version_major": 2,
              "version_minor": 0
            },
            "text/plain": [
              "  0%|          | 0/100 [00:00<?, ?it/s]"
            ]
          },
          "metadata": {},
          "output_type": "display_data"
        }
      ],
      "source": [
        "metrics, files = run_policy(\n",
        "    HistoryBasedPolicy,\n",
        "    base_animation_filename=\"render\",\n",
        "    total_runs=100,\n",
        "    iterations_per_run=3,\n",
        "    history_len=3,\n",
        "    use_status_bar=True\n",
        ")"
      ]
    },
    {
      "cell_type": "code",
      "execution_count": null,
      "metadata": {
        "colab": {
          "base_uri": "https://localhost:8080/"
        },
        "id": "E_36-ALkyv8x",
        "outputId": "80d26938-16d6-4bb4-c2d5-3a76dc3d9838"
      },
      "outputs": [
        {
          "name": "stdout",
          "output_type": "stream",
          "text": [
            "ISR: 100.0%\n",
            "CSR: 100.0%\n"
          ]
        }
      ],
      "source": [
        "for metric in [\"ISR\", \"CSR\"]:\n",
        "    print(f\"{metric}: {np.mean(metrics[metric]) * 100}%\")"
      ]
    },
    {
      "cell_type": "code",
      "execution_count": null,
      "metadata": {
        "colab": {
          "base_uri": "https://localhost:8080/",
          "height": 1000
        },
        "id": "SQTsG0taxJ6g",
        "outputId": "29edb716-beac-4a26-a926-86d9cfc889db"
      },
      "outputs": [
        {
          "data": {
            "image/svg+xml": "<svg xmlns=\"http://www.w3.org/2000/svg\" xmlns:xlink=\"http://www.w3.org/1999/xlink\" width=\"512\" height=\"512\" viewBox=\"0 -1100 1100 1100\">\n<defs>\n\n        <rect id=\"obstacle\" width=\"70\" height=\"70\" fill=\"#84A1AE\" rx=\"15\"/>\n        <style>\n        .line {stroke: #84A1AE; stroke-width: 10;}\n        .agent {r: 35;}\n        .target {fill: none; stroke-width: 10; r: 35;}\n        </style>\n        \n</defs>\n\n<line class=\"line\" x1=\"-50.0\" x2=\"-50.0\" y1=\"0\" y2=\"-1100\"/>\n<line class=\"line\" x1=\"50.0\" x2=\"50.0\" y1=\"0\" y2=\"-1100\"/>\n<line class=\"line\" x1=\"150.0\" x2=\"150.0\" y1=\"0\" y2=\"-1100\"/>\n<line class=\"line\" x1=\"250.0\" x2=\"250.0\" y1=\"0\" y2=\"-1100\"/>\n<line class=\"line\" x1=\"350.0\" x2=\"350.0\" y1=\"0\" y2=\"-1100\"/>\n<line class=\"line\" x1=\"450.0\" x2=\"450.0\" y1=\"0\" y2=\"-1100\"/>\n<line class=\"line\" x1=\"550.0\" x2=\"550.0\" y1=\"0\" y2=\"-1100\"/>\n<line class=\"line\" x1=\"650.0\" x2=\"650.0\" y1=\"0\" y2=\"-1100\"/>\n<line class=\"line\" x1=\"750.0\" x2=\"750.0\" y1=\"0\" y2=\"-1100\"/>\n<line class=\"line\" x1=\"850.0\" x2=\"850.0\" y1=\"0\" y2=\"-1100\"/>\n<line class=\"line\" x1=\"950.0\" x2=\"950.0\" y1=\"0\" y2=\"-1100\"/>\n<line class=\"line\" x1=\"1050.0\" x2=\"1050.0\" y1=\"0\" y2=\"-1100\"/>\n<line class=\"line\" x1=\"0\" x2=\"1100\" y1=\"50.0\" y2=\"50.0\"/>\n<line class=\"line\" x1=\"0\" x2=\"1100\" y1=\"-50.0\" y2=\"-50.0\"/>\n<line class=\"line\" x1=\"0\" x2=\"1100\" y1=\"-150.0\" y2=\"-150.0\"/>\n<line class=\"line\" x1=\"0\" x2=\"1100\" y1=\"-250.0\" y2=\"-250.0\"/>\n<line class=\"line\" x1=\"0\" x2=\"1100\" y1=\"-350.0\" y2=\"-350.0\"/>\n<line class=\"line\" x1=\"0\" x2=\"1100\" y1=\"-450.0\" y2=\"-450.0\"/>\n<line class=\"line\" x1=\"0\" x2=\"1100\" y1=\"-550.0\" y2=\"-550.0\"/>\n<line class=\"line\" x1=\"0\" x2=\"1100\" y1=\"-650.0\" y2=\"-650.0\"/>\n<line class=\"line\" x1=\"0\" x2=\"1100\" y1=\"-750.0\" y2=\"-750.0\"/>\n<line class=\"line\" x1=\"0\" x2=\"1100\" y1=\"-850.0\" y2=\"-850.0\"/>\n<line class=\"line\" x1=\"0\" x2=\"1100\" y1=\"-950.0\" y2=\"-950.0\"/>\n<line class=\"line\" x1=\"0\" x2=\"1100\" y1=\"-1050.0\" y2=\"-1050.0\"/>\n<use href=\"#obstacle\" x=\"65\" y=\"-135\"/>\n<use href=\"#obstacle\" x=\"65\" y=\"-235\"/>\n<use href=\"#obstacle\" x=\"65\" y=\"-335\"/>\n<use href=\"#obstacle\" x=\"65\" y=\"-435\"/>\n<use href=\"#obstacle\" x=\"65\" y=\"-535\"/>\n<use href=\"#obstacle\" x=\"65\" y=\"-635\"/>\n<use href=\"#obstacle\" x=\"65\" y=\"-735\"/>\n<use href=\"#obstacle\" x=\"65\" y=\"-835\"/>\n<use href=\"#obstacle\" x=\"65\" y=\"-935\"/>\n<use href=\"#obstacle\" x=\"65\" y=\"-1035\"/>\n<use href=\"#obstacle\" x=\"165\" y=\"-135\"/>\n<use href=\"#obstacle\" x=\"165\" y=\"-1035\"/>\n<use href=\"#obstacle\" x=\"265\" y=\"-135\"/>\n<use href=\"#obstacle\" x=\"265\" y=\"-1035\"/>\n<use href=\"#obstacle\" x=\"365\" y=\"-135\"/>\n<use href=\"#obstacle\" x=\"365\" y=\"-1035\"/>\n<use href=\"#obstacle\" x=\"465\" y=\"-135\"/>\n<use href=\"#obstacle\" x=\"465\" y=\"-1035\"/>\n<use href=\"#obstacle\" x=\"565\" y=\"-135\"/>\n<use href=\"#obstacle\" x=\"565\" y=\"-1035\"/>\n<use href=\"#obstacle\" x=\"665\" y=\"-135\"/>\n<use href=\"#obstacle\" x=\"665\" y=\"-1035\"/>\n<use href=\"#obstacle\" x=\"765\" y=\"-135\"/>\n<use href=\"#obstacle\" x=\"765\" y=\"-1035\"/>\n<use href=\"#obstacle\" x=\"865\" y=\"-135\"/>\n<use href=\"#obstacle\" x=\"865\" y=\"-1035\"/>\n<use href=\"#obstacle\" x=\"965\" y=\"-135\"/>\n<use href=\"#obstacle\" x=\"965\" y=\"-235\"/>\n<use href=\"#obstacle\" x=\"965\" y=\"-335\"/>\n<use href=\"#obstacle\" x=\"965\" y=\"-435\"/>\n<use href=\"#obstacle\" x=\"965\" y=\"-535\"/>\n<use href=\"#obstacle\" x=\"965\" y=\"-635\"/>\n<use href=\"#obstacle\" x=\"965\" y=\"-735\"/>\n<use href=\"#obstacle\" x=\"965\" y=\"-835\"/>\n<use href=\"#obstacle\" x=\"965\" y=\"-935\"/>\n<use href=\"#obstacle\" x=\"965\" y=\"-1035\"/>\n<circle class=\"agent\" cx=\"900\" cy=\"-900\" fill=\"#c1433c\" r=\"35\"> <animate attributeName=\"cy\" dur=\"2.5s\" keyTimes=\"0.0;0.0909090909;0.1818181818;0.2727272727;1.0\" repeatCount=\"indefinite\" values=\"-900;-900;-800;-700;-700\"/>\n<animate attributeName=\"cx\" dur=\"2.5s\" keyTimes=\"0.0;0.0909090909;0.2727272727;0.3636363636;1.0\" repeatCount=\"indefinite\" values=\"900;900;900;800;800\"/>\n<animate attributeName=\"visibility\" dur=\"2.5s\" keyTimes=\"0.0;0.0909090909;0.2727272727;0.3636363636;1.0\" repeatCount=\"indefinite\" values=\"visible;visible;visible;hidden;hidden\"/> </circle>\n<circle class=\"agent\" cx=\"600\" cy=\"-500\" fill=\"#2e6f9e\" r=\"35\"> <animate attributeName=\"cy\" dur=\"2.5s\" keyTimes=\"0.0;0.0909090909;0.3636363636;0.4545454545;0.5454545455;1.0\" repeatCount=\"indefinite\" values=\"-500;-500;-500;-400;-300;-300\"/>\n<animate attributeName=\"cx\" dur=\"2.5s\" keyTimes=\"0.0;0.0909090909;0.1818181818;0.2727272727;0.3636363636;1.0\" repeatCount=\"indefinite\" values=\"600;600;500;400;300;300\"/>\n<animate attributeName=\"visibility\" dur=\"2.5s\" keyTimes=\"0.0;0.0909090909;0.4545454545;0.5454545455;1.0\" repeatCount=\"indefinite\" values=\"visible;visible;visible;hidden;hidden\"/> </circle>\n<circle class=\"agent\" cx=\"300\" cy=\"-500\" fill=\"#6e81af\" r=\"35\"> <animate attributeName=\"cy\" dur=\"2.5s\" keyTimes=\"0.0;0.0909090909;0.1818181818;0.3636363636;0.4545454545;1.0\" repeatCount=\"indefinite\" values=\"-500;-500;-600;-600;-700;-700\"/>\n<animate attributeName=\"cx\" dur=\"2.5s\" keyTimes=\"0.0;0.0909090909;0.1818181818;0.2727272727;0.4545454545;0.5454545455;0.6363636364;0.7272727273;0.8181818182;0.9090909091;1.0\" repeatCount=\"indefinite\" values=\"300;300;300;400;400;500;600;700;800;900;900\"/>\n<animate attributeName=\"visibility\" dur=\"2.5s\" keyTimes=\"0.0;0.0909090909;0.8181818182;0.9090909091;1.0\" repeatCount=\"indefinite\" values=\"visible;visible;visible;hidden;hidden\"/> </circle>\n<circle class=\"agent\" cx=\"400\" cy=\"-800\" fill=\"#00b9c8\" r=\"35\"> <animate attributeName=\"cy\" dur=\"2.5s\" keyTimes=\"0.0;0.0909090909;0.1818181818;0.3636363636;0.4545454545;0.5454545455;0.6363636364;0.7272727273;1.0\" repeatCount=\"indefinite\" values=\"-800;-800;-700;-700;-600;-600;-500;-400;-400\"/>\n<animate attributeName=\"cx\" dur=\"2.5s\" keyTimes=\"0.0;0.0909090909;0.2727272727;0.3636363636;1.0\" repeatCount=\"indefinite\" values=\"400;400;400;300;300\"/>\n<animate attributeName=\"visibility\" dur=\"2.5s\" keyTimes=\"0.0;0.0909090909;0.6363636364;0.7272727273;1.0\" repeatCount=\"indefinite\" values=\"visible;visible;visible;hidden;hidden\"/> </circle>\n<circle class=\"agent\" cx=\"500\" cy=\"-200\" fill=\"#72D5C8\" r=\"35\"> <animate attributeName=\"cy\" dur=\"2.5s\" keyTimes=\"0.0;0.0909090909;0.5454545455;0.6363636364;0.7272727273;0.8181818182;1.0\" repeatCount=\"indefinite\" values=\"-200;-200;-200;-300;-300;-400;-400\"/>\n<animate attributeName=\"cx\" dur=\"2.5s\" keyTimes=\"0.0;0.0909090909;0.1818181818;0.2727272727;0.8181818182;0.9090909091;1.0\" repeatCount=\"indefinite\" values=\"500;500;400;300;300;400;400\"/>\n<animate attributeName=\"visibility\" dur=\"2.5s\" keyTimes=\"0.0;0.0909090909;0.8181818182;0.9090909091;1.0\" repeatCount=\"indefinite\" values=\"visible;visible;visible;hidden;hidden\"/> </circle>\n<circle class=\"agent\" cx=\"800\" cy=\"-600\" fill=\"#0ea08c\" r=\"35\"> <animate attributeName=\"cy\" dur=\"2.5s\" keyTimes=\"0.0;0.0909090909;0.1818181818;0.2727272727;0.3636363636;0.4545454545;1.0\" repeatCount=\"indefinite\" values=\"-600;-600;-500;-400;-300;-200;-200\"/>\n<animate attributeName=\"cx\" dur=\"2.5s\" keyTimes=\"0.0;0.0909090909;0.4545454545;0.5454545455;1.0\" repeatCount=\"indefinite\" values=\"800;800;800;900;900\"/>\n<animate attributeName=\"visibility\" dur=\"2.5s\" keyTimes=\"0.0;0.0909090909;0.4545454545;0.5454545455;1.0\" repeatCount=\"indefinite\" values=\"visible;visible;visible;hidden;hidden\"/> </circle>\n<circle class=\"agent\" cx=\"700\" cy=\"-900\" fill=\"#8F7B66\" r=\"35\"> <animate attributeName=\"cy\" dur=\"2.5s\" keyTimes=\"0.0;0.0909090909;0.1818181818;0.2727272727;0.3636363636;0.4545454545;0.5454545455;0.6363636364;1.0\" repeatCount=\"indefinite\" values=\"-900;-900;-800;-700;-600;-500;-400;-300;-300\"/>\n<animate attributeName=\"cx\" dur=\"2.5s\" keyTimes=\"0.0;0.0909090909;0.6363636364;0.7272727273;1.0\" repeatCount=\"indefinite\" values=\"700;700;700;600;600\"/>\n<animate attributeName=\"visibility\" dur=\"2.5s\" keyTimes=\"0.0;0.0909090909;0.6363636364;0.7272727273;1.0\" repeatCount=\"indefinite\" values=\"visible;visible;visible;hidden;hidden\"/> </circle>\n<circle class=\"agent\" cx=\"200\" cy=\"-900\" fill=\"#c1433c\" r=\"35\"> <animate attributeName=\"cy\" dur=\"2.5s\" keyTimes=\"0.0;0.0909090909;0.1818181818;1.0\" repeatCount=\"indefinite\" values=\"-900;-900;-800;-800\"/>\n<animate attributeName=\"cx\" dur=\"2.5s\" keyTimes=\"0.0;0.0909090909;1.0\" repeatCount=\"indefinite\" values=\"200;200;200\"/>\n<animate attributeName=\"visibility\" dur=\"2.5s\" keyTimes=\"0.0;0.0909090909;0.1818181818;1.0\" repeatCount=\"indefinite\" values=\"visible;visible;hidden;hidden\"/> </circle>\n<circle class=\"agent\" cx=\"500\" cy=\"-400\" fill=\"#2e6f9e\" r=\"35\"> <animate attributeName=\"cy\" dur=\"2.5s\" keyTimes=\"0.0;0.0909090909;0.3636363636;0.4545454545;0.5454545455;0.8181818182;0.9090909091;1.0\" repeatCount=\"indefinite\" values=\"-400;-400;-400;-500;-600;-600;-700;-700\"/>\n<animate attributeName=\"cx\" dur=\"2.5s\" keyTimes=\"0.0;0.0909090909;0.1818181818;0.2727272727;0.6363636364;0.7272727273;1.0\" repeatCount=\"indefinite\" values=\"500;500;500;600;600;700;700\"/>\n<animate attributeName=\"visibility\" dur=\"2.5s\" keyTimes=\"0.0;0.0909090909;0.8181818182;0.9090909091;1.0\" repeatCount=\"indefinite\" values=\"visible;visible;visible;hidden;hidden\"/> </circle>\n<circle class=\"agent\" cx=\"500\" cy=\"-300\" fill=\"#6e81af\" r=\"35\"> <animate attributeName=\"cy\" dur=\"2.5s\" keyTimes=\"0.0;0.0909090909;0.1818181818;0.2727272727;0.3636363636;0.4545454545;1.0\" repeatCount=\"indefinite\" values=\"-300;-300;-300;-400;-400;-500;-500\"/>\n<animate attributeName=\"cx\" dur=\"2.5s\" keyTimes=\"0.0;0.0909090909;0.1818181818;1.0\" repeatCount=\"indefinite\" values=\"500;500;400;400\"/>\n<animate attributeName=\"visibility\" dur=\"2.5s\" keyTimes=\"0.0;0.0909090909;0.3636363636;0.4545454545;1.0\" repeatCount=\"indefinite\" values=\"visible;visible;visible;hidden;hidden\"/> </circle>\n<circle class=\"target\" cx=\"800\" cy=\"-700\" r=\"35\" stroke=\"#c1433c\"> <animate attributeName=\"visibility\" dur=\"2.5s\" keyTimes=\"0.0;0.0909090909;0.2727272727;0.3636363636;1.0\" repeatCount=\"indefinite\" values=\"visible;visible;visible;hidden;hidden\"/> </circle>\n<circle class=\"target\" cx=\"300\" cy=\"-300\" r=\"35\" stroke=\"#2e6f9e\"> <animate attributeName=\"visibility\" dur=\"2.5s\" keyTimes=\"0.0;0.0909090909;0.4545454545;0.5454545455;1.0\" repeatCount=\"indefinite\" values=\"visible;visible;visible;hidden;hidden\"/> </circle>\n<circle class=\"target\" cx=\"900\" cy=\"-700\" r=\"35\" stroke=\"#6e81af\"> <animate attributeName=\"visibility\" dur=\"2.5s\" keyTimes=\"0.0;0.0909090909;0.8181818182;0.9090909091;1.0\" repeatCount=\"indefinite\" values=\"visible;visible;visible;hidden;hidden\"/> </circle>\n<circle class=\"target\" cx=\"300\" cy=\"-400\" r=\"35\" stroke=\"#00b9c8\"> <animate attributeName=\"visibility\" dur=\"2.5s\" keyTimes=\"0.0;0.0909090909;0.6363636364;0.7272727273;1.0\" repeatCount=\"indefinite\" values=\"visible;visible;visible;hidden;hidden\"/> </circle>\n<circle class=\"target\" cx=\"400\" cy=\"-400\" r=\"35\" stroke=\"#72D5C8\"> <animate attributeName=\"visibility\" dur=\"2.5s\" keyTimes=\"0.0;0.0909090909;0.8181818182;0.9090909091;1.0\" repeatCount=\"indefinite\" values=\"visible;visible;visible;hidden;hidden\"/> </circle>\n<circle class=\"target\" cx=\"900\" cy=\"-200\" r=\"35\" stroke=\"#0ea08c\"> <animate attributeName=\"visibility\" dur=\"2.5s\" keyTimes=\"0.0;0.0909090909;0.4545454545;0.5454545455;1.0\" repeatCount=\"indefinite\" values=\"visible;visible;visible;hidden;hidden\"/> </circle>\n<circle class=\"target\" cx=\"600\" cy=\"-300\" r=\"35\" stroke=\"#8F7B66\"> <animate attributeName=\"visibility\" dur=\"2.5s\" keyTimes=\"0.0;0.0909090909;0.6363636364;0.7272727273;1.0\" repeatCount=\"indefinite\" values=\"visible;visible;visible;hidden;hidden\"/> </circle>\n<circle class=\"target\" cx=\"200\" cy=\"-800\" r=\"35\" stroke=\"#c1433c\"> <animate attributeName=\"visibility\" dur=\"2.5s\" keyTimes=\"0.0;0.0909090909;0.1818181818;1.0\" repeatCount=\"indefinite\" values=\"visible;visible;hidden;hidden\"/> </circle>\n<circle class=\"target\" cx=\"700\" cy=\"-700\" r=\"35\" stroke=\"#2e6f9e\"> <animate attributeName=\"visibility\" dur=\"2.5s\" keyTimes=\"0.0;0.0909090909;0.8181818182;0.9090909091;1.0\" repeatCount=\"indefinite\" values=\"visible;visible;visible;hidden;hidden\"/> </circle>\n<circle class=\"target\" cx=\"400\" cy=\"-500\" r=\"35\" stroke=\"#6e81af\"> <animate attributeName=\"visibility\" dur=\"2.5s\" keyTimes=\"0.0;0.0909090909;0.3636363636;0.4545454545;1.0\" repeatCount=\"indefinite\" values=\"visible;visible;visible;hidden;hidden\"/> </circle>\n</svg>",
            "text/plain": [
              "<IPython.core.display.SVG object>"
            ]
          },
          "metadata": {},
          "output_type": "display_data"
        },
        {
          "data": {
            "image/svg+xml": "<svg xmlns=\"http://www.w3.org/2000/svg\" xmlns:xlink=\"http://www.w3.org/1999/xlink\" width=\"512\" height=\"512\" viewBox=\"0 -1100 1100 1100\">\n<defs>\n\n        <rect id=\"obstacle\" width=\"70\" height=\"70\" fill=\"#84A1AE\" rx=\"15\"/>\n        <style>\n        .line {stroke: #84A1AE; stroke-width: 10;}\n        .agent {r: 35;}\n        .target {fill: none; stroke-width: 10; r: 35;}\n        </style>\n        \n</defs>\n\n<line class=\"line\" x1=\"-50.0\" x2=\"-50.0\" y1=\"0\" y2=\"-1100\"/>\n<line class=\"line\" x1=\"50.0\" x2=\"50.0\" y1=\"0\" y2=\"-1100\"/>\n<line class=\"line\" x1=\"150.0\" x2=\"150.0\" y1=\"0\" y2=\"-1100\"/>\n<line class=\"line\" x1=\"250.0\" x2=\"250.0\" y1=\"0\" y2=\"-1100\"/>\n<line class=\"line\" x1=\"350.0\" x2=\"350.0\" y1=\"0\" y2=\"-1100\"/>\n<line class=\"line\" x1=\"450.0\" x2=\"450.0\" y1=\"0\" y2=\"-1100\"/>\n<line class=\"line\" x1=\"550.0\" x2=\"550.0\" y1=\"0\" y2=\"-1100\"/>\n<line class=\"line\" x1=\"650.0\" x2=\"650.0\" y1=\"0\" y2=\"-1100\"/>\n<line class=\"line\" x1=\"750.0\" x2=\"750.0\" y1=\"0\" y2=\"-1100\"/>\n<line class=\"line\" x1=\"850.0\" x2=\"850.0\" y1=\"0\" y2=\"-1100\"/>\n<line class=\"line\" x1=\"950.0\" x2=\"950.0\" y1=\"0\" y2=\"-1100\"/>\n<line class=\"line\" x1=\"1050.0\" x2=\"1050.0\" y1=\"0\" y2=\"-1100\"/>\n<line class=\"line\" x1=\"0\" x2=\"1100\" y1=\"50.0\" y2=\"50.0\"/>\n<line class=\"line\" x1=\"0\" x2=\"1100\" y1=\"-50.0\" y2=\"-50.0\"/>\n<line class=\"line\" x1=\"0\" x2=\"1100\" y1=\"-150.0\" y2=\"-150.0\"/>\n<line class=\"line\" x1=\"0\" x2=\"1100\" y1=\"-250.0\" y2=\"-250.0\"/>\n<line class=\"line\" x1=\"0\" x2=\"1100\" y1=\"-350.0\" y2=\"-350.0\"/>\n<line class=\"line\" x1=\"0\" x2=\"1100\" y1=\"-450.0\" y2=\"-450.0\"/>\n<line class=\"line\" x1=\"0\" x2=\"1100\" y1=\"-550.0\" y2=\"-550.0\"/>\n<line class=\"line\" x1=\"0\" x2=\"1100\" y1=\"-650.0\" y2=\"-650.0\"/>\n<line class=\"line\" x1=\"0\" x2=\"1100\" y1=\"-750.0\" y2=\"-750.0\"/>\n<line class=\"line\" x1=\"0\" x2=\"1100\" y1=\"-850.0\" y2=\"-850.0\"/>\n<line class=\"line\" x1=\"0\" x2=\"1100\" y1=\"-950.0\" y2=\"-950.0\"/>\n<line class=\"line\" x1=\"0\" x2=\"1100\" y1=\"-1050.0\" y2=\"-1050.0\"/>\n<use href=\"#obstacle\" x=\"65\" y=\"-135\"/>\n<use href=\"#obstacle\" x=\"65\" y=\"-235\"/>\n<use href=\"#obstacle\" x=\"65\" y=\"-335\"/>\n<use href=\"#obstacle\" x=\"65\" y=\"-435\"/>\n<use href=\"#obstacle\" x=\"65\" y=\"-535\"/>\n<use href=\"#obstacle\" x=\"65\" y=\"-635\"/>\n<use href=\"#obstacle\" x=\"65\" y=\"-735\"/>\n<use href=\"#obstacle\" x=\"65\" y=\"-835\"/>\n<use href=\"#obstacle\" x=\"65\" y=\"-935\"/>\n<use href=\"#obstacle\" x=\"65\" y=\"-1035\"/>\n<use href=\"#obstacle\" x=\"165\" y=\"-135\"/>\n<use href=\"#obstacle\" x=\"165\" y=\"-1035\"/>\n<use href=\"#obstacle\" x=\"265\" y=\"-135\"/>\n<use href=\"#obstacle\" x=\"265\" y=\"-1035\"/>\n<use href=\"#obstacle\" x=\"365\" y=\"-135\"/>\n<use href=\"#obstacle\" x=\"365\" y=\"-1035\"/>\n<use href=\"#obstacle\" x=\"465\" y=\"-135\"/>\n<use href=\"#obstacle\" x=\"465\" y=\"-1035\"/>\n<use href=\"#obstacle\" x=\"565\" y=\"-135\"/>\n<use href=\"#obstacle\" x=\"565\" y=\"-1035\"/>\n<use href=\"#obstacle\" x=\"665\" y=\"-135\"/>\n<use href=\"#obstacle\" x=\"665\" y=\"-1035\"/>\n<use href=\"#obstacle\" x=\"765\" y=\"-135\"/>\n<use href=\"#obstacle\" x=\"765\" y=\"-1035\"/>\n<use href=\"#obstacle\" x=\"865\" y=\"-135\"/>\n<use href=\"#obstacle\" x=\"865\" y=\"-1035\"/>\n<use href=\"#obstacle\" x=\"965\" y=\"-135\"/>\n<use href=\"#obstacle\" x=\"965\" y=\"-235\"/>\n<use href=\"#obstacle\" x=\"965\" y=\"-335\"/>\n<use href=\"#obstacle\" x=\"965\" y=\"-435\"/>\n<use href=\"#obstacle\" x=\"965\" y=\"-535\"/>\n<use href=\"#obstacle\" x=\"965\" y=\"-635\"/>\n<use href=\"#obstacle\" x=\"965\" y=\"-735\"/>\n<use href=\"#obstacle\" x=\"965\" y=\"-835\"/>\n<use href=\"#obstacle\" x=\"965\" y=\"-935\"/>\n<use href=\"#obstacle\" x=\"965\" y=\"-1035\"/>\n<circle class=\"agent\" cx=\"700\" cy=\"-900\" fill=\"#c1433c\" r=\"35\"> <animate attributeName=\"cy\" dur=\"7.5s\" keyTimes=\"0.0;0.0322580645;0.064516129;0.0967741935;1.0\" repeatCount=\"indefinite\" values=\"-900;-900;-800;-700;-700\"/>\n<animate attributeName=\"cx\" dur=\"7.5s\" keyTimes=\"0.0;0.0322580645;0.0967741935;0.1290322581;0.1612903226;1.0\" repeatCount=\"indefinite\" values=\"700;700;700;600;500;500\"/>\n<animate attributeName=\"visibility\" dur=\"7.5s\" keyTimes=\"0.0;0.0322580645;0.1290322581;0.1612903226;1.0\" repeatCount=\"indefinite\" values=\"visible;visible;visible;hidden;hidden\"/> </circle>\n<circle class=\"agent\" cx=\"500\" cy=\"-500\" fill=\"#2e6f9e\" r=\"35\"> <animate attributeName=\"cy\" dur=\"7.5s\" keyTimes=\"0.0;0.0322580645;0.064516129;0.0967741935;0.1290322581;0.1612903226;0.1935483871;0.2258064516;0.2580645161;0.2903225806;1.0\" repeatCount=\"indefinite\" values=\"-500;-500;-500;-600;-600;-500;-500;-600;-600;-700;-700\"/>\n<animate attributeName=\"cx\" dur=\"7.5s\" keyTimes=\"0.0;0.0322580645;0.064516129;0.1612903226;0.1935483871;0.2258064516;0.2580645161;1.0\" repeatCount=\"indefinite\" values=\"500;500;400;400;300;300;200;200\"/>\n<animate attributeName=\"visibility\" dur=\"7.5s\" keyTimes=\"0.0;0.0322580645;0.2580645161;0.2903225806;1.0\" repeatCount=\"indefinite\" values=\"visible;visible;visible;hidden;hidden\"/> </circle>\n<circle class=\"agent\" cx=\"200\" cy=\"-500\" fill=\"#6e81af\" r=\"35\"> <animate attributeName=\"cy\" dur=\"7.5s\" keyTimes=\"0.0;0.0322580645;0.064516129;0.0967741935;0.2258064516;0.2580645161;1.0\" repeatCount=\"indefinite\" values=\"-500;-500;-600;-700;-700;-800;-800\"/>\n<animate attributeName=\"cx\" dur=\"7.5s\" keyTimes=\"0.0;0.0322580645;0.0967741935;0.1290322581;0.1612903226;0.1935483871;0.2580645161;0.2903225806;1.0\" repeatCount=\"indefinite\" values=\"200;200;200;300;400;500;500;600;600\"/>\n<animate attributeName=\"visibility\" dur=\"7.5s\" keyTimes=\"0.0;0.0322580645;0.2580645161;0.2903225806;1.0\" repeatCount=\"indefinite\" values=\"visible;visible;visible;hidden;hidden\"/> </circle>\n<circle class=\"agent\" cx=\"300\" cy=\"-400\" fill=\"#00b9c8\" r=\"35\"> <animate attributeName=\"cy\" dur=\"7.5s\" keyTimes=\"0.0;0.0322580645;0.064516129;0.0967741935;0.1612903226;0.1935483871;0.3548387097;0.3870967742;1.0\" repeatCount=\"indefinite\" values=\"-400;-400;-500;-600;-600;-700;-700;-600;-600\"/>\n<animate attributeName=\"cx\" dur=\"7.5s\" keyTimes=\"0.0;0.0322580645;0.2258064516;0.2580645161;0.2903225806;0.3225806452;1.0\" repeatCount=\"indefinite\" values=\"300;300;300;400;500;600;600\"/>\n<animate attributeName=\"visibility\" dur=\"7.5s\" keyTimes=\"0.0;0.0322580645;0.3548387097;0.3870967742;1.0\" repeatCount=\"indefinite\" values=\"visible;visible;visible;hidden;hidden\"/> </circle>\n<circle class=\"agent\" cx=\"900\" cy=\"-600\" fill=\"#72D5C8\" r=\"35\"> <animate attributeName=\"cy\" dur=\"7.5s\" keyTimes=\"0.0;0.0322580645;0.064516129;0.0967741935;1.0\" repeatCount=\"indefinite\" values=\"-600;-600;-700;-800;-800\"/>\n<animate attributeName=\"cx\" dur=\"7.5s\" keyTimes=\"0.0;0.0322580645;0.0967741935;0.1290322581;1.0\" repeatCount=\"indefinite\" values=\"900;900;900;800;800\"/>\n<animate attributeName=\"visibility\" dur=\"7.5s\" keyTimes=\"0.0;0.0322580645;0.0967741935;0.1290322581;1.0\" repeatCount=\"indefinite\" values=\"visible;visible;visible;hidden;hidden\"/> </circle>\n<circle class=\"agent\" cx=\"300\" cy=\"-700\" fill=\"#0ea08c\" r=\"35\"> <animate attributeName=\"cy\" dur=\"7.5s\" keyTimes=\"0.0;0.0322580645;0.064516129;1.0\" repeatCount=\"indefinite\" values=\"-700;-700;-800;-800\"/>\n<animate attributeName=\"cx\" dur=\"7.5s\" keyTimes=\"0.0;0.0322580645;0.0967741935;0.1290322581;0.1612903226;0.1935483871;0.2258064516;1.0\" repeatCount=\"indefinite\" values=\"300;300;300;400;500;600;700;700\"/>\n<animate attributeName=\"visibility\" dur=\"7.5s\" keyTimes=\"0.0;0.0322580645;0.1935483871;0.2258064516;1.0\" repeatCount=\"indefinite\" values=\"visible;visible;visible;hidden;hidden\"/> </circle>\n<circle class=\"agent\" cx=\"300\" cy=\"-300\" fill=\"#8F7B66\" r=\"35\"> <animate attributeName=\"cy\" dur=\"7.5s\" keyTimes=\"0.0;0.0322580645;0.064516129;0.0967741935;0.1290322581;0.1612903226;0.1935483871;0.2258064516;0.2580645161;0.2903225806;0.3225806452;0.3548387097;0.3870967742;0.4193548387;0.4516129032;0.4838709677;0.5161290323;0.5483870968;0.5806451613;0.6129032258;0.6451612903;0.6774193548;0.7096774194;0.7419354839;0.7741935484;0.8064516129;0.8387096774;0.9032258065;0.935483871;1.0\" repeatCount=\"indefinite\" values=\"-300;-300;-300;-400;-300;-400;-300;-400;-300;-400;-500;-400;-300;-400;-300;-400;-300;-400;-300;-300;-400;-400;-300;-400;-300;-400;-300;-300;-400;-400\"/>\n<animate attributeName=\"cx\" dur=\"7.5s\" keyTimes=\"0.0;0.0322580645;0.064516129;0.5806451613;0.6129032258;0.6451612903;0.6774193548;0.8387096774;0.8709677419;0.9032258065;0.935483871;0.9677419355;1.0\" repeatCount=\"indefinite\" values=\"300;300;400;400;300;300;400;400;500;600;600;700;700\"/>\n<animate attributeName=\"visibility\" dur=\"7.5s\" keyTimes=\"0.0;0.0322580645;0.935483871;0.9677419355;1.0\" repeatCount=\"indefinite\" values=\"visible;visible;visible;hidden;hidden\"/> </circle>\n<circle class=\"agent\" cx=\"500\" cy=\"-300\" fill=\"#c1433c\" r=\"35\"> <animate attributeName=\"cy\" dur=\"7.5s\" keyTimes=\"0.0;0.0322580645;0.064516129;0.0967741935;0.1290322581;0.1612903226;0.1935483871;0.2258064516;0.2580645161;0.2903225806;0.3225806452;0.3548387097;0.3870967742;0.4193548387;0.4516129032;0.4838709677;0.5161290323;0.5483870968;0.5806451613;0.6129032258;0.6451612903;0.6774193548;0.7096774194;0.7419354839;0.7741935484;0.8064516129;1.0\" repeatCount=\"indefinite\" values=\"-300;-300;-300;-400;-300;-400;-300;-400;-500;-400;-500;-400;-500;-400;-300;-400;-300;-400;-300;-300;-400;-400;-300;-400;-500;-400;-400\"/>\n<animate attributeName=\"cx\" dur=\"7.5s\" keyTimes=\"0.0;0.0322580645;0.5806451613;0.6129032258;0.6451612903;0.6774193548;0.8064516129;0.8387096774;0.8709677419;0.9032258065;0.935483871;0.9677419355;1.0\" repeatCount=\"indefinite\" values=\"500;500;500;600;600;500;500;600;500;400;300;200;200\"/>\n<animate attributeName=\"visibility\" dur=\"7.5s\" keyTimes=\"0.0;0.0322580645;0.935483871;0.9677419355;1.0\" repeatCount=\"indefinite\" values=\"visible;visible;visible;hidden;hidden\"/> </circle>\n<circle class=\"agent\" cx=\"700\" cy=\"-500\" fill=\"#2e6f9e\" r=\"35\"> <animate attributeName=\"cy\" dur=\"7.5s\" keyTimes=\"0.0;0.0322580645;0.064516129;0.3548387097;0.3870967742;0.4193548387;0.4516129032;1.0\" repeatCount=\"indefinite\" values=\"-500;-500;-600;-600;-700;-800;-900;-900\"/>\n<animate attributeName=\"cx\" dur=\"7.5s\" keyTimes=\"0.0;0.0322580645;0.0967741935;0.1290322581;0.1612903226;0.1935483871;0.2258064516;0.2580645161;0.2903225806;0.3225806452;0.3548387097;0.4516129032;0.4838709677;1.0\" repeatCount=\"indefinite\" values=\"700;700;700;600;500;500;400;400;500;600;500;500;600;600\"/>\n<animate attributeName=\"visibility\" dur=\"7.5s\" keyTimes=\"0.0;0.0322580645;0.4516129032;0.4838709677;1.0\" repeatCount=\"indefinite\" values=\"visible;visible;visible;hidden;hidden\"/> </circle>\n<circle class=\"agent\" cx=\"900\" cy=\"-200\" fill=\"#6e81af\" r=\"35\"> <animate attributeName=\"cy\" dur=\"7.5s\" keyTimes=\"0.0;0.0322580645;0.0967741935;0.1290322581;0.1935483871;0.2258064516;0.2580645161;1.0\" repeatCount=\"indefinite\" values=\"-200;-200;-200;-300;-300;-400;-300;-300\"/>\n<animate attributeName=\"cx\" dur=\"7.5s\" keyTimes=\"0.0;0.0322580645;0.064516129;0.0967741935;0.1290322581;0.1612903226;0.2580645161;0.2903225806;0.3225806452;0.3548387097;0.3870967742;1.0\" repeatCount=\"indefinite\" values=\"900;900;800;700;700;600;600;500;400;300;200;200\"/>\n<animate attributeName=\"visibility\" dur=\"7.5s\" keyTimes=\"0.0;0.0322580645;0.3548387097;0.3870967742;1.0\" repeatCount=\"indefinite\" values=\"visible;visible;visible;hidden;hidden\"/> </circle>\n<circle class=\"target\" cx=\"500\" cy=\"-700\" r=\"35\" stroke=\"#c1433c\"> <animate attributeName=\"visibility\" dur=\"7.5s\" keyTimes=\"0.0;0.0322580645;0.1290322581;0.1612903226;1.0\" repeatCount=\"indefinite\" values=\"visible;visible;visible;hidden;hidden\"/> </circle>\n<circle class=\"target\" cx=\"200\" cy=\"-700\" r=\"35\" stroke=\"#2e6f9e\"> <animate attributeName=\"visibility\" dur=\"7.5s\" keyTimes=\"0.0;0.0322580645;0.2580645161;0.2903225806;1.0\" repeatCount=\"indefinite\" values=\"visible;visible;visible;hidden;hidden\"/> </circle>\n<circle class=\"target\" cx=\"600\" cy=\"-800\" r=\"35\" stroke=\"#6e81af\"> <animate attributeName=\"visibility\" dur=\"7.5s\" keyTimes=\"0.0;0.0322580645;0.2580645161;0.2903225806;1.0\" repeatCount=\"indefinite\" values=\"visible;visible;visible;hidden;hidden\"/> </circle>\n<circle class=\"target\" cx=\"600\" cy=\"-600\" r=\"35\" stroke=\"#00b9c8\"> <animate attributeName=\"visibility\" dur=\"7.5s\" keyTimes=\"0.0;0.0322580645;0.3548387097;0.3870967742;1.0\" repeatCount=\"indefinite\" values=\"visible;visible;visible;hidden;hidden\"/> </circle>\n<circle class=\"target\" cx=\"800\" cy=\"-800\" r=\"35\" stroke=\"#72D5C8\"> <animate attributeName=\"visibility\" dur=\"7.5s\" keyTimes=\"0.0;0.0322580645;0.0967741935;0.1290322581;1.0\" repeatCount=\"indefinite\" values=\"visible;visible;visible;hidden;hidden\"/> </circle>\n<circle class=\"target\" cx=\"700\" cy=\"-800\" r=\"35\" stroke=\"#0ea08c\"> <animate attributeName=\"visibility\" dur=\"7.5s\" keyTimes=\"0.0;0.0322580645;0.1935483871;0.2258064516;1.0\" repeatCount=\"indefinite\" values=\"visible;visible;visible;hidden;hidden\"/> </circle>\n<circle class=\"target\" cx=\"700\" cy=\"-400\" r=\"35\" stroke=\"#8F7B66\"> <animate attributeName=\"visibility\" dur=\"7.5s\" keyTimes=\"0.0;0.0322580645;0.935483871;0.9677419355;1.0\" repeatCount=\"indefinite\" values=\"visible;visible;visible;hidden;hidden\"/> </circle>\n<circle class=\"target\" cx=\"200\" cy=\"-400\" r=\"35\" stroke=\"#c1433c\"> <animate attributeName=\"visibility\" dur=\"7.5s\" keyTimes=\"0.0;0.0322580645;0.935483871;0.9677419355;1.0\" repeatCount=\"indefinite\" values=\"visible;visible;visible;hidden;hidden\"/> </circle>\n<circle class=\"target\" cx=\"600\" cy=\"-900\" r=\"35\" stroke=\"#2e6f9e\"> <animate attributeName=\"visibility\" dur=\"7.5s\" keyTimes=\"0.0;0.0322580645;0.4516129032;0.4838709677;1.0\" repeatCount=\"indefinite\" values=\"visible;visible;visible;hidden;hidden\"/> </circle>\n<circle class=\"target\" cx=\"200\" cy=\"-300\" r=\"35\" stroke=\"#6e81af\"> <animate attributeName=\"visibility\" dur=\"7.5s\" keyTimes=\"0.0;0.0322580645;0.3548387097;0.3870967742;1.0\" repeatCount=\"indefinite\" values=\"visible;visible;visible;hidden;hidden\"/> </circle>\n</svg>",
            "text/plain": [
              "<IPython.core.display.SVG object>"
            ]
          },
          "metadata": {},
          "output_type": "display_data"
        }
      ],
      "source": [
        "display(SVG(files[0]))\n",
        "display(SVG(files[7]))"
      ]
    },
    {
      "cell_type": "markdown",
      "metadata": {
        "id": "DGeuoidmU-b8"
      },
      "source": [
        "**Your observations here:**"
      ]
    },
    {
      "cell_type": "markdown",
      "metadata": {
        "id": "zjqf2fbaU-b8"
      },
      "source": [
        "## Experiments"
      ]
    },
    {
      "cell_type": "markdown",
      "metadata": {
        "id": "lgokrzoVU-b9"
      },
      "source": [
        "To compare three conflict resolution techniques: `SimpleAStarPolicy` (which involves no resolution), `EpsGreedyPolicy` (undertaking a random action with a fixed probability), and `HistoryBasedPolicy` (storing the last N positions), let's create maps with varying system configurations.\n"
      ]
    },
    {
      "cell_type": "code",
      "execution_count": null,
      "metadata": {
        "id": "_TyYJK7m4GVS"
      },
      "outputs": [],
      "source": [
        "CONFIGURATIONS = [\n",
        "    {\"num_agents\": 10, \"size\": 8, \"density\": 0.0, \"total_runs\": 100},\n",
        "    {\"num_agents\": 20, \"size\": 8, \"density\": 0.0, \"total_runs\": 100},\n",
        "    {\"num_agents\": 30, \"size\": 8, \"density\": 0.0, \"total_runs\": 100},\n",
        "    {\"num_agents\": 10, \"size\": 8, \"density\": 0.1, \"total_runs\": 100},\n",
        "    {\"num_agents\": 20, \"size\": 8, \"density\": 0.1, \"total_runs\": 100},\n",
        "    {\"num_agents\": 10, \"size\": 8, \"density\": 0.2, \"total_runs\": 100},\n",
        "    {\"num_agents\": 30, \"size\": 16, \"density\": 0.0, \"total_runs\": 5},\n",
        "    {\"num_agents\": 30, \"size\": 16, \"density\": 0.2, \"total_runs\": 5},\n",
        "    {\"num_agents\": 30, \"size\": 16, \"density\": 0.4, \"total_runs\": 5},\n",
        "]\n",
        "\n",
        "POLICIES = [\n",
        "    {\"policy_cls\": SimpleAStarPolicy},\n",
        "    {\"policy_cls\": EpsGreedyPolicy, \"eps\": 0.2},\n",
        "    {\"policy_cls\": HistoryBasedPolicy, \"history_len\": 2},\n",
        "]"
      ]
    },
    {
      "cell_type": "code",
      "execution_count": null,
      "metadata": {
        "id": "kkqXU0Ko_50Z"
      },
      "outputs": [],
      "source": [
        "# helper functions and variables to better display the results of the experiment\n",
        "def key(d):\n",
        "    return \"_\".join(\n",
        "        f\"{k}={v if not inspect.isclass(v) else v.__name__}\" for k, v in d.items()\n",
        "    )\n",
        "\n",
        "\n",
        "config_keys = [key(config) for config in CONFIGURATIONS]\n",
        "policy_keys = [key(policy) for policy in POLICIES]\n",
        "\n",
        "dataframes = defaultdict(lambda: pd.DataFrame(index=config_keys, columns=policy_keys))"
      ]
    },
    {
      "cell_type": "code",
      "execution_count": null,
      "metadata": {
        "colab": {
          "base_uri": "https://localhost:8080/"
        },
        "id": "8eOxFV1zU-b9",
        "outputId": "a82bb44b-e2b1-4ed1-b399-0e5dcaa0480c"
      },
      "outputs": [
        {
          "name": "stdout",
          "output_type": "stream",
          "text": [
            "Total configurations: 27\n",
            "Example of a single configuration: ({'num_agents': 10, 'size': 8, 'density': 0.0, 'total_runs': 100}, {'policy_cls': <class '__main__.SimpleAStarPolicy'>})\n"
          ]
        }
      ],
      "source": [
        "config_policy_pairs = list(product(CONFIGURATIONS, POLICIES))\n",
        "print(f\"Total configurations: {len(config_policy_pairs)}\")\n",
        "print(f\"Example of a single configuration: {config_policy_pairs[0]}\")"
      ]
    },
    {
      "cell_type": "code",
      "execution_count": null,
      "metadata": {
        "id": "8i7Gmpj5U-b9"
      },
      "outputs": [],
      "source": [
        "def process_config_policy_pair(configuration, policy):\n",
        "    \"\"\"\n",
        "    Processes a given configuration and policy pair by running the policy and computing average metrics.\n",
        "\n",
        "    This function runs the specified policy with the given configuration, collects the metrics,\n",
        "    and processes these metrics to compute their mean values. It also prints a message upon completion\n",
        "    of processing each pair.\n",
        "\n",
        "    Args:\n",
        "    - configuration: dict, the configuration settings for the run.\n",
        "    - policy: dict, the policy settings to be applied.\n",
        "\n",
        "    Returns:\n",
        "    - dict, processed data containing the mean values of metrics for the given configuration and policy.\n",
        "    \"\"\"\n",
        "    metrics, files = run_policy(iterations_per_run=3, use_status_bar=False, **configuration, **policy)\n",
        "    processed_data = {}\n",
        "    for metric in metrics:\n",
        "        processed_data[(key(configuration), key(policy), metric)] = np.mean(metrics[metric])\n",
        "    print(f\"Processed: {key(configuration)}, {key(policy)}\")\n",
        "    return processed_data"
      ]
    },
    {
      "cell_type": "markdown",
      "metadata": {
        "id": "v5ekyG0DU-b9"
      },
      "source": [
        "When working with a large number of configuration and policy combinations, processing each pair sequentially can be very time-consuming. Parallelization allows multiple pairs to be processed simultaneously, significantly reducing the overall computation time."
      ]
    },
    {
      "cell_type": "code",
      "execution_count": null,
      "metadata": {
        "colab": {
          "background_save": true,
          "base_uri": "https://localhost:8080/"
        },
        "id": "rhFUDilYU-b-",
        "outputId": "34a57cd0-9eda-4f54-96e9-5a04a51f44a0"
      },
      "outputs": [
        {
          "name": "stderr",
          "output_type": "stream",
          "text": [
            "[Parallel(n_jobs=-1)]: Using backend LokyBackend with 2 concurrent workers.\n",
            "[Parallel(n_jobs=-1)]: Done   1 tasks      | elapsed:   48.7s\n",
            "[Parallel(n_jobs=-1)]: Done   4 tasks      | elapsed:  3.5min\n",
            "[Parallel(n_jobs=-1)]: Done   9 tasks      | elapsed: 11.3min\n",
            "[Parallel(n_jobs=-1)]: Done  14 tasks      | elapsed: 16.0min\n"
          ]
        }
      ],
      "source": [
        "# call `process_config_policy_pair` for each pair from `config_policy_pairs` in parallel\n",
        "results = Parallel(n_jobs=-1, verbose=10)(\n",
        "    delayed(process_config_policy_pair)(*pair) for pair in config_policy_pairs\n",
        ")\n",
        "\n",
        "for result in results:\n",
        "    for (config_key, policy_key, metric_key), value in result.items():\n",
        "        dataframes[metric_key].loc[config_key, policy_key] = value * 100"
      ]
    },
    {
      "cell_type": "code",
      "execution_count": null,
      "metadata": {
        "id": "PvoOZWT8U-b-"
      },
      "outputs": [],
      "source": [
        "def highlight_max(s):\n",
        "    is_max = s == s.max()\n",
        "    return [\"background-color: cadetblue; color: white; font-weight: bold;\" if v else \"\" for v in is_max]\n",
        "\n",
        "for metric in dataframes:\n",
        "    if metric in (\"ISR\", \"CSR\"):\n",
        "        display(HTML(f\"<h3>{metric}</h3>\"))\n",
        "        display(dataframes[metric].style.apply(highlight_max, axis=1))"
      ]
    },
    {
      "cell_type": "markdown",
      "metadata": {
        "id": "jFBQfwBPU-b-"
      },
      "source": [
        "### Analyze the Results\n",
        "*Your text here*"
      ]
    }
  ],
  "metadata": {
    "colab": {
      "provenance": []
    },
    "kernelspec": {
      "display_name": "Python 3",
      "language": "python",
      "name": "python3"
    },
    "language_info": {
      "codemirror_mode": {
        "name": "ipython",
        "version": 3
      },
      "file_extension": ".py",
      "mimetype": "text/x-python",
      "name": "python",
      "nbconvert_exporter": "python",
      "pygments_lexer": "ipython3",
      "version": "3.10.12"
    },
    "widgets": {
      "application/vnd.jupyter.widget-state+json": {
        "04060baaee6d4ba7a7c7ddf7ecdc4f42": {
          "model_module": "@jupyter-widgets/controls",
          "model_module_version": "1.5.0",
          "model_name": "DescriptionStyleModel",
          "state": {
            "_model_module": "@jupyter-widgets/controls",
            "_model_module_version": "1.5.0",
            "_model_name": "DescriptionStyleModel",
            "_view_count": null,
            "_view_module": "@jupyter-widgets/base",
            "_view_module_version": "1.2.0",
            "_view_name": "StyleView",
            "description_width": ""
          }
        },
        "0696bedc441346268e08b3d635ec525d": {
          "model_module": "@jupyter-widgets/controls",
          "model_module_version": "1.5.0",
          "model_name": "DescriptionStyleModel",
          "state": {
            "_model_module": "@jupyter-widgets/controls",
            "_model_module_version": "1.5.0",
            "_model_name": "DescriptionStyleModel",
            "_view_count": null,
            "_view_module": "@jupyter-widgets/base",
            "_view_module_version": "1.2.0",
            "_view_name": "StyleView",
            "description_width": ""
          }
        },
        "17c387fc98324a1a91f60fb202253a37": {
          "model_module": "@jupyter-widgets/base",
          "model_module_version": "1.2.0",
          "model_name": "LayoutModel",
          "state": {
            "_model_module": "@jupyter-widgets/base",
            "_model_module_version": "1.2.0",
            "_model_name": "LayoutModel",
            "_view_count": null,
            "_view_module": "@jupyter-widgets/base",
            "_view_module_version": "1.2.0",
            "_view_name": "LayoutView",
            "align_content": null,
            "align_items": null,
            "align_self": null,
            "border": null,
            "bottom": null,
            "display": null,
            "flex": null,
            "flex_flow": null,
            "grid_area": null,
            "grid_auto_columns": null,
            "grid_auto_flow": null,
            "grid_auto_rows": null,
            "grid_column": null,
            "grid_gap": null,
            "grid_row": null,
            "grid_template_areas": null,
            "grid_template_columns": null,
            "grid_template_rows": null,
            "height": null,
            "justify_content": null,
            "justify_items": null,
            "left": null,
            "margin": null,
            "max_height": null,
            "max_width": null,
            "min_height": null,
            "min_width": null,
            "object_fit": null,
            "object_position": null,
            "order": null,
            "overflow": null,
            "overflow_x": null,
            "overflow_y": null,
            "padding": null,
            "right": null,
            "top": null,
            "visibility": null,
            "width": null
          }
        },
        "33a124dfd8c146018d2c6c6c0f1df07d": {
          "model_module": "@jupyter-widgets/controls",
          "model_module_version": "1.5.0",
          "model_name": "HTMLModel",
          "state": {
            "_dom_classes": [],
            "_model_module": "@jupyter-widgets/controls",
            "_model_module_version": "1.5.0",
            "_model_name": "HTMLModel",
            "_view_count": null,
            "_view_module": "@jupyter-widgets/controls",
            "_view_module_version": "1.5.0",
            "_view_name": "HTMLView",
            "description": "",
            "description_tooltip": null,
            "layout": "IPY_MODEL_953b11c49ed940a88e2a80509f601f93",
            "placeholder": "​",
            "style": "IPY_MODEL_49609df2a5c946ff8bc3bc50d768ca5e",
            "value": " 100/100 [00:15&lt;00:00, 13.25it/s]"
          }
        },
        "3b341ee5eedd483abffab3c716884581": {
          "model_module": "@jupyter-widgets/controls",
          "model_module_version": "1.5.0",
          "model_name": "HBoxModel",
          "state": {
            "_dom_classes": [],
            "_model_module": "@jupyter-widgets/controls",
            "_model_module_version": "1.5.0",
            "_model_name": "HBoxModel",
            "_view_count": null,
            "_view_module": "@jupyter-widgets/controls",
            "_view_module_version": "1.5.0",
            "_view_name": "HBoxView",
            "box_style": "",
            "children": [
              "IPY_MODEL_409ac050339e49aab1e211110badd10d",
              "IPY_MODEL_7632ecd7d1174bce8627e19ebbaed59a",
              "IPY_MODEL_33a124dfd8c146018d2c6c6c0f1df07d"
            ],
            "layout": "IPY_MODEL_a7e5b02c18374508accc7b356b2fa188"
          }
        },
        "409ac050339e49aab1e211110badd10d": {
          "model_module": "@jupyter-widgets/controls",
          "model_module_version": "1.5.0",
          "model_name": "HTMLModel",
          "state": {
            "_dom_classes": [],
            "_model_module": "@jupyter-widgets/controls",
            "_model_module_version": "1.5.0",
            "_model_name": "HTMLModel",
            "_view_count": null,
            "_view_module": "@jupyter-widgets/controls",
            "_view_module_version": "1.5.0",
            "_view_name": "HTMLView",
            "description": "",
            "description_tooltip": null,
            "layout": "IPY_MODEL_d92ee180d2b7459c9aad25b2064db339",
            "placeholder": "​",
            "style": "IPY_MODEL_b1a845c366374d8c9d2b6565985844eb",
            "value": "100%"
          }
        },
        "49609df2a5c946ff8bc3bc50d768ca5e": {
          "model_module": "@jupyter-widgets/controls",
          "model_module_version": "1.5.0",
          "model_name": "DescriptionStyleModel",
          "state": {
            "_model_module": "@jupyter-widgets/controls",
            "_model_module_version": "1.5.0",
            "_model_name": "DescriptionStyleModel",
            "_view_count": null,
            "_view_module": "@jupyter-widgets/base",
            "_view_module_version": "1.2.0",
            "_view_name": "StyleView",
            "description_width": ""
          }
        },
        "4e3ee433c0aa4535a0f3e57dece5814a": {
          "model_module": "@jupyter-widgets/base",
          "model_module_version": "1.2.0",
          "model_name": "LayoutModel",
          "state": {
            "_model_module": "@jupyter-widgets/base",
            "_model_module_version": "1.2.0",
            "_model_name": "LayoutModel",
            "_view_count": null,
            "_view_module": "@jupyter-widgets/base",
            "_view_module_version": "1.2.0",
            "_view_name": "LayoutView",
            "align_content": null,
            "align_items": null,
            "align_self": null,
            "border": null,
            "bottom": null,
            "display": null,
            "flex": null,
            "flex_flow": null,
            "grid_area": null,
            "grid_auto_columns": null,
            "grid_auto_flow": null,
            "grid_auto_rows": null,
            "grid_column": null,
            "grid_gap": null,
            "grid_row": null,
            "grid_template_areas": null,
            "grid_template_columns": null,
            "grid_template_rows": null,
            "height": null,
            "justify_content": null,
            "justify_items": null,
            "left": null,
            "margin": null,
            "max_height": null,
            "max_width": null,
            "min_height": null,
            "min_width": null,
            "object_fit": null,
            "object_position": null,
            "order": null,
            "overflow": null,
            "overflow_x": null,
            "overflow_y": null,
            "padding": null,
            "right": null,
            "top": null,
            "visibility": null,
            "width": null
          }
        },
        "554939e0bc0d401ebe2f02b349ee0bb2": {
          "model_module": "@jupyter-widgets/controls",
          "model_module_version": "1.5.0",
          "model_name": "HTMLModel",
          "state": {
            "_dom_classes": [],
            "_model_module": "@jupyter-widgets/controls",
            "_model_module_version": "1.5.0",
            "_model_name": "HTMLModel",
            "_view_count": null,
            "_view_module": "@jupyter-widgets/controls",
            "_view_module_version": "1.5.0",
            "_view_name": "HTMLView",
            "description": "",
            "description_tooltip": null,
            "layout": "IPY_MODEL_4e3ee433c0aa4535a0f3e57dece5814a",
            "placeholder": "​",
            "style": "IPY_MODEL_04060baaee6d4ba7a7c7ddf7ecdc4f42",
            "value": "100%"
          }
        },
        "5aa39411fe4b432db3b8647715bb1246": {
          "model_module": "@jupyter-widgets/controls",
          "model_module_version": "1.5.0",
          "model_name": "ProgressStyleModel",
          "state": {
            "_model_module": "@jupyter-widgets/controls",
            "_model_module_version": "1.5.0",
            "_model_name": "ProgressStyleModel",
            "_view_count": null,
            "_view_module": "@jupyter-widgets/base",
            "_view_module_version": "1.2.0",
            "_view_name": "StyleView",
            "bar_color": null,
            "description_width": ""
          }
        },
        "63cff88423c44242a5d1edea71806fdd": {
          "model_module": "@jupyter-widgets/base",
          "model_module_version": "1.2.0",
          "model_name": "LayoutModel",
          "state": {
            "_model_module": "@jupyter-widgets/base",
            "_model_module_version": "1.2.0",
            "_model_name": "LayoutModel",
            "_view_count": null,
            "_view_module": "@jupyter-widgets/base",
            "_view_module_version": "1.2.0",
            "_view_name": "LayoutView",
            "align_content": null,
            "align_items": null,
            "align_self": null,
            "border": null,
            "bottom": null,
            "display": null,
            "flex": null,
            "flex_flow": null,
            "grid_area": null,
            "grid_auto_columns": null,
            "grid_auto_flow": null,
            "grid_auto_rows": null,
            "grid_column": null,
            "grid_gap": null,
            "grid_row": null,
            "grid_template_areas": null,
            "grid_template_columns": null,
            "grid_template_rows": null,
            "height": null,
            "justify_content": null,
            "justify_items": null,
            "left": null,
            "margin": null,
            "max_height": null,
            "max_width": null,
            "min_height": null,
            "min_width": null,
            "object_fit": null,
            "object_position": null,
            "order": null,
            "overflow": null,
            "overflow_x": null,
            "overflow_y": null,
            "padding": null,
            "right": null,
            "top": null,
            "visibility": null,
            "width": null
          }
        },
        "7632ecd7d1174bce8627e19ebbaed59a": {
          "model_module": "@jupyter-widgets/controls",
          "model_module_version": "1.5.0",
          "model_name": "FloatProgressModel",
          "state": {
            "_dom_classes": [],
            "_model_module": "@jupyter-widgets/controls",
            "_model_module_version": "1.5.0",
            "_model_name": "FloatProgressModel",
            "_view_count": null,
            "_view_module": "@jupyter-widgets/controls",
            "_view_module_version": "1.5.0",
            "_view_name": "ProgressView",
            "bar_style": "success",
            "description": "",
            "description_tooltip": null,
            "layout": "IPY_MODEL_c952f4076a4041e9a8fdbb84589031e8",
            "max": 100,
            "min": 0,
            "orientation": "horizontal",
            "style": "IPY_MODEL_d2a64abc0bfa49f9a42aee44cbb9425c",
            "value": 100
          }
        },
        "7d279525cc4d4b51a7b989fe3ff954ad": {
          "model_module": "@jupyter-widgets/controls",
          "model_module_version": "1.5.0",
          "model_name": "DescriptionStyleModel",
          "state": {
            "_model_module": "@jupyter-widgets/controls",
            "_model_module_version": "1.5.0",
            "_model_name": "DescriptionStyleModel",
            "_view_count": null,
            "_view_module": "@jupyter-widgets/base",
            "_view_module_version": "1.2.0",
            "_view_name": "StyleView",
            "description_width": ""
          }
        },
        "7f1b134f53624cabb06a9c2d4d023cf1": {
          "model_module": "@jupyter-widgets/base",
          "model_module_version": "1.2.0",
          "model_name": "LayoutModel",
          "state": {
            "_model_module": "@jupyter-widgets/base",
            "_model_module_version": "1.2.0",
            "_model_name": "LayoutModel",
            "_view_count": null,
            "_view_module": "@jupyter-widgets/base",
            "_view_module_version": "1.2.0",
            "_view_name": "LayoutView",
            "align_content": null,
            "align_items": null,
            "align_self": null,
            "border": null,
            "bottom": null,
            "display": null,
            "flex": null,
            "flex_flow": null,
            "grid_area": null,
            "grid_auto_columns": null,
            "grid_auto_flow": null,
            "grid_auto_rows": null,
            "grid_column": null,
            "grid_gap": null,
            "grid_row": null,
            "grid_template_areas": null,
            "grid_template_columns": null,
            "grid_template_rows": null,
            "height": null,
            "justify_content": null,
            "justify_items": null,
            "left": null,
            "margin": null,
            "max_height": null,
            "max_width": null,
            "min_height": null,
            "min_width": null,
            "object_fit": null,
            "object_position": null,
            "order": null,
            "overflow": null,
            "overflow_x": null,
            "overflow_y": null,
            "padding": null,
            "right": null,
            "top": null,
            "visibility": null,
            "width": null
          }
        },
        "839108781be64b14be6364a218bd2bca": {
          "model_module": "@jupyter-widgets/controls",
          "model_module_version": "1.5.0",
          "model_name": "HTMLModel",
          "state": {
            "_dom_classes": [],
            "_model_module": "@jupyter-widgets/controls",
            "_model_module_version": "1.5.0",
            "_model_name": "HTMLModel",
            "_view_count": null,
            "_view_module": "@jupyter-widgets/controls",
            "_view_module_version": "1.5.0",
            "_view_name": "HTMLView",
            "description": "",
            "description_tooltip": null,
            "layout": "IPY_MODEL_7f1b134f53624cabb06a9c2d4d023cf1",
            "placeholder": "​",
            "style": "IPY_MODEL_7d279525cc4d4b51a7b989fe3ff954ad",
            "value": " 100/100 [00:25&lt;00:00,  5.39it/s]"
          }
        },
        "8a69dc47cd8f4905a4691fbc422c2822": {
          "model_module": "@jupyter-widgets/controls",
          "model_module_version": "1.5.0",
          "model_name": "HTMLModel",
          "state": {
            "_dom_classes": [],
            "_model_module": "@jupyter-widgets/controls",
            "_model_module_version": "1.5.0",
            "_model_name": "HTMLModel",
            "_view_count": null,
            "_view_module": "@jupyter-widgets/controls",
            "_view_module_version": "1.5.0",
            "_view_name": "HTMLView",
            "description": "",
            "description_tooltip": null,
            "layout": "IPY_MODEL_63cff88423c44242a5d1edea71806fdd",
            "placeholder": "​",
            "style": "IPY_MODEL_cd8c418a35394da7bd3ebd573b01d2ea",
            "value": " 10/10 [00:00&lt;00:00, 12.85it/s]"
          }
        },
        "8c57fb2b7d3d4b529477d2de90b4f733": {
          "model_module": "@jupyter-widgets/controls",
          "model_module_version": "1.5.0",
          "model_name": "ProgressStyleModel",
          "state": {
            "_model_module": "@jupyter-widgets/controls",
            "_model_module_version": "1.5.0",
            "_model_name": "ProgressStyleModel",
            "_view_count": null,
            "_view_module": "@jupyter-widgets/base",
            "_view_module_version": "1.2.0",
            "_view_name": "StyleView",
            "bar_color": null,
            "description_width": ""
          }
        },
        "8ec61fe10d9f4aed9f9d6d03cc014292": {
          "model_module": "@jupyter-widgets/controls",
          "model_module_version": "1.5.0",
          "model_name": "HBoxModel",
          "state": {
            "_dom_classes": [],
            "_model_module": "@jupyter-widgets/controls",
            "_model_module_version": "1.5.0",
            "_model_name": "HBoxModel",
            "_view_count": null,
            "_view_module": "@jupyter-widgets/controls",
            "_view_module_version": "1.5.0",
            "_view_name": "HBoxView",
            "box_style": "",
            "children": [
              "IPY_MODEL_554939e0bc0d401ebe2f02b349ee0bb2",
              "IPY_MODEL_c9c48402ca13477d8c6a6f847ae10fb6",
              "IPY_MODEL_8a69dc47cd8f4905a4691fbc422c2822"
            ],
            "layout": "IPY_MODEL_a70f68d6ce354a6fb6f22a9125ba2391"
          }
        },
        "953b11c49ed940a88e2a80509f601f93": {
          "model_module": "@jupyter-widgets/base",
          "model_module_version": "1.2.0",
          "model_name": "LayoutModel",
          "state": {
            "_model_module": "@jupyter-widgets/base",
            "_model_module_version": "1.2.0",
            "_model_name": "LayoutModel",
            "_view_count": null,
            "_view_module": "@jupyter-widgets/base",
            "_view_module_version": "1.2.0",
            "_view_name": "LayoutView",
            "align_content": null,
            "align_items": null,
            "align_self": null,
            "border": null,
            "bottom": null,
            "display": null,
            "flex": null,
            "flex_flow": null,
            "grid_area": null,
            "grid_auto_columns": null,
            "grid_auto_flow": null,
            "grid_auto_rows": null,
            "grid_column": null,
            "grid_gap": null,
            "grid_row": null,
            "grid_template_areas": null,
            "grid_template_columns": null,
            "grid_template_rows": null,
            "height": null,
            "justify_content": null,
            "justify_items": null,
            "left": null,
            "margin": null,
            "max_height": null,
            "max_width": null,
            "min_height": null,
            "min_width": null,
            "object_fit": null,
            "object_position": null,
            "order": null,
            "overflow": null,
            "overflow_x": null,
            "overflow_y": null,
            "padding": null,
            "right": null,
            "top": null,
            "visibility": null,
            "width": null
          }
        },
        "a70f68d6ce354a6fb6f22a9125ba2391": {
          "model_module": "@jupyter-widgets/base",
          "model_module_version": "1.2.0",
          "model_name": "LayoutModel",
          "state": {
            "_model_module": "@jupyter-widgets/base",
            "_model_module_version": "1.2.0",
            "_model_name": "LayoutModel",
            "_view_count": null,
            "_view_module": "@jupyter-widgets/base",
            "_view_module_version": "1.2.0",
            "_view_name": "LayoutView",
            "align_content": null,
            "align_items": null,
            "align_self": null,
            "border": null,
            "bottom": null,
            "display": null,
            "flex": null,
            "flex_flow": null,
            "grid_area": null,
            "grid_auto_columns": null,
            "grid_auto_flow": null,
            "grid_auto_rows": null,
            "grid_column": null,
            "grid_gap": null,
            "grid_row": null,
            "grid_template_areas": null,
            "grid_template_columns": null,
            "grid_template_rows": null,
            "height": null,
            "justify_content": null,
            "justify_items": null,
            "left": null,
            "margin": null,
            "max_height": null,
            "max_width": null,
            "min_height": null,
            "min_width": null,
            "object_fit": null,
            "object_position": null,
            "order": null,
            "overflow": null,
            "overflow_x": null,
            "overflow_y": null,
            "padding": null,
            "right": null,
            "top": null,
            "visibility": null,
            "width": null
          }
        },
        "a7e5b02c18374508accc7b356b2fa188": {
          "model_module": "@jupyter-widgets/base",
          "model_module_version": "1.2.0",
          "model_name": "LayoutModel",
          "state": {
            "_model_module": "@jupyter-widgets/base",
            "_model_module_version": "1.2.0",
            "_model_name": "LayoutModel",
            "_view_count": null,
            "_view_module": "@jupyter-widgets/base",
            "_view_module_version": "1.2.0",
            "_view_name": "LayoutView",
            "align_content": null,
            "align_items": null,
            "align_self": null,
            "border": null,
            "bottom": null,
            "display": null,
            "flex": null,
            "flex_flow": null,
            "grid_area": null,
            "grid_auto_columns": null,
            "grid_auto_flow": null,
            "grid_auto_rows": null,
            "grid_column": null,
            "grid_gap": null,
            "grid_row": null,
            "grid_template_areas": null,
            "grid_template_columns": null,
            "grid_template_rows": null,
            "height": null,
            "justify_content": null,
            "justify_items": null,
            "left": null,
            "margin": null,
            "max_height": null,
            "max_width": null,
            "min_height": null,
            "min_width": null,
            "object_fit": null,
            "object_position": null,
            "order": null,
            "overflow": null,
            "overflow_x": null,
            "overflow_y": null,
            "padding": null,
            "right": null,
            "top": null,
            "visibility": null,
            "width": null
          }
        },
        "b1a845c366374d8c9d2b6565985844eb": {
          "model_module": "@jupyter-widgets/controls",
          "model_module_version": "1.5.0",
          "model_name": "DescriptionStyleModel",
          "state": {
            "_model_module": "@jupyter-widgets/controls",
            "_model_module_version": "1.5.0",
            "_model_name": "DescriptionStyleModel",
            "_view_count": null,
            "_view_module": "@jupyter-widgets/base",
            "_view_module_version": "1.2.0",
            "_view_name": "StyleView",
            "description_width": ""
          }
        },
        "b54a21960cdc47c7a6e03519e7f2f4bd": {
          "model_module": "@jupyter-widgets/controls",
          "model_module_version": "1.5.0",
          "model_name": "HTMLModel",
          "state": {
            "_dom_classes": [],
            "_model_module": "@jupyter-widgets/controls",
            "_model_module_version": "1.5.0",
            "_model_name": "HTMLModel",
            "_view_count": null,
            "_view_module": "@jupyter-widgets/controls",
            "_view_module_version": "1.5.0",
            "_view_name": "HTMLView",
            "description": "",
            "description_tooltip": null,
            "layout": "IPY_MODEL_17c387fc98324a1a91f60fb202253a37",
            "placeholder": "​",
            "style": "IPY_MODEL_0696bedc441346268e08b3d635ec525d",
            "value": "100%"
          }
        },
        "bc48f7058f7541b69baf49619c44a897": {
          "model_module": "@jupyter-widgets/controls",
          "model_module_version": "1.5.0",
          "model_name": "HBoxModel",
          "state": {
            "_dom_classes": [],
            "_model_module": "@jupyter-widgets/controls",
            "_model_module_version": "1.5.0",
            "_model_name": "HBoxModel",
            "_view_count": null,
            "_view_module": "@jupyter-widgets/controls",
            "_view_module_version": "1.5.0",
            "_view_name": "HBoxView",
            "box_style": "",
            "children": [
              "IPY_MODEL_b54a21960cdc47c7a6e03519e7f2f4bd",
              "IPY_MODEL_f8a49711d890450e8623d8a2010dc147",
              "IPY_MODEL_839108781be64b14be6364a218bd2bca"
            ],
            "layout": "IPY_MODEL_edfd1f01bc254a4a81188424e174812f"
          }
        },
        "c952f4076a4041e9a8fdbb84589031e8": {
          "model_module": "@jupyter-widgets/base",
          "model_module_version": "1.2.0",
          "model_name": "LayoutModel",
          "state": {
            "_model_module": "@jupyter-widgets/base",
            "_model_module_version": "1.2.0",
            "_model_name": "LayoutModel",
            "_view_count": null,
            "_view_module": "@jupyter-widgets/base",
            "_view_module_version": "1.2.0",
            "_view_name": "LayoutView",
            "align_content": null,
            "align_items": null,
            "align_self": null,
            "border": null,
            "bottom": null,
            "display": null,
            "flex": null,
            "flex_flow": null,
            "grid_area": null,
            "grid_auto_columns": null,
            "grid_auto_flow": null,
            "grid_auto_rows": null,
            "grid_column": null,
            "grid_gap": null,
            "grid_row": null,
            "grid_template_areas": null,
            "grid_template_columns": null,
            "grid_template_rows": null,
            "height": null,
            "justify_content": null,
            "justify_items": null,
            "left": null,
            "margin": null,
            "max_height": null,
            "max_width": null,
            "min_height": null,
            "min_width": null,
            "object_fit": null,
            "object_position": null,
            "order": null,
            "overflow": null,
            "overflow_x": null,
            "overflow_y": null,
            "padding": null,
            "right": null,
            "top": null,
            "visibility": null,
            "width": null
          }
        },
        "c9c48402ca13477d8c6a6f847ae10fb6": {
          "model_module": "@jupyter-widgets/controls",
          "model_module_version": "1.5.0",
          "model_name": "FloatProgressModel",
          "state": {
            "_dom_classes": [],
            "_model_module": "@jupyter-widgets/controls",
            "_model_module_version": "1.5.0",
            "_model_name": "FloatProgressModel",
            "_view_count": null,
            "_view_module": "@jupyter-widgets/controls",
            "_view_module_version": "1.5.0",
            "_view_name": "ProgressView",
            "bar_style": "success",
            "description": "",
            "description_tooltip": null,
            "layout": "IPY_MODEL_f99be1a461384a99945695302a5a2e65",
            "max": 10,
            "min": 0,
            "orientation": "horizontal",
            "style": "IPY_MODEL_8c57fb2b7d3d4b529477d2de90b4f733",
            "value": 10
          }
        },
        "cd8c418a35394da7bd3ebd573b01d2ea": {
          "model_module": "@jupyter-widgets/controls",
          "model_module_version": "1.5.0",
          "model_name": "DescriptionStyleModel",
          "state": {
            "_model_module": "@jupyter-widgets/controls",
            "_model_module_version": "1.5.0",
            "_model_name": "DescriptionStyleModel",
            "_view_count": null,
            "_view_module": "@jupyter-widgets/base",
            "_view_module_version": "1.2.0",
            "_view_name": "StyleView",
            "description_width": ""
          }
        },
        "d2a64abc0bfa49f9a42aee44cbb9425c": {
          "model_module": "@jupyter-widgets/controls",
          "model_module_version": "1.5.0",
          "model_name": "ProgressStyleModel",
          "state": {
            "_model_module": "@jupyter-widgets/controls",
            "_model_module_version": "1.5.0",
            "_model_name": "ProgressStyleModel",
            "_view_count": null,
            "_view_module": "@jupyter-widgets/base",
            "_view_module_version": "1.2.0",
            "_view_name": "StyleView",
            "bar_color": null,
            "description_width": ""
          }
        },
        "d92ee180d2b7459c9aad25b2064db339": {
          "model_module": "@jupyter-widgets/base",
          "model_module_version": "1.2.0",
          "model_name": "LayoutModel",
          "state": {
            "_model_module": "@jupyter-widgets/base",
            "_model_module_version": "1.2.0",
            "_model_name": "LayoutModel",
            "_view_count": null,
            "_view_module": "@jupyter-widgets/base",
            "_view_module_version": "1.2.0",
            "_view_name": "LayoutView",
            "align_content": null,
            "align_items": null,
            "align_self": null,
            "border": null,
            "bottom": null,
            "display": null,
            "flex": null,
            "flex_flow": null,
            "grid_area": null,
            "grid_auto_columns": null,
            "grid_auto_flow": null,
            "grid_auto_rows": null,
            "grid_column": null,
            "grid_gap": null,
            "grid_row": null,
            "grid_template_areas": null,
            "grid_template_columns": null,
            "grid_template_rows": null,
            "height": null,
            "justify_content": null,
            "justify_items": null,
            "left": null,
            "margin": null,
            "max_height": null,
            "max_width": null,
            "min_height": null,
            "min_width": null,
            "object_fit": null,
            "object_position": null,
            "order": null,
            "overflow": null,
            "overflow_x": null,
            "overflow_y": null,
            "padding": null,
            "right": null,
            "top": null,
            "visibility": null,
            "width": null
          }
        },
        "e6b8d55f3e4d4f82ab97a1e5b87e3cb7": {
          "model_module": "@jupyter-widgets/base",
          "model_module_version": "1.2.0",
          "model_name": "LayoutModel",
          "state": {
            "_model_module": "@jupyter-widgets/base",
            "_model_module_version": "1.2.0",
            "_model_name": "LayoutModel",
            "_view_count": null,
            "_view_module": "@jupyter-widgets/base",
            "_view_module_version": "1.2.0",
            "_view_name": "LayoutView",
            "align_content": null,
            "align_items": null,
            "align_self": null,
            "border": null,
            "bottom": null,
            "display": null,
            "flex": null,
            "flex_flow": null,
            "grid_area": null,
            "grid_auto_columns": null,
            "grid_auto_flow": null,
            "grid_auto_rows": null,
            "grid_column": null,
            "grid_gap": null,
            "grid_row": null,
            "grid_template_areas": null,
            "grid_template_columns": null,
            "grid_template_rows": null,
            "height": null,
            "justify_content": null,
            "justify_items": null,
            "left": null,
            "margin": null,
            "max_height": null,
            "max_width": null,
            "min_height": null,
            "min_width": null,
            "object_fit": null,
            "object_position": null,
            "order": null,
            "overflow": null,
            "overflow_x": null,
            "overflow_y": null,
            "padding": null,
            "right": null,
            "top": null,
            "visibility": null,
            "width": null
          }
        },
        "edfd1f01bc254a4a81188424e174812f": {
          "model_module": "@jupyter-widgets/base",
          "model_module_version": "1.2.0",
          "model_name": "LayoutModel",
          "state": {
            "_model_module": "@jupyter-widgets/base",
            "_model_module_version": "1.2.0",
            "_model_name": "LayoutModel",
            "_view_count": null,
            "_view_module": "@jupyter-widgets/base",
            "_view_module_version": "1.2.0",
            "_view_name": "LayoutView",
            "align_content": null,
            "align_items": null,
            "align_self": null,
            "border": null,
            "bottom": null,
            "display": null,
            "flex": null,
            "flex_flow": null,
            "grid_area": null,
            "grid_auto_columns": null,
            "grid_auto_flow": null,
            "grid_auto_rows": null,
            "grid_column": null,
            "grid_gap": null,
            "grid_row": null,
            "grid_template_areas": null,
            "grid_template_columns": null,
            "grid_template_rows": null,
            "height": null,
            "justify_content": null,
            "justify_items": null,
            "left": null,
            "margin": null,
            "max_height": null,
            "max_width": null,
            "min_height": null,
            "min_width": null,
            "object_fit": null,
            "object_position": null,
            "order": null,
            "overflow": null,
            "overflow_x": null,
            "overflow_y": null,
            "padding": null,
            "right": null,
            "top": null,
            "visibility": null,
            "width": null
          }
        },
        "f8a49711d890450e8623d8a2010dc147": {
          "model_module": "@jupyter-widgets/controls",
          "model_module_version": "1.5.0",
          "model_name": "FloatProgressModel",
          "state": {
            "_dom_classes": [],
            "_model_module": "@jupyter-widgets/controls",
            "_model_module_version": "1.5.0",
            "_model_name": "FloatProgressModel",
            "_view_count": null,
            "_view_module": "@jupyter-widgets/controls",
            "_view_module_version": "1.5.0",
            "_view_name": "ProgressView",
            "bar_style": "success",
            "description": "",
            "description_tooltip": null,
            "layout": "IPY_MODEL_e6b8d55f3e4d4f82ab97a1e5b87e3cb7",
            "max": 100,
            "min": 0,
            "orientation": "horizontal",
            "style": "IPY_MODEL_5aa39411fe4b432db3b8647715bb1246",
            "value": 100
          }
        },
        "f99be1a461384a99945695302a5a2e65": {
          "model_module": "@jupyter-widgets/base",
          "model_module_version": "1.2.0",
          "model_name": "LayoutModel",
          "state": {
            "_model_module": "@jupyter-widgets/base",
            "_model_module_version": "1.2.0",
            "_model_name": "LayoutModel",
            "_view_count": null,
            "_view_module": "@jupyter-widgets/base",
            "_view_module_version": "1.2.0",
            "_view_name": "LayoutView",
            "align_content": null,
            "align_items": null,
            "align_self": null,
            "border": null,
            "bottom": null,
            "display": null,
            "flex": null,
            "flex_flow": null,
            "grid_area": null,
            "grid_auto_columns": null,
            "grid_auto_flow": null,
            "grid_auto_rows": null,
            "grid_column": null,
            "grid_gap": null,
            "grid_row": null,
            "grid_template_areas": null,
            "grid_template_columns": null,
            "grid_template_rows": null,
            "height": null,
            "justify_content": null,
            "justify_items": null,
            "left": null,
            "margin": null,
            "max_height": null,
            "max_width": null,
            "min_height": null,
            "min_width": null,
            "object_fit": null,
            "object_position": null,
            "order": null,
            "overflow": null,
            "overflow_x": null,
            "overflow_y": null,
            "padding": null,
            "right": null,
            "top": null,
            "visibility": null,
            "width": null
          }
        }
      }
    }
  },
  "nbformat": 4,
  "nbformat_minor": 0
}